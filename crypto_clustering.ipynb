{
 "cells": [
  {
   "cell_type": "markdown",
   "metadata": {},
   "source": [
    "# Clustering Crypto"
   ]
  },
  {
   "cell_type": "code",
   "execution_count": 42,
   "metadata": {},
   "outputs": [],
   "source": [
    "# Initial imports\n",
    "import pandas as pd\n",
    "import hvplot.pandas\n",
    "import plotly.express as px\n",
    "from sklearn.preprocessing import StandardScaler, MinMaxScaler\n",
    "from sklearn.decomposition import PCA\n",
    "from sklearn.cluster import KMeans\n"
   ]
  },
  {
   "cell_type": "markdown",
   "metadata": {},
   "source": [
    "### Deliverable 1: Preprocessing the Data for PCA"
   ]
  },
  {
   "cell_type": "code",
   "execution_count": 2,
   "metadata": {},
   "outputs": [
    {
     "data": {
      "text/html": [
       "<div>\n",
       "<style scoped>\n",
       "    .dataframe tbody tr th:only-of-type {\n",
       "        vertical-align: middle;\n",
       "    }\n",
       "\n",
       "    .dataframe tbody tr th {\n",
       "        vertical-align: top;\n",
       "    }\n",
       "\n",
       "    .dataframe thead th {\n",
       "        text-align: right;\n",
       "    }\n",
       "</style>\n",
       "<table border=\"1\" class=\"dataframe\">\n",
       "  <thead>\n",
       "    <tr style=\"text-align: right;\">\n",
       "      <th></th>\n",
       "      <th>Unnamed: 0</th>\n",
       "      <th>CoinName</th>\n",
       "      <th>Algorithm</th>\n",
       "      <th>IsTrading</th>\n",
       "      <th>ProofType</th>\n",
       "      <th>TotalCoinsMined</th>\n",
       "      <th>TotalCoinSupply</th>\n",
       "    </tr>\n",
       "  </thead>\n",
       "  <tbody>\n",
       "    <tr>\n",
       "      <th>0</th>\n",
       "      <td>42</td>\n",
       "      <td>42 Coin</td>\n",
       "      <td>Scrypt</td>\n",
       "      <td>True</td>\n",
       "      <td>PoW/PoS</td>\n",
       "      <td>4.199995e+01</td>\n",
       "      <td>42</td>\n",
       "    </tr>\n",
       "    <tr>\n",
       "      <th>1</th>\n",
       "      <td>365</td>\n",
       "      <td>365Coin</td>\n",
       "      <td>X11</td>\n",
       "      <td>True</td>\n",
       "      <td>PoW/PoS</td>\n",
       "      <td>NaN</td>\n",
       "      <td>2300000000</td>\n",
       "    </tr>\n",
       "    <tr>\n",
       "      <th>2</th>\n",
       "      <td>404</td>\n",
       "      <td>404Coin</td>\n",
       "      <td>Scrypt</td>\n",
       "      <td>True</td>\n",
       "      <td>PoW/PoS</td>\n",
       "      <td>1.055185e+09</td>\n",
       "      <td>532000000</td>\n",
       "    </tr>\n",
       "    <tr>\n",
       "      <th>3</th>\n",
       "      <td>611</td>\n",
       "      <td>SixEleven</td>\n",
       "      <td>SHA-256</td>\n",
       "      <td>True</td>\n",
       "      <td>PoW</td>\n",
       "      <td>NaN</td>\n",
       "      <td>611000</td>\n",
       "    </tr>\n",
       "    <tr>\n",
       "      <th>4</th>\n",
       "      <td>808</td>\n",
       "      <td>808</td>\n",
       "      <td>SHA-256</td>\n",
       "      <td>True</td>\n",
       "      <td>PoW/PoS</td>\n",
       "      <td>0.000000e+00</td>\n",
       "      <td>0</td>\n",
       "    </tr>\n",
       "  </tbody>\n",
       "</table>\n",
       "</div>"
      ],
      "text/plain": [
       "  Unnamed: 0   CoinName Algorithm  IsTrading ProofType  TotalCoinsMined  \\\n",
       "0         42    42 Coin    Scrypt       True   PoW/PoS     4.199995e+01   \n",
       "1        365    365Coin       X11       True   PoW/PoS              NaN   \n",
       "2        404    404Coin    Scrypt       True   PoW/PoS     1.055185e+09   \n",
       "3        611  SixEleven   SHA-256       True       PoW              NaN   \n",
       "4        808        808   SHA-256       True   PoW/PoS     0.000000e+00   \n",
       "\n",
       "  TotalCoinSupply  \n",
       "0              42  \n",
       "1      2300000000  \n",
       "2       532000000  \n",
       "3          611000  \n",
       "4               0  "
      ]
     },
     "execution_count": 2,
     "metadata": {},
     "output_type": "execute_result"
    }
   ],
   "source": [
    "# Load the crypto_data.csv dataset.\n",
    "crypto_df = pd.read_csv(\"crypto_data.csv\")\n",
    "crypto_df.head()"
   ]
  },
  {
   "cell_type": "code",
   "execution_count": 3,
   "metadata": {},
   "outputs": [
    {
     "data": {
      "text/plain": [
       "Unnamed: 0          object\n",
       "CoinName            object\n",
       "Algorithm           object\n",
       "IsTrading             bool\n",
       "ProofType           object\n",
       "TotalCoinsMined    float64\n",
       "TotalCoinSupply     object\n",
       "dtype: object"
      ]
     },
     "execution_count": 3,
     "metadata": {},
     "output_type": "execute_result"
    }
   ],
   "source": [
    "crypto_df.dtypes"
   ]
  },
  {
   "cell_type": "code",
   "execution_count": 4,
   "metadata": {},
   "outputs": [
    {
     "data": {
      "text/html": [
       "<div>\n",
       "<style scoped>\n",
       "    .dataframe tbody tr th:only-of-type {\n",
       "        vertical-align: middle;\n",
       "    }\n",
       "\n",
       "    .dataframe tbody tr th {\n",
       "        vertical-align: top;\n",
       "    }\n",
       "\n",
       "    .dataframe thead th {\n",
       "        text-align: right;\n",
       "    }\n",
       "</style>\n",
       "<table border=\"1\" class=\"dataframe\">\n",
       "  <thead>\n",
       "    <tr style=\"text-align: right;\">\n",
       "      <th></th>\n",
       "      <th>Unnamed: 0</th>\n",
       "      <th>CoinName</th>\n",
       "      <th>Algorithm</th>\n",
       "      <th>IsTrading</th>\n",
       "      <th>ProofType</th>\n",
       "      <th>TotalCoinsMined</th>\n",
       "      <th>TotalCoinSupply</th>\n",
       "    </tr>\n",
       "  </thead>\n",
       "  <tbody>\n",
       "    <tr>\n",
       "      <th>0</th>\n",
       "      <td>42</td>\n",
       "      <td>42 Coin</td>\n",
       "      <td>Scrypt</td>\n",
       "      <td>True</td>\n",
       "      <td>PoW/PoS</td>\n",
       "      <td>4.199995e+01</td>\n",
       "      <td>42</td>\n",
       "    </tr>\n",
       "    <tr>\n",
       "      <th>1</th>\n",
       "      <td>365</td>\n",
       "      <td>365Coin</td>\n",
       "      <td>X11</td>\n",
       "      <td>True</td>\n",
       "      <td>PoW/PoS</td>\n",
       "      <td>NaN</td>\n",
       "      <td>2300000000</td>\n",
       "    </tr>\n",
       "    <tr>\n",
       "      <th>2</th>\n",
       "      <td>404</td>\n",
       "      <td>404Coin</td>\n",
       "      <td>Scrypt</td>\n",
       "      <td>True</td>\n",
       "      <td>PoW/PoS</td>\n",
       "      <td>1.055185e+09</td>\n",
       "      <td>532000000</td>\n",
       "    </tr>\n",
       "    <tr>\n",
       "      <th>3</th>\n",
       "      <td>611</td>\n",
       "      <td>SixEleven</td>\n",
       "      <td>SHA-256</td>\n",
       "      <td>True</td>\n",
       "      <td>PoW</td>\n",
       "      <td>NaN</td>\n",
       "      <td>611000</td>\n",
       "    </tr>\n",
       "    <tr>\n",
       "      <th>4</th>\n",
       "      <td>808</td>\n",
       "      <td>808</td>\n",
       "      <td>SHA-256</td>\n",
       "      <td>True</td>\n",
       "      <td>PoW/PoS</td>\n",
       "      <td>0.000000e+00</td>\n",
       "      <td>0</td>\n",
       "    </tr>\n",
       "  </tbody>\n",
       "</table>\n",
       "</div>"
      ],
      "text/plain": [
       "  Unnamed: 0   CoinName Algorithm  IsTrading ProofType  TotalCoinsMined  \\\n",
       "0         42    42 Coin    Scrypt       True   PoW/PoS     4.199995e+01   \n",
       "1        365    365Coin       X11       True   PoW/PoS              NaN   \n",
       "2        404    404Coin    Scrypt       True   PoW/PoS     1.055185e+09   \n",
       "3        611  SixEleven   SHA-256       True       PoW              NaN   \n",
       "4        808        808   SHA-256       True   PoW/PoS     0.000000e+00   \n",
       "\n",
       "  TotalCoinSupply  \n",
       "0              42  \n",
       "1      2300000000  \n",
       "2       532000000  \n",
       "3          611000  \n",
       "4               0  "
      ]
     },
     "execution_count": 4,
     "metadata": {},
     "output_type": "execute_result"
    }
   ],
   "source": [
    "# Keep all the cryptocurrencies that are being traded.\n",
    "crypto_df = crypto_df[crypto_df.IsTrading == True]\n",
    "crypto_df.head()"
   ]
  },
  {
   "cell_type": "code",
   "execution_count": 5,
   "metadata": {},
   "outputs": [],
   "source": [
    "# Remove the \"IsTrading\" column. \n",
    "crypto_df = crypto_df.drop([\"IsTrading\"], axis =1)"
   ]
  },
  {
   "cell_type": "code",
   "execution_count": 6,
   "metadata": {},
   "outputs": [
    {
     "data": {
      "text/html": [
       "<div>\n",
       "<style scoped>\n",
       "    .dataframe tbody tr th:only-of-type {\n",
       "        vertical-align: middle;\n",
       "    }\n",
       "\n",
       "    .dataframe tbody tr th {\n",
       "        vertical-align: top;\n",
       "    }\n",
       "\n",
       "    .dataframe thead th {\n",
       "        text-align: right;\n",
       "    }\n",
       "</style>\n",
       "<table border=\"1\" class=\"dataframe\">\n",
       "  <thead>\n",
       "    <tr style=\"text-align: right;\">\n",
       "      <th></th>\n",
       "      <th>Unnamed: 0</th>\n",
       "      <th>CoinName</th>\n",
       "      <th>Algorithm</th>\n",
       "      <th>ProofType</th>\n",
       "      <th>TotalCoinsMined</th>\n",
       "      <th>TotalCoinSupply</th>\n",
       "    </tr>\n",
       "  </thead>\n",
       "  <tbody>\n",
       "    <tr>\n",
       "      <th>0</th>\n",
       "      <td>42</td>\n",
       "      <td>42 Coin</td>\n",
       "      <td>Scrypt</td>\n",
       "      <td>PoW/PoS</td>\n",
       "      <td>4.199995e+01</td>\n",
       "      <td>42</td>\n",
       "    </tr>\n",
       "    <tr>\n",
       "      <th>1</th>\n",
       "      <td>365</td>\n",
       "      <td>365Coin</td>\n",
       "      <td>X11</td>\n",
       "      <td>PoW/PoS</td>\n",
       "      <td>NaN</td>\n",
       "      <td>2300000000</td>\n",
       "    </tr>\n",
       "    <tr>\n",
       "      <th>2</th>\n",
       "      <td>404</td>\n",
       "      <td>404Coin</td>\n",
       "      <td>Scrypt</td>\n",
       "      <td>PoW/PoS</td>\n",
       "      <td>1.055185e+09</td>\n",
       "      <td>532000000</td>\n",
       "    </tr>\n",
       "    <tr>\n",
       "      <th>3</th>\n",
       "      <td>611</td>\n",
       "      <td>SixEleven</td>\n",
       "      <td>SHA-256</td>\n",
       "      <td>PoW</td>\n",
       "      <td>NaN</td>\n",
       "      <td>611000</td>\n",
       "    </tr>\n",
       "    <tr>\n",
       "      <th>4</th>\n",
       "      <td>808</td>\n",
       "      <td>808</td>\n",
       "      <td>SHA-256</td>\n",
       "      <td>PoW/PoS</td>\n",
       "      <td>0.000000e+00</td>\n",
       "      <td>0</td>\n",
       "    </tr>\n",
       "  </tbody>\n",
       "</table>\n",
       "</div>"
      ],
      "text/plain": [
       "  Unnamed: 0   CoinName Algorithm ProofType  TotalCoinsMined TotalCoinSupply\n",
       "0         42    42 Coin    Scrypt   PoW/PoS     4.199995e+01              42\n",
       "1        365    365Coin       X11   PoW/PoS              NaN      2300000000\n",
       "2        404    404Coin    Scrypt   PoW/PoS     1.055185e+09       532000000\n",
       "3        611  SixEleven   SHA-256       PoW              NaN          611000\n",
       "4        808        808   SHA-256   PoW/PoS     0.000000e+00               0"
      ]
     },
     "execution_count": 6,
     "metadata": {},
     "output_type": "execute_result"
    }
   ],
   "source": [
    "crypto_df.head()"
   ]
  },
  {
   "cell_type": "code",
   "execution_count": 7,
   "metadata": {},
   "outputs": [
    {
     "data": {
      "text/html": [
       "<div>\n",
       "<style scoped>\n",
       "    .dataframe tbody tr th:only-of-type {\n",
       "        vertical-align: middle;\n",
       "    }\n",
       "\n",
       "    .dataframe tbody tr th {\n",
       "        vertical-align: top;\n",
       "    }\n",
       "\n",
       "    .dataframe thead th {\n",
       "        text-align: right;\n",
       "    }\n",
       "</style>\n",
       "<table border=\"1\" class=\"dataframe\">\n",
       "  <thead>\n",
       "    <tr style=\"text-align: right;\">\n",
       "      <th></th>\n",
       "      <th>Unnamed: 0</th>\n",
       "      <th>CoinName</th>\n",
       "      <th>Algorithm</th>\n",
       "      <th>ProofType</th>\n",
       "      <th>TotalCoinsMined</th>\n",
       "      <th>TotalCoinSupply</th>\n",
       "    </tr>\n",
       "  </thead>\n",
       "  <tbody>\n",
       "    <tr>\n",
       "      <th>0</th>\n",
       "      <td>42</td>\n",
       "      <td>42 Coin</td>\n",
       "      <td>Scrypt</td>\n",
       "      <td>PoW/PoS</td>\n",
       "      <td>4.199995e+01</td>\n",
       "      <td>42</td>\n",
       "    </tr>\n",
       "    <tr>\n",
       "      <th>2</th>\n",
       "      <td>404</td>\n",
       "      <td>404Coin</td>\n",
       "      <td>Scrypt</td>\n",
       "      <td>PoW/PoS</td>\n",
       "      <td>1.055185e+09</td>\n",
       "      <td>532000000</td>\n",
       "    </tr>\n",
       "    <tr>\n",
       "      <th>4</th>\n",
       "      <td>808</td>\n",
       "      <td>808</td>\n",
       "      <td>SHA-256</td>\n",
       "      <td>PoW/PoS</td>\n",
       "      <td>0.000000e+00</td>\n",
       "      <td>0</td>\n",
       "    </tr>\n",
       "    <tr>\n",
       "      <th>5</th>\n",
       "      <td>1337</td>\n",
       "      <td>EliteCoin</td>\n",
       "      <td>X13</td>\n",
       "      <td>PoW/PoS</td>\n",
       "      <td>2.927942e+10</td>\n",
       "      <td>314159265359</td>\n",
       "    </tr>\n",
       "    <tr>\n",
       "      <th>7</th>\n",
       "      <td>BTC</td>\n",
       "      <td>Bitcoin</td>\n",
       "      <td>SHA-256</td>\n",
       "      <td>PoW</td>\n",
       "      <td>1.792718e+07</td>\n",
       "      <td>21000000</td>\n",
       "    </tr>\n",
       "    <tr>\n",
       "      <th>...</th>\n",
       "      <td>...</td>\n",
       "      <td>...</td>\n",
       "      <td>...</td>\n",
       "      <td>...</td>\n",
       "      <td>...</td>\n",
       "      <td>...</td>\n",
       "    </tr>\n",
       "    <tr>\n",
       "      <th>1238</th>\n",
       "      <td>ZEPH</td>\n",
       "      <td>ZEPHYR</td>\n",
       "      <td>SHA-256</td>\n",
       "      <td>DPoS</td>\n",
       "      <td>2.000000e+09</td>\n",
       "      <td>2000000000</td>\n",
       "    </tr>\n",
       "    <tr>\n",
       "      <th>1242</th>\n",
       "      <td>GAP</td>\n",
       "      <td>Gapcoin</td>\n",
       "      <td>Scrypt</td>\n",
       "      <td>PoW/PoS</td>\n",
       "      <td>1.493105e+07</td>\n",
       "      <td>250000000</td>\n",
       "    </tr>\n",
       "    <tr>\n",
       "      <th>1245</th>\n",
       "      <td>BDX</td>\n",
       "      <td>Beldex</td>\n",
       "      <td>CryptoNight</td>\n",
       "      <td>PoW</td>\n",
       "      <td>9.802226e+08</td>\n",
       "      <td>1400222610</td>\n",
       "    </tr>\n",
       "    <tr>\n",
       "      <th>1246</th>\n",
       "      <td>ZEN</td>\n",
       "      <td>Horizen</td>\n",
       "      <td>Equihash</td>\n",
       "      <td>PoW</td>\n",
       "      <td>7.296538e+06</td>\n",
       "      <td>21000000</td>\n",
       "    </tr>\n",
       "    <tr>\n",
       "      <th>1247</th>\n",
       "      <td>XBC</td>\n",
       "      <td>BitcoinPlus</td>\n",
       "      <td>Scrypt</td>\n",
       "      <td>PoS</td>\n",
       "      <td>1.283270e+05</td>\n",
       "      <td>1000000</td>\n",
       "    </tr>\n",
       "  </tbody>\n",
       "</table>\n",
       "<p>685 rows × 6 columns</p>\n",
       "</div>"
      ],
      "text/plain": [
       "     Unnamed: 0     CoinName    Algorithm ProofType  TotalCoinsMined  \\\n",
       "0            42      42 Coin       Scrypt   PoW/PoS     4.199995e+01   \n",
       "2           404      404Coin       Scrypt   PoW/PoS     1.055185e+09   \n",
       "4           808          808      SHA-256   PoW/PoS     0.000000e+00   \n",
       "5          1337    EliteCoin          X13   PoW/PoS     2.927942e+10   \n",
       "7           BTC      Bitcoin      SHA-256       PoW     1.792718e+07   \n",
       "...         ...          ...          ...       ...              ...   \n",
       "1238       ZEPH       ZEPHYR      SHA-256      DPoS     2.000000e+09   \n",
       "1242        GAP      Gapcoin       Scrypt   PoW/PoS     1.493105e+07   \n",
       "1245        BDX       Beldex  CryptoNight       PoW     9.802226e+08   \n",
       "1246        ZEN      Horizen     Equihash       PoW     7.296538e+06   \n",
       "1247        XBC  BitcoinPlus       Scrypt       PoS     1.283270e+05   \n",
       "\n",
       "     TotalCoinSupply  \n",
       "0                 42  \n",
       "2          532000000  \n",
       "4                  0  \n",
       "5       314159265359  \n",
       "7           21000000  \n",
       "...              ...  \n",
       "1238      2000000000  \n",
       "1242       250000000  \n",
       "1245      1400222610  \n",
       "1246        21000000  \n",
       "1247         1000000  \n",
       "\n",
       "[685 rows x 6 columns]"
      ]
     },
     "execution_count": 7,
     "metadata": {},
     "output_type": "execute_result"
    }
   ],
   "source": [
    "# Remove rows that have at least 1 null value.\n",
    "crypto_df.dropna()"
   ]
  },
  {
   "cell_type": "code",
   "execution_count": 8,
   "metadata": {},
   "outputs": [],
   "source": [
    "# Keep the rows where coins are mined.\n",
    "crypto_df = crypto_df[crypto_df.TotalCoinsMined > 0]"
   ]
  },
  {
   "cell_type": "code",
   "execution_count": 9,
   "metadata": {},
   "outputs": [
    {
     "data": {
      "text/html": [
       "<div>\n",
       "<style scoped>\n",
       "    .dataframe tbody tr th:only-of-type {\n",
       "        vertical-align: middle;\n",
       "    }\n",
       "\n",
       "    .dataframe tbody tr th {\n",
       "        vertical-align: top;\n",
       "    }\n",
       "\n",
       "    .dataframe thead th {\n",
       "        text-align: right;\n",
       "    }\n",
       "</style>\n",
       "<table border=\"1\" class=\"dataframe\">\n",
       "  <thead>\n",
       "    <tr style=\"text-align: right;\">\n",
       "      <th></th>\n",
       "      <th>Unnamed: 0</th>\n",
       "      <th>CoinName</th>\n",
       "      <th>Algorithm</th>\n",
       "      <th>ProofType</th>\n",
       "      <th>TotalCoinsMined</th>\n",
       "      <th>TotalCoinSupply</th>\n",
       "    </tr>\n",
       "  </thead>\n",
       "  <tbody>\n",
       "    <tr>\n",
       "      <th>0</th>\n",
       "      <td>42</td>\n",
       "      <td>42 Coin</td>\n",
       "      <td>Scrypt</td>\n",
       "      <td>PoW/PoS</td>\n",
       "      <td>4.199995e+01</td>\n",
       "      <td>42</td>\n",
       "    </tr>\n",
       "    <tr>\n",
       "      <th>2</th>\n",
       "      <td>404</td>\n",
       "      <td>404Coin</td>\n",
       "      <td>Scrypt</td>\n",
       "      <td>PoW/PoS</td>\n",
       "      <td>1.055185e+09</td>\n",
       "      <td>532000000</td>\n",
       "    </tr>\n",
       "    <tr>\n",
       "      <th>5</th>\n",
       "      <td>1337</td>\n",
       "      <td>EliteCoin</td>\n",
       "      <td>X13</td>\n",
       "      <td>PoW/PoS</td>\n",
       "      <td>2.927942e+10</td>\n",
       "      <td>314159265359</td>\n",
       "    </tr>\n",
       "    <tr>\n",
       "      <th>7</th>\n",
       "      <td>BTC</td>\n",
       "      <td>Bitcoin</td>\n",
       "      <td>SHA-256</td>\n",
       "      <td>PoW</td>\n",
       "      <td>1.792718e+07</td>\n",
       "      <td>21000000</td>\n",
       "    </tr>\n",
       "    <tr>\n",
       "      <th>8</th>\n",
       "      <td>ETH</td>\n",
       "      <td>Ethereum</td>\n",
       "      <td>Ethash</td>\n",
       "      <td>PoW</td>\n",
       "      <td>1.076842e+08</td>\n",
       "      <td>0</td>\n",
       "    </tr>\n",
       "  </tbody>\n",
       "</table>\n",
       "</div>"
      ],
      "text/plain": [
       "  Unnamed: 0   CoinName Algorithm ProofType  TotalCoinsMined TotalCoinSupply\n",
       "0         42    42 Coin    Scrypt   PoW/PoS     4.199995e+01              42\n",
       "2        404    404Coin    Scrypt   PoW/PoS     1.055185e+09       532000000\n",
       "5       1337  EliteCoin       X13   PoW/PoS     2.927942e+10    314159265359\n",
       "7        BTC    Bitcoin   SHA-256       PoW     1.792718e+07        21000000\n",
       "8        ETH   Ethereum    Ethash       PoW     1.076842e+08               0"
      ]
     },
     "execution_count": 9,
     "metadata": {},
     "output_type": "execute_result"
    }
   ],
   "source": [
    "crypto_df.head()"
   ]
  },
  {
   "cell_type": "code",
   "execution_count": 10,
   "metadata": {},
   "outputs": [],
   "source": [
    "crypto_df = crypto_df.set_index([\"Unnamed: 0\"])"
   ]
  },
  {
   "cell_type": "code",
   "execution_count": 11,
   "metadata": {},
   "outputs": [
    {
     "data": {
      "text/html": [
       "<div>\n",
       "<style scoped>\n",
       "    .dataframe tbody tr th:only-of-type {\n",
       "        vertical-align: middle;\n",
       "    }\n",
       "\n",
       "    .dataframe tbody tr th {\n",
       "        vertical-align: top;\n",
       "    }\n",
       "\n",
       "    .dataframe thead th {\n",
       "        text-align: right;\n",
       "    }\n",
       "</style>\n",
       "<table border=\"1\" class=\"dataframe\">\n",
       "  <thead>\n",
       "    <tr style=\"text-align: right;\">\n",
       "      <th></th>\n",
       "      <th>CoinName</th>\n",
       "      <th>Algorithm</th>\n",
       "      <th>ProofType</th>\n",
       "      <th>TotalCoinsMined</th>\n",
       "      <th>TotalCoinSupply</th>\n",
       "    </tr>\n",
       "    <tr>\n",
       "      <th>Unnamed: 0</th>\n",
       "      <th></th>\n",
       "      <th></th>\n",
       "      <th></th>\n",
       "      <th></th>\n",
       "      <th></th>\n",
       "    </tr>\n",
       "  </thead>\n",
       "  <tbody>\n",
       "    <tr>\n",
       "      <th>42</th>\n",
       "      <td>42 Coin</td>\n",
       "      <td>Scrypt</td>\n",
       "      <td>PoW/PoS</td>\n",
       "      <td>4.199995e+01</td>\n",
       "      <td>42</td>\n",
       "    </tr>\n",
       "    <tr>\n",
       "      <th>404</th>\n",
       "      <td>404Coin</td>\n",
       "      <td>Scrypt</td>\n",
       "      <td>PoW/PoS</td>\n",
       "      <td>1.055185e+09</td>\n",
       "      <td>532000000</td>\n",
       "    </tr>\n",
       "    <tr>\n",
       "      <th>1337</th>\n",
       "      <td>EliteCoin</td>\n",
       "      <td>X13</td>\n",
       "      <td>PoW/PoS</td>\n",
       "      <td>2.927942e+10</td>\n",
       "      <td>314159265359</td>\n",
       "    </tr>\n",
       "    <tr>\n",
       "      <th>BTC</th>\n",
       "      <td>Bitcoin</td>\n",
       "      <td>SHA-256</td>\n",
       "      <td>PoW</td>\n",
       "      <td>1.792718e+07</td>\n",
       "      <td>21000000</td>\n",
       "    </tr>\n",
       "    <tr>\n",
       "      <th>ETH</th>\n",
       "      <td>Ethereum</td>\n",
       "      <td>Ethash</td>\n",
       "      <td>PoW</td>\n",
       "      <td>1.076842e+08</td>\n",
       "      <td>0</td>\n",
       "    </tr>\n",
       "  </tbody>\n",
       "</table>\n",
       "</div>"
      ],
      "text/plain": [
       "             CoinName Algorithm ProofType  TotalCoinsMined TotalCoinSupply\n",
       "Unnamed: 0                                                                \n",
       "42            42 Coin    Scrypt   PoW/PoS     4.199995e+01              42\n",
       "404           404Coin    Scrypt   PoW/PoS     1.055185e+09       532000000\n",
       "1337        EliteCoin       X13   PoW/PoS     2.927942e+10    314159265359\n",
       "BTC           Bitcoin   SHA-256       PoW     1.792718e+07        21000000\n",
       "ETH          Ethereum    Ethash       PoW     1.076842e+08               0"
      ]
     },
     "execution_count": 11,
     "metadata": {},
     "output_type": "execute_result"
    }
   ],
   "source": [
    "crypto_df.head()"
   ]
  },
  {
   "cell_type": "code",
   "execution_count": 12,
   "metadata": {},
   "outputs": [],
   "source": [
    "# Create a new DataFrame that holds only the cryptocurrencies names.\n",
    "cryptonames_df = crypto_df[[\"CoinName\"]]"
   ]
  },
  {
   "cell_type": "code",
   "execution_count": 13,
   "metadata": {},
   "outputs": [
    {
     "data": {
      "text/html": [
       "<div>\n",
       "<style scoped>\n",
       "    .dataframe tbody tr th:only-of-type {\n",
       "        vertical-align: middle;\n",
       "    }\n",
       "\n",
       "    .dataframe tbody tr th {\n",
       "        vertical-align: top;\n",
       "    }\n",
       "\n",
       "    .dataframe thead th {\n",
       "        text-align: right;\n",
       "    }\n",
       "</style>\n",
       "<table border=\"1\" class=\"dataframe\">\n",
       "  <thead>\n",
       "    <tr style=\"text-align: right;\">\n",
       "      <th></th>\n",
       "      <th>CoinName</th>\n",
       "    </tr>\n",
       "    <tr>\n",
       "      <th>Unnamed: 0</th>\n",
       "      <th></th>\n",
       "    </tr>\n",
       "  </thead>\n",
       "  <tbody>\n",
       "    <tr>\n",
       "      <th>42</th>\n",
       "      <td>42 Coin</td>\n",
       "    </tr>\n",
       "    <tr>\n",
       "      <th>404</th>\n",
       "      <td>404Coin</td>\n",
       "    </tr>\n",
       "    <tr>\n",
       "      <th>1337</th>\n",
       "      <td>EliteCoin</td>\n",
       "    </tr>\n",
       "    <tr>\n",
       "      <th>BTC</th>\n",
       "      <td>Bitcoin</td>\n",
       "    </tr>\n",
       "    <tr>\n",
       "      <th>ETH</th>\n",
       "      <td>Ethereum</td>\n",
       "    </tr>\n",
       "  </tbody>\n",
       "</table>\n",
       "</div>"
      ],
      "text/plain": [
       "             CoinName\n",
       "Unnamed: 0           \n",
       "42            42 Coin\n",
       "404           404Coin\n",
       "1337        EliteCoin\n",
       "BTC           Bitcoin\n",
       "ETH          Ethereum"
      ]
     },
     "execution_count": 13,
     "metadata": {},
     "output_type": "execute_result"
    }
   ],
   "source": [
    "cryptonames_df.head()"
   ]
  },
  {
   "cell_type": "code",
   "execution_count": 14,
   "metadata": {},
   "outputs": [
    {
     "data": {
      "text/html": [
       "<div>\n",
       "<style scoped>\n",
       "    .dataframe tbody tr th:only-of-type {\n",
       "        vertical-align: middle;\n",
       "    }\n",
       "\n",
       "    .dataframe tbody tr th {\n",
       "        vertical-align: top;\n",
       "    }\n",
       "\n",
       "    .dataframe thead th {\n",
       "        text-align: right;\n",
       "    }\n",
       "</style>\n",
       "<table border=\"1\" class=\"dataframe\">\n",
       "  <thead>\n",
       "    <tr style=\"text-align: right;\">\n",
       "      <th></th>\n",
       "      <th>Algorithm</th>\n",
       "      <th>ProofType</th>\n",
       "      <th>TotalCoinsMined</th>\n",
       "      <th>TotalCoinSupply</th>\n",
       "    </tr>\n",
       "    <tr>\n",
       "      <th>Unnamed: 0</th>\n",
       "      <th></th>\n",
       "      <th></th>\n",
       "      <th></th>\n",
       "      <th></th>\n",
       "    </tr>\n",
       "  </thead>\n",
       "  <tbody>\n",
       "    <tr>\n",
       "      <th>42</th>\n",
       "      <td>Scrypt</td>\n",
       "      <td>PoW/PoS</td>\n",
       "      <td>4.199995e+01</td>\n",
       "      <td>42</td>\n",
       "    </tr>\n",
       "    <tr>\n",
       "      <th>404</th>\n",
       "      <td>Scrypt</td>\n",
       "      <td>PoW/PoS</td>\n",
       "      <td>1.055185e+09</td>\n",
       "      <td>532000000</td>\n",
       "    </tr>\n",
       "    <tr>\n",
       "      <th>1337</th>\n",
       "      <td>X13</td>\n",
       "      <td>PoW/PoS</td>\n",
       "      <td>2.927942e+10</td>\n",
       "      <td>314159265359</td>\n",
       "    </tr>\n",
       "    <tr>\n",
       "      <th>BTC</th>\n",
       "      <td>SHA-256</td>\n",
       "      <td>PoW</td>\n",
       "      <td>1.792718e+07</td>\n",
       "      <td>21000000</td>\n",
       "    </tr>\n",
       "    <tr>\n",
       "      <th>ETH</th>\n",
       "      <td>Ethash</td>\n",
       "      <td>PoW</td>\n",
       "      <td>1.076842e+08</td>\n",
       "      <td>0</td>\n",
       "    </tr>\n",
       "  </tbody>\n",
       "</table>\n",
       "</div>"
      ],
      "text/plain": [
       "           Algorithm ProofType  TotalCoinsMined TotalCoinSupply\n",
       "Unnamed: 0                                                     \n",
       "42            Scrypt   PoW/PoS     4.199995e+01              42\n",
       "404           Scrypt   PoW/PoS     1.055185e+09       532000000\n",
       "1337             X13   PoW/PoS     2.927942e+10    314159265359\n",
       "BTC          SHA-256       PoW     1.792718e+07        21000000\n",
       "ETH           Ethash       PoW     1.076842e+08               0"
      ]
     },
     "execution_count": 14,
     "metadata": {},
     "output_type": "execute_result"
    }
   ],
   "source": [
    "# Drop the 'CoinName' column since it's not going to be used on the clustering algorithm.\n",
    "crypto_df = crypto_df.drop([\"CoinName\"], axis = 1)\n",
    "crypto_df.head()"
   ]
  },
  {
   "cell_type": "code",
   "execution_count": 15,
   "metadata": {},
   "outputs": [
    {
     "name": "stdout",
     "output_type": "stream",
     "text": [
      "{'1GB AES Pattern Search': 0, '536': 1, 'Argon2d': 2, 'BLAKE256': 3, 'Blake': 4, 'Blake2S': 5, 'Blake2b': 6, 'C11': 7, 'Cloverhash': 8, 'Counterparty': 9, 'CryptoNight': 10, 'CryptoNight Heavy': 11, 'CryptoNight-V7': 12, 'Cryptonight-GPU': 13, 'DPoS': 14, 'Dagger': 15, 'Dagger-Hashimoto': 16, 'ECC 256K1': 17, 'Equihash': 18, 'Equihash+Scrypt': 19, 'Ethash': 20, 'Exosis': 21, 'Green Protocol': 22, 'Groestl': 23, 'HMQ1725': 24, 'HybridScryptHash256': 25, 'IMesh': 26, 'Jump Consistent Hash': 27, 'Keccak': 28, 'Leased POS': 29, 'Lyra2RE': 30, 'Lyra2REv2': 31, 'Lyra2Z': 32, 'M7 POW': 33, 'Multiple': 34, 'NIST5': 35, 'NeoScrypt': 36, 'Ouroboros': 37, 'PHI1612': 38, 'POS 2.0': 39, 'POS 3.0': 40, 'PoS': 41, 'Proof-of-Authority': 42, 'Proof-of-BibleHash': 43, 'QUAIT': 44, 'QuBit': 45, 'Quark': 46, 'SHA-256': 47, 'SHA-256 + Hive': 48, 'SHA-256D': 49, 'SHA-512': 50, 'SHA3': 51, 'Scrypt': 52, 'Semux BFT consensus': 53, 'Shabal256': 54, 'Skein': 55, 'SkunkHash': 56, 'SkunkHash v2 Raptor': 57, 'Stanford Folding': 58, 'TRC10': 59, 'Time Travel': 60, 'Tribus': 61, 'VBFT': 62, 'VeChainThor Authority': 63, 'X11': 64, 'X11GOST': 65, 'X13': 66, 'X14': 67, 'X15': 68, 'X16R': 69, 'XEVAN': 70}\n"
     ]
    }
   ],
   "source": [
    "# Use get_dummies() to create variables for text features.\n",
    "from sklearn.preprocessing import LabelEncoder\n",
    "le = LabelEncoder()\n",
    "crypto_df[\"Algorithm\"] = le.fit_transform(crypto_df[\"Algorithm\"])\n",
    "le_name_mapping = dict(zip(le.classes_, le.transform(le.classes_)))\n",
    "print(le_name_mapping)"
   ]
  },
  {
   "cell_type": "code",
   "execution_count": 16,
   "metadata": {},
   "outputs": [
    {
     "data": {
      "text/html": [
       "<div>\n",
       "<style scoped>\n",
       "    .dataframe tbody tr th:only-of-type {\n",
       "        vertical-align: middle;\n",
       "    }\n",
       "\n",
       "    .dataframe tbody tr th {\n",
       "        vertical-align: top;\n",
       "    }\n",
       "\n",
       "    .dataframe thead th {\n",
       "        text-align: right;\n",
       "    }\n",
       "</style>\n",
       "<table border=\"1\" class=\"dataframe\">\n",
       "  <thead>\n",
       "    <tr style=\"text-align: right;\">\n",
       "      <th></th>\n",
       "      <th>Algorithm</th>\n",
       "      <th>ProofType</th>\n",
       "      <th>TotalCoinsMined</th>\n",
       "      <th>TotalCoinSupply</th>\n",
       "    </tr>\n",
       "    <tr>\n",
       "      <th>Unnamed: 0</th>\n",
       "      <th></th>\n",
       "      <th></th>\n",
       "      <th></th>\n",
       "      <th></th>\n",
       "    </tr>\n",
       "  </thead>\n",
       "  <tbody>\n",
       "    <tr>\n",
       "      <th>42</th>\n",
       "      <td>52</td>\n",
       "      <td>PoW/PoS</td>\n",
       "      <td>4.199995e+01</td>\n",
       "      <td>42</td>\n",
       "    </tr>\n",
       "    <tr>\n",
       "      <th>404</th>\n",
       "      <td>52</td>\n",
       "      <td>PoW/PoS</td>\n",
       "      <td>1.055185e+09</td>\n",
       "      <td>532000000</td>\n",
       "    </tr>\n",
       "    <tr>\n",
       "      <th>1337</th>\n",
       "      <td>66</td>\n",
       "      <td>PoW/PoS</td>\n",
       "      <td>2.927942e+10</td>\n",
       "      <td>314159265359</td>\n",
       "    </tr>\n",
       "    <tr>\n",
       "      <th>BTC</th>\n",
       "      <td>47</td>\n",
       "      <td>PoW</td>\n",
       "      <td>1.792718e+07</td>\n",
       "      <td>21000000</td>\n",
       "    </tr>\n",
       "    <tr>\n",
       "      <th>ETH</th>\n",
       "      <td>20</td>\n",
       "      <td>PoW</td>\n",
       "      <td>1.076842e+08</td>\n",
       "      <td>0</td>\n",
       "    </tr>\n",
       "  </tbody>\n",
       "</table>\n",
       "</div>"
      ],
      "text/plain": [
       "            Algorithm ProofType  TotalCoinsMined TotalCoinSupply\n",
       "Unnamed: 0                                                      \n",
       "42                 52   PoW/PoS     4.199995e+01              42\n",
       "404                52   PoW/PoS     1.055185e+09       532000000\n",
       "1337               66   PoW/PoS     2.927942e+10    314159265359\n",
       "BTC                47       PoW     1.792718e+07        21000000\n",
       "ETH                20       PoW     1.076842e+08               0"
      ]
     },
     "execution_count": 16,
     "metadata": {},
     "output_type": "execute_result"
    }
   ],
   "source": [
    "crypto_df.head()"
   ]
  },
  {
   "cell_type": "code",
   "execution_count": 17,
   "metadata": {},
   "outputs": [
    {
     "name": "stdout",
     "output_type": "stream",
     "text": [
      "{'DPOS': 0, 'DPoS': 1, 'HPoW': 2, 'LPoS': 3, 'POBh': 4, 'PoA': 5, 'PoC': 6, 'PoS': 7, 'PoS/LPoS': 8, 'PoS/PoW': 9, 'PoS/PoW/PoT': 10, 'PoST': 11, 'PoW': 12, 'PoW + Hive': 13, 'PoW and PoS': 14, 'PoW/PoS': 15, 'PoW/PoS ': 16, 'PoW/PoW': 17, 'PoW/nPoS': 18, 'Pos': 19, 'Proof of Authority': 20, 'Proof of Trust': 21, 'TPoS': 22, 'Zero-Knowledge Proof': 23, 'dPoW/PoW': 24}\n"
     ]
    }
   ],
   "source": [
    "le = LabelEncoder()\n",
    "crypto_df[\"ProofType\"] = le.fit_transform(crypto_df[\"ProofType\"])\n",
    "le_name_mapping = dict(zip(le.classes_, le.transform(le.classes_)))\n",
    "print(le_name_mapping)"
   ]
  },
  {
   "cell_type": "code",
   "execution_count": 18,
   "metadata": {},
   "outputs": [
    {
     "name": "stdout",
     "output_type": "stream",
     "text": [
      "[[ 3.76459118e-01  8.91356555e-01 -1.17108170e-01 -1.52870298e-01]\n",
      " [ 3.76459118e-01  8.91356555e-01 -9.39695522e-02 -1.45008997e-01]\n",
      " [ 1.21543803e+00  8.91356555e-01  5.24945609e-01  4.48942416e+00]\n",
      " [ 7.68237937e-02  1.67233875e-03 -1.16715055e-01 -1.52559984e-01]\n",
      " [-1.54120696e+00  1.67233875e-03 -1.14746818e-01 -1.52870298e-01]]\n"
     ]
    }
   ],
   "source": [
    "# Standardize the data with StandardScaler().\n",
    "crypto_scaled = StandardScaler().fit_transform(crypto_df)\n",
    "print(crypto_scaled[0:5])"
   ]
  },
  {
   "cell_type": "markdown",
   "metadata": {},
   "source": [
    "### Deliverable 2: Reducing Data Dimensions Using PCA"
   ]
  },
  {
   "cell_type": "code",
   "execution_count": 19,
   "metadata": {},
   "outputs": [],
   "source": [
    "# Using PCA to reduce dimension to three principal components.\n",
    "pca = PCA(n_components=3)\n",
    "crypto_pca = pca.fit_transform(crypto_scaled)"
   ]
  },
  {
   "cell_type": "code",
   "execution_count": 28,
   "metadata": {},
   "outputs": [
    {
     "data": {
      "text/html": [
       "<div>\n",
       "<style scoped>\n",
       "    .dataframe tbody tr th:only-of-type {\n",
       "        vertical-align: middle;\n",
       "    }\n",
       "\n",
       "    .dataframe tbody tr th {\n",
       "        vertical-align: top;\n",
       "    }\n",
       "\n",
       "    .dataframe thead th {\n",
       "        text-align: right;\n",
       "    }\n",
       "</style>\n",
       "<table border=\"1\" class=\"dataframe\">\n",
       "  <thead>\n",
       "    <tr style=\"text-align: right;\">\n",
       "      <th></th>\n",
       "      <th>Principal Component 1</th>\n",
       "      <th>Principal Component 2</th>\n",
       "      <th>Principal Component 3</th>\n",
       "    </tr>\n",
       "    <tr>\n",
       "      <th>Unnamed: 0</th>\n",
       "      <th></th>\n",
       "      <th></th>\n",
       "      <th></th>\n",
       "    </tr>\n",
       "  </thead>\n",
       "  <tbody>\n",
       "    <tr>\n",
       "      <th>42</th>\n",
       "      <td>-0.417875</td>\n",
       "      <td>0.810296</td>\n",
       "      <td>0.372138</td>\n",
       "    </tr>\n",
       "    <tr>\n",
       "      <th>404</th>\n",
       "      <td>-0.396564</td>\n",
       "      <td>0.815135</td>\n",
       "      <td>0.373256</td>\n",
       "    </tr>\n",
       "    <tr>\n",
       "      <th>1337</th>\n",
       "      <td>3.124076</td>\n",
       "      <td>2.209780</td>\n",
       "      <td>0.504335</td>\n",
       "    </tr>\n",
       "    <tr>\n",
       "      <th>BTC</th>\n",
       "      <td>-0.192083</td>\n",
       "      <td>0.016266</td>\n",
       "      <td>-0.072910</td>\n",
       "    </tr>\n",
       "    <tr>\n",
       "      <th>ETH</th>\n",
       "      <td>-0.044116</td>\n",
       "      <td>-1.167492</td>\n",
       "      <td>1.012525</td>\n",
       "    </tr>\n",
       "  </tbody>\n",
       "</table>\n",
       "</div>"
      ],
      "text/plain": [
       "            Principal Component 1  Principal Component 2  \\\n",
       "Unnamed: 0                                                 \n",
       "42                      -0.417875               0.810296   \n",
       "404                     -0.396564               0.815135   \n",
       "1337                     3.124076               2.209780   \n",
       "BTC                     -0.192083               0.016266   \n",
       "ETH                     -0.044116              -1.167492   \n",
       "\n",
       "            Principal Component 3  \n",
       "Unnamed: 0                         \n",
       "42                       0.372138  \n",
       "404                      0.373256  \n",
       "1337                     0.504335  \n",
       "BTC                     -0.072910  \n",
       "ETH                      1.012525  "
      ]
     },
     "execution_count": 28,
     "metadata": {},
     "output_type": "execute_result"
    }
   ],
   "source": [
    "# Create a DataFrame with the three principal components.\n",
    "df_crypto_pca = pd.DataFrame(\n",
    "    data = crypto_pca, columns = [\"Principal Component 1\", \"Principal Component 2\", \"Principal Component 3\"], index = crypto_df.index\n",
    ")\n",
    "df_crypto_pca.head()"
   ]
  },
  {
   "cell_type": "markdown",
   "metadata": {},
   "source": [
    "### Deliverable 3: Clustering Crytocurrencies Using K-Means\n",
    "\n",
    "#### Finding the Best Value for `k` Using the Elbow Curve"
   ]
  },
  {
   "cell_type": "code",
   "execution_count": 21,
   "metadata": {},
   "outputs": [],
   "source": [
    "import matplotlib.pyplot as plt"
   ]
  },
  {
   "cell_type": "code",
   "execution_count": 22,
   "metadata": {},
   "outputs": [
    {
     "data": {
      "image/png": "[encoded data removed]",
      "text/plain": [
       "<Figure size 640x480 with 1 Axes>"
      ]
     },
     "metadata": {},
     "output_type": "display_data"
    }
   ],
   "source": [
    "# Create an elbow curve to find the best value for K.\n",
    "inertia = []\n",
    "k = list(range(1, 11))\n",
    "\n",
    "# Calculate the inertia for the range of k values\n",
    "for i in k:\n",
    "    km = KMeans(n_clusters=i, random_state=0)\n",
    "    km.fit(df_crypto_pca)\n",
    "    inertia.append(km.inertia_)\n",
    "\n",
    "# Creating the Elbow Curve\n",
    "elbow_data = {\"k\": k, \"inertia\": inertia}\n",
    "df_elbow = pd.DataFrame(elbow_data)\n",
    "\n",
    "plt.plot(df_elbow['k'], df_elbow['inertia'])\n",
    "plt.xticks(list(range(11)))\n",
    "plt.title('Elbow Curve')\n",
    "plt.xlabel('Number of clusters')\n",
    "plt.ylabel('Inertia')\n",
    "plt.show()\n"
   ]
  },
  {
   "cell_type": "markdown",
   "metadata": {},
   "source": [
    "Running K-Means with `k=4`"
   ]
  },
  {
   "cell_type": "code",
   "execution_count": 29,
   "metadata": {},
   "outputs": [
    {
     "data": {
      "text/html": [
       "<div>\n",
       "<style scoped>\n",
       "    .dataframe tbody tr th:only-of-type {\n",
       "        vertical-align: middle;\n",
       "    }\n",
       "\n",
       "    .dataframe tbody tr th {\n",
       "        vertical-align: top;\n",
       "    }\n",
       "\n",
       "    .dataframe thead th {\n",
       "        text-align: right;\n",
       "    }\n",
       "</style>\n",
       "<table border=\"1\" class=\"dataframe\">\n",
       "  <thead>\n",
       "    <tr style=\"text-align: right;\">\n",
       "      <th></th>\n",
       "      <th>Principal Component 1</th>\n",
       "      <th>Principal Component 2</th>\n",
       "      <th>Principal Component 3</th>\n",
       "      <th>class</th>\n",
       "    </tr>\n",
       "    <tr>\n",
       "      <th>Unnamed: 0</th>\n",
       "      <th></th>\n",
       "      <th></th>\n",
       "      <th></th>\n",
       "      <th></th>\n",
       "    </tr>\n",
       "  </thead>\n",
       "  <tbody>\n",
       "    <tr>\n",
       "      <th>42</th>\n",
       "      <td>-0.417875</td>\n",
       "      <td>0.810296</td>\n",
       "      <td>0.372138</td>\n",
       "      <td>0</td>\n",
       "    </tr>\n",
       "    <tr>\n",
       "      <th>404</th>\n",
       "      <td>-0.396564</td>\n",
       "      <td>0.815135</td>\n",
       "      <td>0.373256</td>\n",
       "      <td>0</td>\n",
       "    </tr>\n",
       "    <tr>\n",
       "      <th>1337</th>\n",
       "      <td>3.124076</td>\n",
       "      <td>2.209780</td>\n",
       "      <td>0.504335</td>\n",
       "      <td>0</td>\n",
       "    </tr>\n",
       "    <tr>\n",
       "      <th>BTC</th>\n",
       "      <td>-0.192083</td>\n",
       "      <td>0.016266</td>\n",
       "      <td>-0.072910</td>\n",
       "      <td>0</td>\n",
       "    </tr>\n",
       "    <tr>\n",
       "      <th>ETH</th>\n",
       "      <td>-0.044116</td>\n",
       "      <td>-1.167492</td>\n",
       "      <td>1.012525</td>\n",
       "      <td>1</td>\n",
       "    </tr>\n",
       "  </tbody>\n",
       "</table>\n",
       "</div>"
      ],
      "text/plain": [
       "            Principal Component 1  Principal Component 2  \\\n",
       "Unnamed: 0                                                 \n",
       "42                      -0.417875               0.810296   \n",
       "404                     -0.396564               0.815135   \n",
       "1337                     3.124076               2.209780   \n",
       "BTC                     -0.192083               0.016266   \n",
       "ETH                     -0.044116              -1.167492   \n",
       "\n",
       "            Principal Component 3  class  \n",
       "Unnamed: 0                                \n",
       "42                       0.372138      0  \n",
       "404                      0.373256      0  \n",
       "1337                     0.504335      0  \n",
       "BTC                     -0.072910      0  \n",
       "ETH                      1.012525      1  "
      ]
     },
     "execution_count": 29,
     "metadata": {},
     "output_type": "execute_result"
    }
   ],
   "source": [
    "# Initialize the K-Means model.\n",
    "\n",
    "# Fit the model\n",
    "model = KMeans(n_clusters=4, random_state=0)\n",
    "model.fit(df_crypto_pca)\n",
    "\n",
    "# Predict clusters\n",
    "predictions = model.predict(df_crypto_pca)\n",
    "\n",
    "df_crypto_pca[\"class\"] = model.labels_\n",
    "df_crypto_pca.head()"
   ]
  },
  {
   "cell_type": "code",
   "execution_count": 35,
   "metadata": {},
   "outputs": [
    {
     "name": "stdout",
     "output_type": "stream",
     "text": [
      "(532, 9)\n"
     ]
    },
    {
     "data": {
      "text/html": [
       "<div>\n",
       "<style scoped>\n",
       "    .dataframe tbody tr th:only-of-type {\n",
       "        vertical-align: middle;\n",
       "    }\n",
       "\n",
       "    .dataframe tbody tr th {\n",
       "        vertical-align: top;\n",
       "    }\n",
       "\n",
       "    .dataframe thead th {\n",
       "        text-align: right;\n",
       "    }\n",
       "</style>\n",
       "<table border=\"1\" class=\"dataframe\">\n",
       "  <thead>\n",
       "    <tr style=\"text-align: right;\">\n",
       "      <th></th>\n",
       "      <th>Algorithm</th>\n",
       "      <th>ProofType</th>\n",
       "      <th>TotalCoinsMined</th>\n",
       "      <th>TotalCoinSupply</th>\n",
       "      <th>Principal Component 1</th>\n",
       "      <th>Principal Component 2</th>\n",
       "      <th>Principal Component 3</th>\n",
       "      <th>class</th>\n",
       "      <th>CoinName</th>\n",
       "    </tr>\n",
       "    <tr>\n",
       "      <th>Unnamed: 0</th>\n",
       "      <th></th>\n",
       "      <th></th>\n",
       "      <th></th>\n",
       "      <th></th>\n",
       "      <th></th>\n",
       "      <th></th>\n",
       "      <th></th>\n",
       "      <th></th>\n",
       "      <th></th>\n",
       "    </tr>\n",
       "  </thead>\n",
       "  <tbody>\n",
       "    <tr>\n",
       "      <th>42</th>\n",
       "      <td>52</td>\n",
       "      <td>15</td>\n",
       "      <td>4.199995e+01</td>\n",
       "      <td>42</td>\n",
       "      <td>-0.417875</td>\n",
       "      <td>0.810296</td>\n",
       "      <td>0.372138</td>\n",
       "      <td>0</td>\n",
       "      <td>42 Coin</td>\n",
       "    </tr>\n",
       "    <tr>\n",
       "      <th>404</th>\n",
       "      <td>52</td>\n",
       "      <td>15</td>\n",
       "      <td>1.055185e+09</td>\n",
       "      <td>532000000</td>\n",
       "      <td>-0.396564</td>\n",
       "      <td>0.815135</td>\n",
       "      <td>0.373256</td>\n",
       "      <td>0</td>\n",
       "      <td>404Coin</td>\n",
       "    </tr>\n",
       "    <tr>\n",
       "      <th>1337</th>\n",
       "      <td>66</td>\n",
       "      <td>15</td>\n",
       "      <td>2.927942e+10</td>\n",
       "      <td>314159265359</td>\n",
       "      <td>3.124076</td>\n",
       "      <td>2.209780</td>\n",
       "      <td>0.504335</td>\n",
       "      <td>0</td>\n",
       "      <td>EliteCoin</td>\n",
       "    </tr>\n",
       "    <tr>\n",
       "      <th>BTC</th>\n",
       "      <td>47</td>\n",
       "      <td>12</td>\n",
       "      <td>1.792718e+07</td>\n",
       "      <td>21000000</td>\n",
       "      <td>-0.192083</td>\n",
       "      <td>0.016266</td>\n",
       "      <td>-0.072910</td>\n",
       "      <td>0</td>\n",
       "      <td>Bitcoin</td>\n",
       "    </tr>\n",
       "    <tr>\n",
       "      <th>ETH</th>\n",
       "      <td>20</td>\n",
       "      <td>12</td>\n",
       "      <td>1.076842e+08</td>\n",
       "      <td>0</td>\n",
       "      <td>-0.044116</td>\n",
       "      <td>-1.167492</td>\n",
       "      <td>1.012525</td>\n",
       "      <td>1</td>\n",
       "      <td>Ethereum</td>\n",
       "    </tr>\n",
       "    <tr>\n",
       "      <th>LTC</th>\n",
       "      <td>52</td>\n",
       "      <td>12</td>\n",
       "      <td>6.303924e+07</td>\n",
       "      <td>84000000</td>\n",
       "      <td>-0.217954</td>\n",
       "      <td>0.235824</td>\n",
       "      <td>-0.273789</td>\n",
       "      <td>0</td>\n",
       "      <td>Litecoin</td>\n",
       "    </tr>\n",
       "    <tr>\n",
       "      <th>DASH</th>\n",
       "      <td>64</td>\n",
       "      <td>15</td>\n",
       "      <td>9.031294e+06</td>\n",
       "      <td>22000000</td>\n",
       "      <td>-0.482771</td>\n",
       "      <td>1.336609</td>\n",
       "      <td>-0.110253</td>\n",
       "      <td>0</td>\n",
       "      <td>Dash</td>\n",
       "    </tr>\n",
       "    <tr>\n",
       "      <th>XMR</th>\n",
       "      <td>12</td>\n",
       "      <td>12</td>\n",
       "      <td>1.720114e+07</td>\n",
       "      <td>0</td>\n",
       "      <td>-0.001979</td>\n",
       "      <td>-1.518631</td>\n",
       "      <td>1.334156</td>\n",
       "      <td>1</td>\n",
       "      <td>Monero</td>\n",
       "    </tr>\n",
       "    <tr>\n",
       "      <th>ETC</th>\n",
       "      <td>20</td>\n",
       "      <td>12</td>\n",
       "      <td>1.133597e+08</td>\n",
       "      <td>210000000</td>\n",
       "      <td>-0.041907</td>\n",
       "      <td>-1.167016</td>\n",
       "      <td>1.012991</td>\n",
       "      <td>1</td>\n",
       "      <td>Ethereum Classic</td>\n",
       "    </tr>\n",
       "    <tr>\n",
       "      <th>ZEC</th>\n",
       "      <td>18</td>\n",
       "      <td>12</td>\n",
       "      <td>7.383056e+06</td>\n",
       "      <td>21000000</td>\n",
       "      <td>-0.034542</td>\n",
       "      <td>-1.255502</td>\n",
       "      <td>1.092984</td>\n",
       "      <td>1</td>\n",
       "      <td>ZCash</td>\n",
       "    </tr>\n",
       "  </tbody>\n",
       "</table>\n",
       "</div>"
      ],
      "text/plain": [
       "            Algorithm  ProofType  TotalCoinsMined TotalCoinSupply  \\\n",
       "Unnamed: 0                                                          \n",
       "42                 52         15     4.199995e+01              42   \n",
       "404                52         15     1.055185e+09       532000000   \n",
       "1337               66         15     2.927942e+10    314159265359   \n",
       "BTC                47         12     1.792718e+07        21000000   \n",
       "ETH                20         12     1.076842e+08               0   \n",
       "LTC                52         12     6.303924e+07        84000000   \n",
       "DASH               64         15     9.031294e+06        22000000   \n",
       "XMR                12         12     1.720114e+07               0   \n",
       "ETC                20         12     1.133597e+08       210000000   \n",
       "ZEC                18         12     7.383056e+06        21000000   \n",
       "\n",
       "            Principal Component 1  Principal Component 2  \\\n",
       "Unnamed: 0                                                 \n",
       "42                      -0.417875               0.810296   \n",
       "404                     -0.396564               0.815135   \n",
       "1337                     3.124076               2.209780   \n",
       "BTC                     -0.192083               0.016266   \n",
       "ETH                     -0.044116              -1.167492   \n",
       "LTC                     -0.217954               0.235824   \n",
       "DASH                    -0.482771               1.336609   \n",
       "XMR                     -0.001979              -1.518631   \n",
       "ETC                     -0.041907              -1.167016   \n",
       "ZEC                     -0.034542              -1.255502   \n",
       "\n",
       "            Principal Component 3  class          CoinName  \n",
       "Unnamed: 0                                                  \n",
       "42                       0.372138      0           42 Coin  \n",
       "404                      0.373256      0           404Coin  \n",
       "1337                     0.504335      0         EliteCoin  \n",
       "BTC                     -0.072910      0           Bitcoin  \n",
       "ETH                      1.012525      1          Ethereum  \n",
       "LTC                     -0.273789      0          Litecoin  \n",
       "DASH                    -0.110253      0              Dash  \n",
       "XMR                      1.334156      1            Monero  \n",
       "ETC                      1.012991      1  Ethereum Classic  \n",
       "ZEC                      1.092984      1             ZCash  "
      ]
     },
     "execution_count": 35,
     "metadata": {},
     "output_type": "execute_result"
    }
   ],
   "source": [
    "# Create a new DataFrame including predicted clusters and cryptocurrencies features.\n",
    "# Concatentate the crypto_df and pcs_df DataFrames on the same columns.\n",
    "clustered_df = pd.concat([crypto_df, df_crypto_pca], axis=1, join=\"inner\")\n",
    "\n",
    "#  Add a new column, \"CoinName\" to the clustered_df DataFrame that holds the names of the cryptocurrencies. \n",
    "clustered_df = pd.concat([clustered_df, cryptonames_df], axis=1, join=\"inner\")\n",
    "\n",
    "#  Add a new column, \"Class\" to the clustered_df DataFrame that holds the predictions.\n",
    "\n",
    "# Print the shape of the clustered_df\n",
    "print(clustered_df.shape)\n",
    "clustered_df.head(10)"
   ]
  },
  {
   "cell_type": "code",
   "execution_count": 34,
   "metadata": {},
   "outputs": [
    {
     "data": {
      "text/html": [
       "<div>\n",
       "<style scoped>\n",
       "    .dataframe tbody tr th:only-of-type {\n",
       "        vertical-align: middle;\n",
       "    }\n",
       "\n",
       "    .dataframe tbody tr th {\n",
       "        vertical-align: top;\n",
       "    }\n",
       "\n",
       "    .dataframe thead th {\n",
       "        text-align: right;\n",
       "    }\n",
       "</style>\n",
       "<table border=\"1\" class=\"dataframe\">\n",
       "  <thead>\n",
       "    <tr style=\"text-align: right;\">\n",
       "      <th></th>\n",
       "      <th>Algorithm</th>\n",
       "      <th>ProofType</th>\n",
       "      <th>TotalCoinsMined</th>\n",
       "      <th>TotalCoinSupply</th>\n",
       "      <th>Principal Component 1</th>\n",
       "      <th>Principal Component 2</th>\n",
       "      <th>Principal Component 3</th>\n",
       "      <th>class</th>\n",
       "      <th>CoinName</th>\n",
       "    </tr>\n",
       "    <tr>\n",
       "      <th>Unnamed: 0</th>\n",
       "      <th></th>\n",
       "      <th></th>\n",
       "      <th></th>\n",
       "      <th></th>\n",
       "      <th></th>\n",
       "      <th></th>\n",
       "      <th></th>\n",
       "      <th></th>\n",
       "      <th></th>\n",
       "    </tr>\n",
       "  </thead>\n",
       "  <tbody>\n",
       "    <tr>\n",
       "      <th>42</th>\n",
       "      <td>52</td>\n",
       "      <td>15</td>\n",
       "      <td>4.199995e+01</td>\n",
       "      <td>42</td>\n",
       "      <td>-0.417875</td>\n",
       "      <td>0.810296</td>\n",
       "      <td>0.372138</td>\n",
       "      <td>0</td>\n",
       "      <td>42 Coin</td>\n",
       "    </tr>\n",
       "    <tr>\n",
       "      <th>404</th>\n",
       "      <td>52</td>\n",
       "      <td>15</td>\n",
       "      <td>1.055185e+09</td>\n",
       "      <td>532000000</td>\n",
       "      <td>-0.396564</td>\n",
       "      <td>0.815135</td>\n",
       "      <td>0.373256</td>\n",
       "      <td>0</td>\n",
       "      <td>404Coin</td>\n",
       "    </tr>\n",
       "    <tr>\n",
       "      <th>1337</th>\n",
       "      <td>66</td>\n",
       "      <td>15</td>\n",
       "      <td>2.927942e+10</td>\n",
       "      <td>314159265359</td>\n",
       "      <td>3.124076</td>\n",
       "      <td>2.209780</td>\n",
       "      <td>0.504335</td>\n",
       "      <td>0</td>\n",
       "      <td>EliteCoin</td>\n",
       "    </tr>\n",
       "    <tr>\n",
       "      <th>BTC</th>\n",
       "      <td>47</td>\n",
       "      <td>12</td>\n",
       "      <td>1.792718e+07</td>\n",
       "      <td>21000000</td>\n",
       "      <td>-0.192083</td>\n",
       "      <td>0.016266</td>\n",
       "      <td>-0.072910</td>\n",
       "      <td>0</td>\n",
       "      <td>Bitcoin</td>\n",
       "    </tr>\n",
       "    <tr>\n",
       "      <th>ETH</th>\n",
       "      <td>20</td>\n",
       "      <td>12</td>\n",
       "      <td>1.076842e+08</td>\n",
       "      <td>0</td>\n",
       "      <td>-0.044116</td>\n",
       "      <td>-1.167492</td>\n",
       "      <td>1.012525</td>\n",
       "      <td>1</td>\n",
       "      <td>Ethereum</td>\n",
       "    </tr>\n",
       "  </tbody>\n",
       "</table>\n",
       "</div>"
      ],
      "text/plain": [
       "            Algorithm  ProofType  TotalCoinsMined TotalCoinSupply  \\\n",
       "Unnamed: 0                                                          \n",
       "42                 52         15     4.199995e+01              42   \n",
       "404                52         15     1.055185e+09       532000000   \n",
       "1337               66         15     2.927942e+10    314159265359   \n",
       "BTC                47         12     1.792718e+07        21000000   \n",
       "ETH                20         12     1.076842e+08               0   \n",
       "\n",
       "            Principal Component 1  Principal Component 2  \\\n",
       "Unnamed: 0                                                 \n",
       "42                      -0.417875               0.810296   \n",
       "404                     -0.396564               0.815135   \n",
       "1337                     3.124076               2.209780   \n",
       "BTC                     -0.192083               0.016266   \n",
       "ETH                     -0.044116              -1.167492   \n",
       "\n",
       "            Principal Component 3  class   CoinName  \n",
       "Unnamed: 0                                           \n",
       "42                       0.372138      0    42 Coin  \n",
       "404                      0.373256      0    404Coin  \n",
       "1337                     0.504335      0  EliteCoin  \n",
       "BTC                     -0.072910      0    Bitcoin  \n",
       "ETH                      1.012525      1   Ethereum  "
      ]
     },
     "execution_count": 34,
     "metadata": {},
     "output_type": "execute_result"
    }
   ],
   "source": [
    "clustered_df.head()"
   ]
  },
  {
   "cell_type": "markdown",
   "metadata": {},
   "source": [
    "### Deliverable 4: Visualizing Cryptocurrencies Results\n",
    "\n",
    "#### 3D-Scatter with Clusters"
   ]
  },
  {
   "cell_type": "code",
   "execution_count": 52,
   "metadata": {},
   "outputs": [
    {
     "data": {
      "application/vnd.plotly.v1+json": {
       "config": {
        "plotlyServerURL": "https://plot.ly"
       },
       "data": [
        {
         "customdata": [
          [
           52
          ],
          [
           52
          ],
          [
           66
          ],
          [
           47
          ],
          [
           52
          ],
          [
           64
          ],
          [
           47
          ],
          [
           52
          ],
          [
           68
          ],
          [
           64
          ],
          [
           52
          ],
          [
           52
          ],
          [
           52
          ],
          [
           52
          ],
          [
           47
          ],
          [
           52
          ],
          [
           52
          ],
          [
           52
          ],
          [
           46
          ],
          [
           52
          ],
          [
           52
          ],
          [
           52
          ],
          [
           52
          ],
          [
           52
          ],
          [
           64
          ],
          [
           47
          ],
          [
           52
          ],
          [
           52
          ],
          [
           52
          ],
          [
           52
          ],
          [
           52
          ],
          [
           52
          ],
          [
           52
          ],
          [
           52
          ],
          [
           52
          ],
          [
           52
          ],
          [
           64
          ],
          [
           47
          ],
          [
           52
          ],
          [
           52
          ],
          [
           52
          ],
          [
           51
          ],
          [
           52
          ],
          [
           52
          ],
          [
           47
          ],
          [
           66
          ],
          [
           52
          ],
          [
           47
          ],
          [
           52
          ],
          [
           66
          ],
          [
           36
          ],
          [
           52
          ],
          [
           52
          ],
          [
           52
          ],
          [
           52
          ],
          [
           52
          ],
          [
           52
          ],
          [
           64
          ],
          [
           47
          ],
          [
           47
          ],
          [
           64
          ],
          [
           47
          ],
          [
           47
          ],
          [
           47
          ],
          [
           64
          ],
          [
           52
          ],
          [
           52
          ],
          [
           52
          ],
          [
           52
          ],
          [
           52
          ],
          [
           64
          ],
          [
           47
          ],
          [
           66
          ],
          [
           52
          ],
          [
           52
          ],
          [
           47
          ],
          [
           52
          ],
          [
           52
          ],
          [
           66
          ],
          [
           52
          ],
          [
           52
          ],
          [
           52
          ],
          [
           66
          ],
          [
           52
          ],
          [
           58
          ],
          [
           45
          ],
          [
           52
          ],
          [
           52
          ],
          [
           52
          ],
          [
           52
          ],
          [
           47
          ],
          [
           52
          ],
          [
           64
          ],
          [
           51
          ],
          [
           64
          ],
          [
           47
          ],
          [
           44
          ],
          [
           64
          ],
          [
           52
          ],
          [
           52
          ],
          [
           66
          ],
          [
           47
          ],
          [
           68
          ],
          [
           64
          ],
          [
           47
          ],
          [
           52
          ],
          [
           47
          ],
          [
           64
          ],
          [
           52
          ],
          [
           47
          ],
          [
           47
          ],
          [
           35
          ],
          [
           52
          ],
          [
           64
          ],
          [
           52
          ],
          [
           65
          ],
          [
           64
          ],
          [
           47
          ],
          [
           52
          ],
          [
           64
          ],
          [
           64
          ],
          [
           47
          ],
          [
           47
          ],
          [
           35
          ],
          [
           64
          ],
          [
           52
          ],
          [
           52
          ],
          [
           52
          ],
          [
           52
          ],
          [
           64
          ],
          [
           64
          ],
          [
           52
          ],
          [
           47
          ],
          [
           47
          ],
          [
           64
          ],
          [
           52
          ],
          [
           52
          ],
          [
           52
          ],
          [
           47
          ],
          [
           52
          ],
          [
           52
          ],
          [
           49
          ],
          [
           52
          ],
          [
           64
          ],
          [
           67
          ],
          [
           49
          ],
          [
           64
          ],
          [
           52
          ],
          [
           64
          ],
          [
           66
          ],
          [
           64
          ],
          [
           52
          ],
          [
           52
          ],
          [
           64
          ],
          [
           64
          ],
          [
           47
          ],
          [
           52
          ],
          [
           64
          ],
          [
           52
          ],
          [
           52
          ],
          [
           64
          ],
          [
           52
          ],
          [
           52
          ],
          [
           52
          ],
          [
           45
          ],
          [
           52
          ],
          [
           52
          ],
          [
           47
          ],
          [
           64
          ],
          [
           52
          ],
          [
           64
          ],
          [
           52
          ],
          [
           52
          ],
          [
           52
          ],
          [
           64
          ],
          [
           52
          ],
          [
           52
          ],
          [
           64
          ],
          [
           64
          ],
          [
           52
          ],
          [
           64
          ],
          [
           64
          ],
          [
           52
          ],
          [
           52
          ],
          [
           52
          ],
          [
           64
          ],
          [
           52
          ],
          [
           47
          ],
          [
           52
          ],
          [
           68
          ],
          [
           52
          ],
          [
           35
          ],
          [
           64
          ],
          [
           35
          ],
          [
           55
          ],
          [
           52
          ],
          [
           66
          ],
          [
           52
          ],
          [
           64
          ],
          [
           64
          ],
          [
           52
          ],
          [
           66
          ],
          [
           60
          ],
          [
           52
          ],
          [
           64
          ],
          [
           55
          ],
          [
           47
          ],
          [
           64
          ],
          [
           63
          ],
          [
           52
          ],
          [
           52
          ],
          [
           52
          ],
          [
           52
          ],
          [
           52
          ],
          [
           52
          ],
          [
           52
          ],
          [
           52
          ],
          [
           64
          ],
          [
           36
          ],
          [
           64
          ],
          [
           52
          ],
          [
           52
          ],
          [
           47
          ],
          [
           35
          ],
          [
           38
          ],
          [
           52
          ],
          [
           46
          ],
          [
           52
          ],
          [
           52
          ],
          [
           64
          ],
          [
           64
          ],
          [
           35
          ],
          [
           66
          ],
          [
           52
          ],
          [
           64
          ],
          [
           52
          ],
          [
           52
          ],
          [
           52
          ],
          [
           64
          ],
          [
           64
          ],
          [
           52
          ],
          [
           52
          ],
          [
           52
          ],
          [
           64
          ],
          [
           47
          ],
          [
           52
          ],
          [
           56
          ],
          [
           52
          ],
          [
           52
          ],
          [
           48
          ],
          [
           52
          ],
          [
           52
          ],
          [
           64
          ],
          [
           64
          ],
          [
           70
          ],
          [
           52
          ],
          [
           35
          ],
          [
           52
          ],
          [
           52
          ],
          [
           52
          ],
          [
           64
          ],
          [
           46
          ],
          [
           52
          ],
          [
           61
          ],
          [
           52
          ],
          [
           49
          ],
          [
           52
          ],
          [
           69
          ],
          [
           64
          ],
          [
           69
          ],
          [
           46
          ],
          [
           52
          ],
          [
           52
          ],
          [
           70
          ],
          [
           64
          ],
          [
           47
          ],
          [
           64
          ],
          [
           52
          ],
          [
           50
          ],
          [
           69
          ],
          [
           47
          ],
          [
           70
          ],
          [
           46
          ],
          [
           52
          ],
          [
           52
          ],
          [
           46
          ],
          [
           52
          ],
          [
           45
          ],
          [
           52
          ],
          [
           70
          ],
          [
           49
          ],
          [
           64
          ],
          [
           47
          ],
          [
           66
          ],
          [
           47
          ],
          [
           64
          ],
          [
           52
          ],
          [
           52
          ],
          [
           64
          ],
          [
           52
          ],
          [
           52
          ],
          [
           52
          ],
          [
           64
          ],
          [
           52
          ],
          [
           52
          ],
          [
           47
          ],
          [
           64
          ],
          [
           47
          ],
          [
           52
          ],
          [
           52
          ],
          [
           52
          ],
          [
           64
          ],
          [
           52
          ],
          [
           52
          ],
          [
           52
          ],
          [
           64
          ],
          [
           47
          ],
          [
           52
          ],
          [
           36
          ],
          [
           66
          ],
          [
           52
          ]
         ],
         "hovertemplate": "<b>%{hovertext}</b><br><br>class=%{marker.color}<br>Principal Component 3=%{x}<br>Principal Component 2=%{y}<br>Principal Component 1=%{z}<br>Algorithm=%{customdata[0]}<extra></extra>",
         "hovertext": [
          "42 Coin",
          "404Coin",
          "EliteCoin",
          "Bitcoin",
          "Litecoin",
          "Dash",
          "BitcoinDark",
          "ProsperCoin",
          "KoboCoin",
          "Spreadcoin",
          "Argentum",
          "Aurora Coin",
          "BlueCoin",
          "MoonCoin",
          "ZetaCoin",
          "SexCoin",
          "Quatloo",
          "EnergyCoin",
          "QuarkCoin",
          "Digitalcoin ",
          "BitBar",
          "Catcoin",
          "CryptoBullion",
          "CannaCoin",
          "CryptCoin",
          "DevCoin",
          "EarthCoin",
          "E-Gulden",
          "Einsteinium",
          "Emerald",
          "Franko",
          "GrandCoin",
          "GlobalCoin",
          "GoldCoin",
          "HoboNickels",
          "Infinite Coin",
          "IOCoin",
          "IXcoin",
          "KrugerCoin",
          "LuckyCoin",
          "Litebar ",
          "MaxCoin",
          "MegaCoin",
          "MinCoin",
          "MazaCoin",
          "NavCoin",
          "NobleCoin",
          "Namecoin",
          "NyanCoin",
          "OpalCoin",
          "Orbitcoin",
          "PotCoin",
          "PhoenixCoin",
          "Reddcoin",
          "RonPaulCoin",
          "StableCoin",
          "SmartCoin",
          "SyncCoin",
          "SysCoin",
          "TigerCoin",
          "TorCoin",
          "TerraCoin",
          "UnbreakableCoin",
          "Unobtanium",
          "UroCoin",
          "UnitaryStatus Dollar",
          "UltraCoin",
          "ViaCoin",
          "VeriCoin",
          "WorldCoin",
          "X11 Coin",
          "JouleCoin",
          "StealthCoin",
          "ZCC Coin",
          "MonaCoin",
          "Neutron",
          "Gulden",
          "PesetaCoin",
          "Kore",
          "Wild Beast Coin",
          "Flo",
          "8BIT Coin",
          "Sativa Coin",
          "ArtByte",
          "Folding Coin",
          "CypherPunkCoin",
          "OmniCron",
          "Vtorrent",
          "GreenCoin",
          "MasterCoin",
          "SoonCoin",
          "1Credit",
          "IslaCoin",
          "Nexus",
          "MarsCoin ",
          "Anarchists Prime",
          "Droidz",
          "BowsCoin",
          "Song Coin",
          "BitZeny",
          "Paycon",
          "Emercoin",
          "EverGreenCoin",
          "MindCoin",
          "I0coin",
          "Revolution VR",
          "EDRCoin",
          "Hitcoin",
          "Gamecredits",
          "DubaiCoin",
          "CarpeDiemCoin",
          "PWR Coin",
          "BillaryCoin",
          "Adzcoin",
          "YoCoin",
          "SibCoin",
          "EuropeCoin",
          "SwingCoin",
          "Francs",
          "BolivarCoin",
          "Ratecoin",
          "Revenu",
          "Clockcoin",
          "VIP Tokens",
          "BitSend",
          "Omni",
          "PutinCoin",
          "iBankCoin",
          "Frankywillcoin",
          "PizzaCoin",
          "GoldBlocks",
          "CarterCoin",
          "BitTokens",
          "ZayedCoin",
          "MustangCoin",
          "ZoneCoin",
          "RootCoin",
          "DopeCoin",
          "DollarCoin",
          "Swiscoin",
          "Shilling",
          "BuzzCoin",
          "PesoBit",
          "Halloween Coin",
          "GanjaCoin V2",
          "LanaCoin",
          "InsaneCoin",
          "KiloCoin",
          "ArtexCoin",
          "EmberCoin",
          "XenixCoin",
          "PLNCoin",
          "AquariusCoin",
          "Kurrent",
          "Eternity",
          "Eurocoin",
          "BitcoinFast",
          "Stakenet",
          "BitConnect Coin",
          "MoneyCoin",
          "Enigma",
          "Russiacoin",
          "GameUnits",
          "GAKHcoin",
          "LiteCreed",
          "OsmiumCoin",
          "Klingon Empire Darsek",
          "Internet of People",
          "KushCoin",
          "Printerium",
          "PacCoin",
          "Impeach",
          "FirstCoin",
          "BeaverCoin",
          "VaultCoin",
          "OpenChat",
          "Canada eCoin",
          "VirtacoinPlus",
          "Impact",
          "EB3coin",
          "HappyCoin",
          "Condensate",
          "Independent Money System",
          "ArgusCoin",
          "LomoCoin",
          "GoldReserve",
          "BenjiRolls",
          "ILCoin",
          "Degas Coin",
          "HTML5 Coin",
          "EquiTrader",
          "Denarius",
          "DigitalPrice",
          "Virta Unique Coin",
          "Bitcoin Planet",
          "Unify",
          "BritCoin",
          "SocialCoin",
          "ArcticCoin",
          "DAS",
          "Linda",
          "DeepOnion",
          "Bitcore",
          "gCn Coin",
          "Onix",
          "Cream",
          "Bitcoin Cash",
          "Monoeci",
          "Vechain",
          "Sojourn Coin",
          "NewYorkCoin",
          "FrazCoin",
          "Kronecoin",
          "AdCoin",
          "Linx",
          "CoinonatX",
          "Ethereum Dark",
          "Regalcoin",
          "TrezarCoin",
          "Elements",
          "TerraNovaCoin",
          "WomenCoin",
          "Theresa May Coin",
          "NamoCoin",
          "LUXCoin",
          "Xios",
          "Bitcloud 2.0",
          "eBoost",
          "BlackholeCoin",
          "Pura",
          "Magnet",
          "Electra",
          "Bitcoin Diamond",
          "Cash & Back Coin",
          "AC3",
          "GermanCoin",
          "LiteCoin Ultra",
          "PopularCoin",
          "PhantomX",
          "Sucre",
          "IrishCoin",
          "Trollcoin",
          "Litecoin Plus",
          "Pioneer Coin",
          "UnitedBitcoin",
          "My Big Coin",
          "MUNcoin",
          "Unified Society USDEX",
          "ShareChain",
          "LitecoinCash",
          "BitFlip",
          "LottoCoin",
          "Crypto Improvement Fund",
          "Pushi",
          "Ellerium",
          "Poseidon",
          "Bitspace",
          "Briacoin",
          "Ignition",
          "Abjcoin",
          "FuturoCoin",
          "Carebit",
          "iDealCash",
          "KEYCO",
          "Swisscoin",
          "TheVig",
          "EmaratCoin",
          "Motion",
          "Axe",
          "Trivechain",
          "Giant",
          "HexCoin",
          "TPCash",
          "Urals Coin",
          "EUNO",
          "Project Pai",
          "Azart",
          "ThunderStake",
          "Kcash",
          "Xchange",
          "Bitcoin SV",
          "BitMoney",
          "HerbCoin",
          "Block-Logic",
          "Oduwa",
          "Galilel",
          "Credit",
          "SLICE",
          "Nasdacoin",
          "Beetle Coin",
          "Titan Coin",
          "Award",
          "BLAST",
          "Bitcoin Rhodium",
          "GlobalToken",
          "Insane Coin",
          "LiteDoge",
          "SolarCoin",
          "TruckCoin",
          "OrangeCoin",
          "BitstarCoin",
          "HyperCoin",
          "PinkCoin",
          "Crypto Escudo",
          "AudioCoin",
          "IncaKoin",
          "Piggy Coin",
          "Crown Coin",
          "Genstake",
          "SmileyCoin",
          "XiaoMiCoin",
          "CapriCoin",
          " ClubCoin",
          "Bata",
          "Pakcoin",
          "Creditbit ",
          "OKCash",
          "WhiteCoin",
          "FriendshipCoin",
          "Triangles Coin",
          "Gapcoin"
         ],
         "legendgroup": "0",
         "marker": {
          "color": [
           0,
           0,
           0,
           0,
           0,
           0,
           0,
           0,
           0,
           0,
           0,
           0,
           0,
           0,
           0,
           0,
           0,
           0,
           0,
           0,
           0,
           0,
           0,
           0,
           0,
           0,
           0,
           0,
           0,
           0,
           0,
           0,
           0,
           0,
           0,
           0,
           0,
           0,
           0,
           0,
           0,
           0,
           0,
           0,
           0,
           0,
           0,
           0,
           0,
           0,
           0,
           0,
           0,
           0,
           0,
           0,
           0,
           0,
           0,
           0,
           0,
           0,
           0,
           0,
           0,
           0,
           0,
           0,
           0,
           0,
           0,
           0,
           0,
           0,
           0,
           0,
           0,
           0,
           0,
           0,
           0,
           0,
           0,
           0,
           0,
           0,
           0,
           0,
           0,
           0,
           0,
           0,
           0,
           0,
           0,
           0,
           0,
           0,
           0,
           0,
           0,
           0,
           0,
           0,
           0,
           0,
           0,
           0,
           0,
           0,
           0,
           0,
           0,
           0,
           0,
           0,
           0,
           0,
           0,
           0,
           0,
           0,
           0,
           0,
           0,
           0,
           0,
           0,
           0,
           0,
           0,
           0,
           0,
           0,
           0,
           0,
           0,
           0,
           0,
           0,
           0,
           0,
           0,
           0,
           0,
           0,
           0,
           0,
           0,
           0,
           0,
           0,
           0,
           0,
           0,
           0,
           0,
           0,
           0,
           0,
           0,
           0,
           0,
           0,
           0,
           0,
           0,
           0,
           0,
           0,
           0,
           0,
           0,
           0,
           0,
           0,
           0,
           0,
           0,
           0,
           0,
           0,
           0,
           0,
           0,
           0,
           0,
           0,
           0,
           0,
           0,
           0,
           0,
           0,
           0,
           0,
           0,
           0,
           0,
           0,
           0,
           0,
           0,
           0,
           0,
           0,
           0,
           0,
           0,
           0,
           0,
           0,
           0,
           0,
           0,
           0,
           0,
           0,
           0,
           0,
           0,
           0,
           0,
           0,
           0,
           0,
           0,
           0,
           0,
           0,
           0,
           0,
           0,
           0,
           0,
           0,
           0,
           0,
           0,
           0,
           0,
           0,
           0,
           0,
           0,
           0,
           0,
           0,
           0,
           0,
           0,
           0,
           0,
           0,
           0,
           0,
           0,
           0,
           0,
           0,
           0,
           0,
           0,
           0,
           0,
           0,
           0,
           0,
           0,
           0,
           0,
           0,
           0,
           0,
           0,
           0,
           0,
           0,
           0,
           0,
           0,
           0,
           0,
           0,
           0,
           0,
           0,
           0,
           0,
           0,
           0,
           0,
           0,
           0,
           0,
           0,
           0,
           0,
           0,
           0,
           0,
           0,
           0,
           0,
           0,
           0,
           0,
           0,
           0,
           0,
           0,
           0,
           0,
           0,
           0,
           0,
           0,
           0,
           0,
           0,
           0
          ],
          "coloraxis": "coloraxis",
          "symbol": "circle"
         },
         "mode": "markers",
         "name": "0",
         "scene": "scene",
         "showlegend": true,
         "type": "scatter3d",
         "x": [
          0.37213773591460375,
          0.3732558332587618,
          0.5043352582499566,
          -0.07291010078361869,
          -0.27378917404345865,
          -0.11025277404054194,
          0.5732026086646996,
          -0.2739255443555696,
          -0.2703392113887334,
          -0.7563668509688375,
          -0.2738305539035785,
          0.37217386389936796,
          0.372100521709271,
          0.577681891133604,
          -0.07258901300892455,
          -0.2734248708447841,
          -0.2737504274447044,
          0.3721305285514295,
          -0.0322197872344447,
          -0.27386691508385874,
          0.37213884225426347,
          -0.2739256293724296,
          0.3721398928153104,
          -0.2739429143024461,
          -0.7563709263243974,
          -0.027480321609627475,
          -0.2447651894830649,
          -0.2739264311689329,
          -0.27331970561469454,
          -0.2739019520457289,
          -0.2739469289385004,
          -0.270872864541785,
          -0.2738203781486549,
          -0.2738139911235875,
          0.37239864960639024,
          -0.07834055653992034,
          -0.11025327885553506,
          -0.07291028597889651,
          -0.27339198797572833,
          -0.27392855623944645,
          -0.27396885192191334,
          0.41255915314432823,
          -0.2738808661223526,
          -0.27394994278694235,
          0.5784247940097581,
          -0.19071137048432815,
          -0.24084263034573622,
          -0.07290991391330007,
          -0.273243969044908,
          -0.19070838768482248,
          1.015397606623557,
          0.3730561907563406,
          0.372350753453505,
          0.37042084592191177,
          -0.2739252711957015,
          -0.27341873749539247,
          -0.2738597264349613,
          -0.11030103562488511,
          -0.07101916881689538,
          -0.07285391003807326,
          -0.11027894315025899,
          -0.07286381928391857,
          -0.07277833124759306,
          -0.07295508297886402,
          -0.756410625644843,
          0.3756219317451436,
          0.3723565785686821,
          -0.27392212668434274,
          -0.4893434957368075,
          -0.27339012319886435,
          -0.11028924669026657,
          -0.07285811803976286,
          -0.19070943820088213,
          0.37434691676134235,
          -0.27374263502349194,
          0.5733024139671431,
          -0.2702701032323079,
          -0.2736108162978319,
          -0.19068100431011356,
          -0.2739659634894692,
          -0.27362584349782226,
          0.37213764985861664,
          -0.19068573719085577,
          -0.27180034881968795,
          -0.5130154532713773,
          0.007450463803892432,
          -0.27396489808656876,
          0.3721814131460904,
          -0.25206330861443355,
          -0.2739704437121641,
          -0.07290978074753532,
          -0.06992976080826238,
          -0.11030112642510025,
          1.0586197481366566,
          -0.7563392530328679,
          -0.07283725784187749,
          0.6937743054063712,
          -0.7563649092060162,
          -0.27350740816749425,
          -0.2734217477380397,
          -0.19059795714355635,
          0.5753692177633294,
          -0.2710564297648765,
          -0.7563759986724612,
          -0.07291028059833071,
          -0.2735183320577561,
          0.5732024692294743,
          -0.05206117883847866,
          -0.27378957210686866,
          0.5731768785098793,
          -0.02626504058872839,
          1.055002939660507,
          0.3722303584256632,
          -0.7562268976195121,
          -0.2735984410032384,
          -0.7965615687587172,
          -0.10944999361149509,
          0.5732423490665177,
          -0.2739278092025994,
          -0.7563559083975058,
          -0.11014257948485318,
          0.5736477916920157,
          0.5743172858734377,
          1.0557873840764795,
          -0.10999418517395905,
          -0.2739704502547895,
          0.3765258126242929,
          0.37223579533468676,
          0.37235366405357245,
          -0.7563551894339442,
          -0.11019105687934104,
          0.372334814130979,
          0.5732004314280587,
          -0.07293439838071417,
          -0.1102944227444894,
          0.37218415941896454,
          0.3721376222127439,
          -0.2735350548542434,
          -0.07293256488733571,
          0.8097137850806387,
          -0.2739058971018216,
          0.5359578023860655,
          0.37213577252482166,
          -0.1069897667236653,
          -0.2306948029435694,
          0.5093312193725597,
          -0.11023557659231777,
          -0.2518047966353468,
          -0.7553498891115095,
          -0.19422167637979332,
          -0.11029271735350822,
          0.37222221082364837,
          0.37223074198285666,
          -0.7559084794496272,
          -0.11016832235160326,
          0.5731975212662065,
          0.3722097392037724,
          1.3974530739777244,
          0.37219918661939555,
          0.3735801612900819,
          -0.11028999624514023,
          0.3724566152941832,
          0.3721663644512239,
          0.372144895548399,
          0.6537334279422442,
          -0.27396581382533586,
          0.3732452563252243,
          0.5732003183580108,
          -0.11028062345221354,
          0.37218140043695846,
          -0.5346571931858823,
          0.37218636257619925,
          0.5877450959311904,
          -0.2739645118180129,
          -0.754194486386069,
          0.3742970181205148,
          -0.2737558439394638,
          -0.11008002385030642,
          -0.11006355364034916,
          -0.26510414275551547,
          -0.11008051337689007,
          -0.10919923915667423,
          0.37218446665032145,
          0.3722010990272032,
          0.3743555546464211,
          -0.11021332950545995,
          -0.27389418997434517,
          -0.06748818035894062,
          0.37236935898169155,
          -0.07388886121090114,
          -0.2738128970705599,
          1.055614599268033,
          -0.7561908280697063,
          1.0558551206064584,
          0.251749428732061,
          -0.2739300903109157,
          -0.19064221017993405,
          -0.2738057453870593,
          -0.7562790092435641,
          -0.7563687912200038,
          0.48250041739826205,
          -0.19066687031836307,
          -0.5955520981756027,
          0.16004838607688168,
          -0.7539780949066229,
          0.2517470552097307,
          -0.07291010479037781,
          -0.11028068821985279,
          1.1958190893024931,
          -0.2506844046501508,
          -0.28234708261877994,
          -0.2739279927030028,
          -0.27378650429213863,
          -0.27375190851171105,
          -0.27375197116511685,
          0.3722436070789193,
          0.3721468048095577,
          -0.11024158120340455,
          1.0162658768307462,
          -0.7525767232763563,
          0.37217256315863484,
          0.4247458702604456,
          0.5733702852706136,
          1.0582212529754669,
          0.9351155561397866,
          0.37218418473590936,
          0.6137988935970549,
          -0.27375585252481177,
          0.37216957568811937,
          -0.75564456975936,
          -0.10998390477822358,
          1.1204648890482796,
          -0.19025250075656178,
          0.3725969844696144,
          -0.7551954422634022,
          0.4827424951088376,
          0.3724699199506173,
          -0.263114707467621,
          -0.11019279103291704,
          -0.7563668892224465,
          -0.273832502812868,
          0.3740991853935223,
          0.37214646053907213,
          -0.7563600409583693,
          -0.07291208158753552,
          0.1568338817323255,
          -0.434748171783984,
          0.3726385226228664,
          -0.2523789583740136,
          0.10403658727811121,
          -0.2738837963317393,
          -0.23399657395556578,
          -0.7553140057021479,
          -0.11024571853171322,
          -0.35138737824153476,
          -0.27392544490509557,
          1.055702749995752,
          0.3721443398427658,
          0.37214875583066315,
          0.3722036926074617,
          -0.7561906326055107,
          0.6137925082813591,
          0.3834152100117993,
          -0.6357609868584272,
          0.3941624152492618,
          0.4929672674127687,
          0.372322770081969,
          -0.9573782259519064,
          -0.7563642725484235,
          -0.31113628013136246,
          0.6133682000786538,
          -0.27392283819239677,
          0.3743552674512617,
          -0.9971650572548589,
          -0.11019194750441133,
          -0.06842113285146269,
          -0.7563554024942702,
          0.41199692465333293,
          2.1776621928240143,
          -0.9572054970293981,
          -0.07291010461028795,
          0.6651960871246495,
          0.6134748183337423,
          -0.273707706045393,
          0.37218344517499324,
          0.6133982718719289,
          0.5362274414705315,
          0.007671864393127494,
          0.3723228317407243,
          -0.350423151493279,
          0.5037841736336178,
          -0.10937044466803546,
          -0.07281674602642026,
          -0.836812428262147,
          -0.0725879826272568,
          -0.11023589478898509,
          0.4488652565014074,
          -0.05640413641261422,
          -0.11031524432247013,
          0.3725810982889442,
          0.37225686257340423,
          0.3721371717648948,
          -0.10921766912404025,
          -0.27179962690531734,
          0.3953677035369676,
          0.5725246281225341,
          -0.10811213527274084,
          -0.0728638223019954,
          0.37216748959696466,
          -0.16481198633190763,
          0.3730011959446717,
          -0.10985151843257655,
          0.37248652282178996,
          -0.2739609880065396,
          -0.27357221411135174,
          1.1819536108360726,
          0.5733823920765518,
          0.37278833134584444,
          1.015522812144337,
          -0.19070724214307708,
          0.37269132340147104
         ],
         "y": [
          0.8102956393790143,
          0.815135278321305,
          2.209780370521107,
          0.016265688164446904,
          0.23582418468471444,
          1.3366086693013624,
          0.5910839678621298,
          0.23548727971644856,
          1.5127909817174066,
          0.7617375423991811,
          0.2356032798857798,
          0.8103954030119676,
          0.8125131647424383,
          1.0707053858064959,
          0.017120773686627275,
          0.2364152571549331,
          0.23566466902263325,
          0.8107251082121676,
          -0.026252268058936788,
          0.23564295180924585,
          0.8102968753457671,
          0.23549234572608746,
          0.8103014407069669,
          0.23546646781031183,
          0.7617117198775045,
          0.12735473038719083,
          0.30854603432809397,
          0.23554012341179573,
          0.2368374109393443,
          0.23555911725977952,
          0.2354498979649322,
          0.24159706063392808,
          0.23580292203037634,
          0.23572400172890332,
          0.8108681923797396,
          0.7486606459030498,
          1.3366387503655681,
          0.016276723635096836,
          0.23652734546609108,
          0.23553241973484806,
          0.23542826019373395,
          0.766874792014281,
          0.23564597309312546,
          0.23546347757990443,
          0.6019259281418456,
          1.424465539522612,
          0.27630693249116567,
          0.016254552880976034,
          0.23732259882093498,
          1.4242877995889502,
          0.1086702023253668,
          0.8119863380638805,
          0.8107669163427661,
          0.9126021792565772,
          0.2354710025859362,
          0.2360497813286463,
          0.2356221588178881,
          1.3365293030345182,
          0.020054992215139303,
          0.016411643286651095,
          1.3365560458631383,
          0.016328845626687384,
          0.016339413517106886,
          0.016158690617286923,
          0.7616593405931139,
          0.8176111538019055,
          0.8106884736740888,
          0.2355522925254719,
          0.04390849494705748,
          0.23641622659421788,
          1.3365655177186484,
          0.016392117224149887,
          1.424350398048686,
          0.8129873194251714,
          0.2358881169140221,
          0.5913160583174509,
          0.2405242321412021,
          0.23626330972579174,
          1.4242680670479557,
          0.23542782101051324,
          0.23630090437650328,
          0.8103007616663713,
          1.4242814253300957,
          0.24036251372372322,
          0.5032241647673705,
          -0.07152595013370591,
          0.2354641901610104,
          0.8103796420956082,
          0.2732629906180339,
          0.2354249790448148,
          0.016246617760245056,
          0.435541882351391,
          1.3365345793314274,
          1.341708824156982,
          0.761839357522034,
          0.01632585073028172,
          0.45951410839383805,
          0.7617561690687888,
          0.23599243518847637,
          0.2362291565522837,
          1.424424082203556,
          0.5933571053166057,
          1.512044939283648,
          0.7617453064381797,
          0.016276403016358465,
          0.2366111312513985,
          0.5910922765693308,
          1.4326567024341708,
          0.2358479046041902,
          0.5910723543521372,
          0.13906828102969726,
          0.09993868959447287,
          0.8104184024631587,
          0.7619952732960962,
          0.23578989168557493,
          0.805620383612706,
          1.3374009003389118,
          0.5911338991775971,
          0.2354879050836353,
          0.7617571582589672,
          1.3371620129038564,
          0.5915202628708454,
          0.5922317553848938,
          0.06528495546684816,
          1.336916761301814,
          0.23542496187969772,
          0.8174836356288742,
          0.8104078699598493,
          0.8108621446570952,
          0.7617143164469418,
          1.336692373052392,
          0.810642049351879,
          0.5910793726757155,
          0.016200413572480414,
          1.3365381174507622,
          0.8103503293837125,
          0.8103024090367725,
          0.23626428413057035,
          0.01621236723036061,
          1.202609702426872,
          0.2355255304151473,
          0.7905648744518137,
          0.8104126287843447,
          1.3407158091267029,
          1.4686542166704435,
          0.6988409858350451,
          1.3366585667283781,
          0.2578587028253431,
          0.765618361926405,
          1.7478217318023421,
          1.336551126060504,
          0.8104391119753213,
          0.8103955469443679,
          0.7623652302756355,
          1.336680991364485,
          0.5911184512522093,
          0.8104380696878265,
          2.6783325611123168,
          0.8103952151707767,
          0.811749056002804,
          1.3365430159131129,
          0.8106381080175914,
          0.8103360371252707,
          0.810314423268668,
          0.5036029792319462,
          0.2354304938376618,
          0.8114668836395299,
          0.5910861103269726,
          1.3365693930697498,
          0.810380399411096,
          0.9810509600707276,
          0.8103444244278304,
          1.0025435183664662,
          0.23543965014351598,
          0.7639363863797577,
          0.8159606943011989,
          0.2359874287043906,
          1.3367927544487455,
          1.337154652769986,
          0.24434602854108362,
          1.3368219245027044,
          1.3380414985668356,
          0.8103605168422943,
          0.8103618578542223,
          0.8124726025902098,
          1.336676230810874,
          0.23556949457357712,
          0.0261942154840268,
          0.8105985756837829,
          1.8496035210359407,
          0.23562580335660835,
          0.06483426715296213,
          0.7619952784136055,
          0.06527864130851233,
          0.9420953215085813,
          0.23552668280846642,
          1.4243743850759631,
          0.2356026457480722,
          0.761876523987406,
          0.7617053923523225,
          0.9506218969969068,
          1.424352500853849,
          0.5863517132651478,
          1.2395008276802284,
          0.7644752876313955,
          0.9422367556548511,
          0.01626592692038765,
          1.33659384181662,
          2.632947001859,
          0.25826295755888534,
          0.7344913839670233,
          0.2354988395596144,
          0.2356650987583522,
          0.23575292327874633,
          0.23575665668830315,
          0.8104687877555563,
          0.8103194323727563,
          1.3366133722487594,
          0.11015822791740743,
          0.775003045350797,
          0.8103338435570736,
          1.0337917444180647,
          0.5915703792433121,
          0.0693644938211257,
          0.19651587083941266,
          0.8103488207901545,
          0.547721032335887,
          0.23598794029063155,
          0.81038490948192,
          0.7630279284870101,
          1.3369758350756396,
          0.22916290808727133,
          1.4253322060077964,
          0.8111397265529221,
          0.7631317879115145,
          0.9361968992266798,
          0.8106513042593221,
          0.2601319770438982,
          1.3367957083053963,
          0.7617129552658205,
          0.2357194120653448,
          0.8143159086535361,
          0.8103130802629822,
          0.7617347445037331,
          0.0162716871656838,
          0.6187689747090852,
          0.4108856127148433,
          0.8116198649408136,
          0.2920720212689244,
          0.25569000723430774,
          0.2355519132646884,
          0.32603194623418724,
          0.7634801307823833,
          1.3365912425774518,
          1.599778101871529,
          0.23548135363236905,
          0.06495483581261569,
          0.8103051159344926,
          0.8103106407563235,
          0.810395377036101,
          0.7619836310356493,
          0.5481015224043599,
          0.826337282728363,
          0.6301386427894152,
          0.8680792017742567,
          0.6790707424225416,
          0.8105537356644307,
          0.9809955286960184,
          0.7617182317290189,
          1.5561017332306897,
          0.5472106729386162,
          0.2354744973681395,
          0.8124897160597832,
          1.0252802136404795,
          1.336745443880859,
          0.02805406149956643,
          0.7617270123482673,
          0.8531486392709703,
          2.2612528699615773,
          0.9811707121426229,
          0.01626591618914007,
          2.5191380016462457,
          0.5474195058956774,
          0.23580563378991998,
          0.8103928899633974,
          0.5472839596988116,
          1.0805786771281745,
          -0.07128553318849389,
          0.8105500615244102,
          1.6014279964456721,
          0.692741471429643,
          1.3374967026340296,
          0.01647915659584735,
          0.849369388968781,
          0.016818168272200153,
          1.336677527524911,
          0.9398887009749755,
          0.44900432057926565,
          1.3373758407494927,
          0.8107430269228795,
          0.8104854667916201,
          0.8103292504556037,
          1.3391397088792438,
          0.24031949607802036,
          0.8365580300177874,
          0.6540516162403285,
          1.3404293344625715,
          0.016329025468736515,
          0.8105376576168039,
          0.44742568578840414,
          0.8125767249995978,
          1.3376844708118625,
          0.8110052975250583,
          0.23544997835514891,
          0.23606054680546498,
          2.486372518016377,
          0.5915206203491602,
          0.8118276629490349,
          0.10878555115144342,
          1.424235658671126,
          0.8108915506855711
         ],
         "z": [
          -0.4178746258673077,
          -0.39656383123363254,
          3.1240759697955074,
          -0.19208254817717058,
          -0.2179540755553164,
          -0.48277085559300525,
          -0.3904431730842161,
          -0.21945572326652055,
          -0.5009573101629035,
          -0.28463958016337015,
          -0.2189238146617699,
          -0.417431278070399,
          -0.4082801670159255,
          3.6622798624361383,
          -0.18827902396168722,
          -0.2152808341297792,
          -0.2186330753277076,
          -0.41601646403377324,
          -0.18071144674825454,
          -0.21876322107361562,
          -0.41786892927247415,
          -0.21943380440959498,
          -0.4178488275196807,
          -0.2195512558315976,
          -0.2847527013172531,
          0.30320547245834994,
          0.10605310008576037,
          -0.21922708702610813,
          -0.2134195641009974,
          -0.21913722867465518,
          -0.21962427699937512,
          -0.1920438287718775,
          -0.21805584440298728,
          -0.21839573740368498,
          -0.41531362224662727,
          2.0640955064590236,
          -0.48264070531902187,
          -0.19203480154431288,
          -0.21478510254539432,
          -0.2192611162037113,
          -0.21972479692167146,
          -0.41049797437079727,
          -0.21875445323368106,
          -0.21956638540567303,
          -0.34186041676326884,
          -0.493007594702185,
          -0.03238716891794467,
          -0.1921307266652945,
          -0.21129435246952405,
          -0.49377661340794793,
          -0.33078121423690066,
          -0.4102663795896599,
          -0.4157671655291171,
          0.02477009252351225,
          -0.21952614873356288,
          -0.21686212056962598,
          -0.21885106719940414,
          -0.4831296022431706,
          -0.17508233815169538,
          -0.1914328935040046,
          -0.48300691550716,
          -0.1917946287277381,
          -0.19172237909472442,
          -0.19255997387119275,
          -0.28499189318766804,
          -0.3851060596907508,
          -0.41610516349118215,
          -0.2191730394069869,
          -0.15323178721983544,
          -0.21526587515103957,
          -0.4829690753352586,
          -0.19151878042925166,
          -0.4935057717040208,
          -0.4055306109414,
          -0.217662720192491,
          -0.38940688813635416,
          -0.1965045149797262,
          -0.2159966247612679,
          -0.493853612581566,
          -0.2197258050011302,
          -0.21583842359249697,
          -0.4178524635456448,
          -0.4937972120617278,
          -0.19767889097738617,
          -0.2314104577576478,
          -0.1815935896138937,
          -0.2195679294812908,
          -0.41749721435556264,
          -0.04904751444571513,
          -0.2197395032526322,
          -0.19216505916530668,
          0.7103170932009992,
          -0.4831067742446201,
          -0.6088064991868197,
          -0.2841899869314105,
          -0.19179937748350073,
          -0.37419076612893326,
          -0.2845582910059444,
          -0.21713799195055236,
          -0.2160860265344498,
          -0.49315206335716666,
          -0.3799254031462894,
          -0.504411137106159,
          -0.28460878009084856,
          -0.19203618874977732,
          -0.2144612773908868,
          -0.39040722420583696,
          -0.04868653336607949,
          -0.21785144773611867,
          -0.39050144831415257,
          0.3543230982993051,
          -0.1733883468084816,
          -0.4173141545721901,
          -0.2834797929926454,
          -0.2180435676299345,
          -0.28994474779786766,
          -0.47909045259265254,
          -0.3902145727215978,
          -0.21945371557492666,
          -0.284551218908526,
          -0.48033973393619195,
          -0.38841535982613834,
          -0.3851259755418437,
          -0.3232601439417302,
          -0.481356176622205,
          -0.21973957963521165,
          -0.38537856470328524,
          -0.41735809624805076,
          -0.41535374971584943,
          -0.2847365804879828,
          -0.48238915313867065,
          -0.41631300588404835,
          -0.39046375290737356,
          -0.19237283145361458,
          -0.4830893718738115,
          -0.41762334218293895,
          -0.4178453359484428,
          -0.2159689444602646,
          -0.1923204822919906,
          -0.5085708944096966,
          -0.219283943346143,
          0.09623944654194044,
          -0.4173684535400766,
          -0.46396896994628223,
          -0.4969225037139078,
          -0.30933931883115035,
          -0.4825493823951442,
          -0.11569649544554915,
          -0.26751356153347466,
          0.9066352241173486,
          -0.4830324924879611,
          -0.41722696700282164,
          -0.4174130424310842,
          -0.28177859837150987,
          -0.482431417191608,
          -0.3902953715897492,
          -0.41723534383716376,
          -0.9434937444408592,
          -0.4174242506574552,
          -0.41113200326744226,
          -0.4830667818273187,
          -0.41629236374021994,
          -0.4176907642337592,
          -0.417791039956833,
          -0.37855580856497284,
          -0.2197141803779142,
          -0.4124580333929698,
          -0.39043460144015485,
          -0.48294961774198275,
          -0.4174939377155635,
          0.7340445434663034,
          -0.4176482393507243,
          -0.48114149779273274,
          -0.21967411349244376,
          -0.27444185606874466,
          -0.3926658548238362,
          -0.21723660674788997,
          -0.4819199351386406,
          -0.48034714677421647,
          -0.17834944924771534,
          -0.48179372648827906,
          -0.4762378331919828,
          -0.41757911653061525,
          -0.41756815730027325,
          -0.4077576111776537,
          -0.4824659755293251,
          -0.21908987222722293,
          -0.14739479688557375,
          -0.41649063047249096,
          1.018893635647561,
          -0.21882077902560626,
          -0.3252659594273636,
          -0.28346860198497054,
          -0.3232665214790279,
          -0.433074689972124,
          -0.21928644271614214,
          -0.4933810465787758,
          -0.21891887975910093,
          -0.28401033313626073,
          -0.2847794500632648,
          0.22417085796730954,
          -0.4934834816416183,
          -0.26277736040043254,
          4.264156912675374,
          -0.272040412883418,
          -0.43246275374668214,
          -0.19208151516348157,
          -0.48284372954937527,
          0.9060555562696896,
          -0.11359839913582342,
          1.9395463479137571,
          -0.2194064059107872,
          -0.21864238487712037,
          -0.21825122994037177,
          -0.218235076779254,
          -0.417091790749578,
          -0.41776875008324366,
          -0.48274701730915703,
          -0.32406645646644844,
          -0.22600183892277395,
          -0.41769834702396025,
          0.5665664289713841,
          -0.38828419245313944,
          -0.304834564152159,
          -0.3410118104523468,
          -0.41762986934113827,
          -0.3827615090083792,
          -0.21723439329264263,
          -0.41747806227744794,
          -0.2788261717251186,
          -0.4810970947343474,
          0.4066614031251385,
          -0.48911123970641546,
          -0.41407596370617106,
          -0.2782371973915242,
          0.16175892336513356,
          -0.4162310798797214,
          -0.10935110133605709,
          -0.4819420575373167,
          -0.28474609972542975,
          -0.21842135122214468,
          -0.3998520741111545,
          -0.41779637305774925,
          -0.28464959151882563,
          -0.19205717476812342,
          -0.35138958359620587,
          -0.24126621655314112,
          -0.41198321516033265,
          0.03233260149001322,
          -0.24591220589393273,
          -0.21916281341600646,
          0.18513388017106408,
          -0.2767649419808577,
          -0.48284416078738146,
          -0.5151442329907544,
          -0.21948136336559784,
          -0.3247163787206339,
          -0.4178315299836703,
          -0.41780622989815247,
          -0.41742215421439793,
          -0.28351899612733833,
          -0.3811152611788422,
          -0.3448926305060062,
          -0.2685023908438087,
          -0.16074515148325597,
          -0.40004805600978166,
          -0.4166992967347932,
          -0.31185383893361823,
          -0.28472243264439845,
          -0.5089271996035108,
          -0.38510567127957906,
          -0.21951025649638567,
          -0.40768356716317106,
          -0.31529197977196466,
          -0.4821595341724615,
          -0.1396271134516395,
          -0.28468164975067056,
          -0.2198996661949272,
          -0.9101087073406724,
          -0.3110414858767305,
          -0.19208156159384732,
          -0.06910540339288342,
          -0.3841680246593831,
          -0.2180092088589331,
          -0.41743919739773727,
          -0.38477889254630626,
          0.8037602651790136,
          -0.18048358392541547,
          -0.41671519345729807,
          -0.5076985707578628,
          -0.33747911408111786,
          -0.4786508195244447,
          -0.1911289283947167,
          -0.29584705611383555,
          -0.1895895454732216,
          -0.48246734564116817,
          0.16726125013366358,
          0.7728224985196063,
          -0.47946692948041425,
          -0.4157993251967479,
          -0.4170154351773466,
          -0.41772920249016454,
          -0.47148626017344714,
          -0.19786501332784454,
          -0.29691685235829635,
          -0.11788684556419683,
          -0.46555747297172334,
          -0.1917938506139118,
          -0.41681702657423264,
          0.7324158929277573,
          -0.4077259423000465,
          -0.47798639957798766,
          -0.41469249393355945,
          -0.2196282821139296,
          -0.21686300978640322,
          -0.8789466012946713,
          -0.3884959915639869,
          -0.41103667796828314,
          -0.33024277113687317,
          -0.49400212520861886,
          -0.41512181196732795
         ]
        },
        {
         "customdata": [
          [
           20
          ],
          [
           12
          ],
          [
           20
          ],
          [
           18
          ],
          [
           34
          ],
          [
           34
          ],
          [
           23
          ],
          [
           23
          ],
          [
           34
          ],
          [
           36
          ],
          [
           25
          ],
          [
           31
          ],
          [
           10
          ],
          [
           10
          ],
          [
           9
          ],
          [
           23
          ],
          [
           34
          ],
          [
           33
          ],
          [
           30
          ],
          [
           20
          ],
          [
           6
          ],
          [
           3
          ],
          [
           0
          ],
          [
           15
          ],
          [
           18
          ],
          [
           10
          ],
          [
           34
          ],
          [
           32
          ],
          [
           20
          ],
          [
           18
          ],
          [
           10
          ],
          [
           10
          ],
          [
           30
          ],
          [
           12
          ],
          [
           18
          ],
          [
           30
          ],
          [
           16
          ],
          [
           5
          ],
          [
           35
          ],
          [
           12
          ],
          [
           1
          ],
          [
           2
          ],
          [
           6
          ],
          [
           8
          ],
          [
           10
          ],
          [
           10
          ],
          [
           28
          ],
          [
           10
          ],
          [
           18
          ],
          [
           36
          ],
          [
           18
          ],
          [
           15
          ],
          [
           36
          ],
          [
           20
          ],
          [
           36
          ],
          [
           34
          ],
          [
           10
          ],
          [
           10
          ],
          [
           20
          ],
          [
           12
          ],
          [
           3
          ],
          [
           36
          ],
          [
           36
          ],
          [
           7
          ],
          [
           20
          ],
          [
           10
          ],
          [
           10
          ],
          [
           15
          ],
          [
           31
          ],
          [
           7
          ],
          [
           20
          ],
          [
           10
          ],
          [
           26
          ],
          [
           18
          ],
          [
           32
          ],
          [
           10
          ],
          [
           35
          ],
          [
           30
          ],
          [
           32
          ],
          [
           10
          ],
          [
           11
          ],
          [
           10
          ],
          [
           27
          ],
          [
           10
          ],
          [
           14
          ],
          [
           24
          ],
          [
           31
          ],
          [
           12
          ],
          [
           13
          ],
          [
           11
          ],
          [
           28
          ],
          [
           18
          ],
          [
           32
          ],
          [
           10
          ],
          [
           4
          ],
          [
           4
          ],
          [
           18
          ],
          [
           21
          ],
          [
           18
          ],
          [
           18
          ],
          [
           36
          ],
          [
           4
          ],
          [
           23
          ],
          [
           34
          ],
          [
           19
          ],
          [
           20
          ],
          [
           10
          ],
          [
           18
          ]
         ],
         "hovertemplate": "<b>%{hovertext}</b><br><br>class=%{marker.color}<br>Principal Component 3=%{x}<br>Principal Component 2=%{y}<br>Principal Component 1=%{z}<br>Algorithm=%{customdata[0]}<extra></extra>",
         "hovertext": [
          "Ethereum",
          "Monero",
          "Ethereum Classic",
          "ZCash",
          "DigiByte",
          "MyriadCoin",
          "Riecoin",
          "Diamond",
          "Verge",
          "FeatherCoin",
          "MediterraneanCoin",
          "Vertcoin",
          "ByteCoin",
          "DigitalNote ",
          "StorjCoin",
          "FairCoin",
          "Unitus",
          "Cryptonite",
          "Crypto",
          "Expanse",
          "Siacoin",
          "Decred",
          "HOdlcoin",
          "SoilCoin",
          "Komodo",
          "Karbo",
          "Circuits of Value",
          "ZCoin",
          "Elementrem",
          "ZClassic",
          "Cannabis Industry Coin",
          "Bikercoins",
          "HexxCoin",
          "Citadel",
          "Zero",
          "Zoin",
          "DubaiCoin",
          "TajCoin",
          "Coinonat",
          "Quantum Resistant Ledger",
          "Espers",
          "Dynamic",
          "Nano",
          "ChanCoin",
          "Dinastycoin",
          "LeviarCoin",
          "SmartCash",
          "Sumokoin",
          "BitcoinZ",
          "VIVO Coin",
          "Bitcoin Gold",
          "Pirl",
          "Innova",
          "Ellaism",
          "GoByte",
          "SHIELD",
          "UltraNote",
          "BitCoal",
          "DaxxCoin",
          "Lethean",
          "Photon",
          "SparksPay",
          "GunCoin",
          "Interzone",
          "1717 Masonic Commemorative Token",
          "TurtleCoin",
          "Niobio Cash",
          "Travelflex",
          "KREDS",
          "Stipend",
          "Callisto Network",
          "BitTube",
          "Aidos Kuneen",
          "Bitrolium",
          "Alpenschillling",
          "Monero Classic",
          "Jumpcoin",
          "Infinex",
          "GINcoin",
          "PlatinCoin",
          "Loki",
          "Newton Coin",
          "MassGrid",
          "PluraCoin",
          "Muse",
          "PlusOneCoin",
          "Absolute Coin",
          "Webchain",
          "Ryo",
          "Qwertycoin",
          "XDNA",
          "CrypticCoin",
          "Actinium",
          "FREDEnergy",
          "Universal Molecule",
          "Lithium",
          "PirateCash",
          "Exosis",
          "Beam",
          "Bithereum",
          "UFO Coin",
          "BlakeCoin",
          "Groestlcoin",
          "JoinCoin",
          "Vollar",
          "Reality Clash",
          "Beldex",
          "Horizen"
         ],
         "legendgroup": "1",
         "marker": {
          "color": [
           1,
           1,
           1,
           1,
           1,
           1,
           1,
           1,
           1,
           1,
           1,
           1,
           1,
           1,
           1,
           1,
           1,
           1,
           1,
           1,
           1,
           1,
           1,
           1,
           1,
           1,
           1,
           1,
           1,
           1,
           1,
           1,
           1,
           1,
           1,
           1,
           1,
           1,
           1,
           1,
           1,
           1,
           1,
           1,
           1,
           1,
           1,
           1,
           1,
           1,
           1,
           1,
           1,
           1,
           1,
           1,
           1,
           1,
           1,
           1,
           1,
           1,
           1,
           1,
           1,
           1,
           1,
           1,
           1,
           1,
           1,
           1,
           1,
           1,
           1,
           1,
           1,
           1,
           1,
           1,
           1,
           1,
           1,
           1,
           1,
           1,
           1,
           1,
           1,
           1,
           1,
           1,
           1,
           1,
           1,
           1,
           1,
           1,
           1,
           1,
           1,
           1,
           1,
           1,
           1,
           1,
           1,
           1
          ],
          "coloraxis": "coloraxis",
          "symbol": "diamond"
         },
         "mode": "markers",
         "name": "1",
         "scene": "scene",
         "showlegend": true,
         "type": "scatter3d",
         "x": [
          1.0125253083069288,
          1.3341564565868078,
          1.0129907240199707,
          1.0929842196023647,
          0.4955931748207477,
          0.45402320129172513,
          0.8921053189089884,
          1.5380409593297568,
          0.4854699285940377,
          0.3700128928794549,
          0.8119566609514941,
          0.5704793746662852,
          1.8129046674918587,
          1.436337917416566,
          0.37902388916797775,
          1.5380283233453165,
          0.4496825656433313,
          0.4939289564462396,
          0.610644408965324,
          1.0125684960766375,
          1.5734384222779911,
          2.3421420291207657,
          1.816777346554625,
          1.2136139720843495,
          3.677812927795932,
          1.4145856466059088,
          0.45228923097421286,
          0.530139860029756,
          1.012588200076962,
          1.0929843232349294,
          1.4146104437763147,
          1.4146188244491624,
          0.6105213721899007,
          1.3345671234581586,
          1.0929753752323448,
          0.6105447922520241,
          1.1733493609166965,
          2.2617707240994234,
          0.4095895706567713,
          1.334386294886574,
          2.5320595181721255,
          1.736188616637978,
          1.5761237415931957,
          1.4950358459253854,
          1.4188936495560351,
          1.4146828606521993,
          0.7018637598690755,
          1.4147605443358278,
          1.1392076685687806,
          0.3693395547058273,
          1.092983644526835,
          1.2138924447022716,
          0.3693793465827833,
          1.013151865303091,
          0.3693501027862246,
          0.45112194586584053,
          1.6019517597456818,
          1.4145913858071324,
          1.0346795895262633,
          1.3363483199955195,
          1.8938306477211406,
          0.3693260320101123,
          0.37037128293335136,
          1.5352239322531864,
          -0.06431408656271961,
          3.6292998542361397,
          1.4153012793520716,
          1.2137632698057705,
          0.5726980009436422,
          2.181325372371142,
          1.0269331259821328,
          1.4167770862180828,
          0.7713662101790848,
          1.093089147562967,
          0.5307565945358446,
          1.4146037966164986,
          0.40952848879029385,
          0.6105572900869878,
          0.5301157195637703,
          1.4158946313269491,
          1.3746922505866737,
          1.8202295306838034,
          0.731473638577954,
          1.416748972470562,
          0.1769408435441609,
          0.8517647588729641,
          1.2165212458098913,
          1.3380377857031682,
          1.2941495359713564,
          1.7776567266867136,
          1.3378267417763676,
          1.1095456900573197,
          0.5302783420276495,
          1.4323747933649478,
          1.6560163608135237,
          1.6558383386210456,
          0.01632096673646749,
          0.9723749348144953,
          1.093518837600441,
          1.0930051046671834,
          0.37792731344072217,
          1.6713068818793992,
          0.8921505028035714,
          0.4496923938359205,
          1.0573864704941562,
          1.01258449130448,
          1.4176119997856094,
          1.0929842246694053
         ],
         "y": [
          -1.1674924836159728,
          -1.5186306931884084,
          -1.1670158812254154,
          -1.2555024483131974,
          -0.4684435862410777,
          -0.5436868481653931,
          -1.0359542347340882,
          -0.46141464050517633,
          -0.46232681435394857,
          -0.46476431267592927,
          -0.94802811567489,
          -0.6851261248584919,
          -0.5627761751166209,
          -1.560541284235278,
          -2.6071065573815657,
          -0.4612500623048462,
          -0.5537017819618691,
          -0.5913068474468439,
          -0.7291491703718983,
          -1.1677948820470592,
          -1.666299903575217,
          -1.33840994419294,
          -2.0447061395381683,
          -1.3870471521932548,
          1.0447622935797494,
          -1.6063472807720407,
          -0.5478289178819664,
          -0.6415616646083384,
          -1.1677198281367664,
          -1.2555086236009243,
          -1.6063472388142042,
          -1.6063092967978843,
          -0.7293119363240894,
          -1.5182500258100413,
          -1.255512759406143,
          -0.7292298346988144,
          -1.3432668536569292,
          -1.2506634000837134,
          -0.5099359249886394,
          -1.5182214000017973,
          -1.2378616331034213,
          -1.9571497266648499,
          -1.7806023478750905,
          -1.6939724466884434,
          -1.595731150192815,
          -1.6062294477900905,
          -0.7983489970839642,
          -1.6061717568558909,
          -1.191706834960053,
          -0.4661501376998921,
          -1.255468180543496,
          -1.3866736976559466,
          -0.4661032737000583,
          -1.1672147051352613,
          -0.4661338813990182,
          -0.5508122115412502,
          -1.3542123502021288,
          -1.606353437473134,
          -1.1442982714388397,
          -1.5149767404258865,
          -1.6125882599318655,
          -0.46615034135286076,
          -0.46408955200328855,
          -1.7378631294004325,
          -2.1259827335033545,
          0.7542715422460661,
          -1.6051980561113575,
          -1.3865402384674366,
          -0.6808479482131321,
          -1.1629992415343995,
          -1.1528652365020764,
          -1.603941755217123,
          -0.9046098287763601,
          -1.255172609307989,
          -0.6408866469066531,
          -1.6063004117099602,
          -0.5099570037819,
          -0.7292652811045359,
          -0.6415874051618546,
          -1.6050909055311224,
          -1.5621504013425507,
          -1.0620449937554515,
          -0.8600590760052549,
          -1.6022665049665297,
          -2.389005899321288,
          -0.9923812141128757,
          -0.11045253404628003,
          -1.5148297175886618,
          -1.4746290190320417,
          -0.8138568731053989,
          -0.24135923978803178,
          -1.2242623854724706,
          -0.6414043245944702,
          -1.582304849754938,
          -1.8692789938559096,
          -1.8694029801534033,
          -2.2134220826463653,
          -1.1239683823761903,
          -1.2548777025180797,
          -1.255418937623466,
          -0.444175007172792,
          -1.8542051196774532,
          -1.035825672855509,
          -0.553911294781334,
          -1.2068041461839574,
          -1.1677295584068499,
          -1.599929725084166,
          -1.2555027502495002
         ],
         "z": [
          -0.04411582063938219,
          -0.0019787168801890524,
          -0.04190713694535559,
          -0.034542165989836476,
          0.2626521664598672,
          -0.0761622150057886,
          -0.06045818406817562,
          -0.26008086092996946,
          0.28601445459301694,
          -0.12620090950354515,
          -0.07029897613701139,
          -0.10393698106764418,
          4.652786103448568,
          0.2140167324084568,
          0.35010189959323323,
          -0.25937184593121637,
          -0.1208894490626741,
          -0.08713532343260948,
          -0.09924834851953963,
          -0.04541239160841651,
          0.5301503670059918,
          -0.15104789339573566,
          0.064018025249712,
          -0.01816281205333281,
          -0.82357209881362,
          0.00885659962858414,
          -0.09464194941336647,
          -0.11066616249930418,
          -0.045081168209365016,
          -0.0345688843061862,
          0.008864459760884328,
          0.009031413849636677,
          -0.09999152384176095,
          -0.00020256187948486948,
          -0.034589570709495934,
          -0.0996286201462466,
          -0.023933821244580905,
          -0.16173551886383822,
          -0.12666987641528626,
          -0.00013455232051367403,
          0.7092250484390443,
          0.052439455189954916,
          0.035841089258367244,
          0.020094446349202186,
          0.056178021954483646,
          0.009397136228464314,
          -0.004860099750186125,
          0.00967109911308562,
          0.2561236816139274,
          -0.13241258979728882,
          -0.03439390130129824,
          -0.016458835577728162,
          -0.13219726063968298,
          -0.04271851487424749,
          -0.13233890379302884,
          -0.10792656987429015,
          1.1590841316637637,
          0.008831706865429927,
          0.06321798766698569,
          0.014528354594136265,
          1.410887916866169,
          -0.1324176592574081,
          -0.1231669745208209,
          0.02536359239221203,
          0.28449818994484627,
          10.920478120122993,
          0.014056459585436248,
          -0.01592070936025431,
          -0.08471757975583324,
          -0.17280295439390758,
          0.023708528149318495,
          0.01995554335598145,
          -0.07773905996649966,
          -0.03308086299425973,
          -0.10755111843883841,
          0.009065249369167815,
          -0.12678010037346024,
          -0.0997782986560128,
          -0.11078514168725577,
          0.014704349427655961,
          0.005005101194025141,
          2.492297747360232,
          -0.08005737770361712,
          0.02720376694310195,
          0.317542431230058,
          -0.06715060698136377,
          -0.3029463110806134,
          0.01568837365978692,
          -0.006710967413725798,
          3.37127556515565,
          -0.2835940042219011,
          0.105913243093641,
          -0.10994170894375685,
          0.11851311057640901,
          0.04235143130445368,
          0.04175921745299038,
          0.2965982061659252,
          -0.05096126410878996,
          -0.031670319328444656,
          -0.034173943396826494,
          -0.03456049484354066,
          0.11238382725114526,
          -0.05988728251917957,
          -0.12179398341289499,
          -0.01756405133557264,
          -0.04512446666883713,
          0.0375935755807416,
          -0.03454347236291805
         ]
        },
        {
         "customdata": [
          [
           50
          ],
          [
           47
          ],
          [
           52
          ],
          [
           41
          ],
          [
           52
          ],
          [
           64
          ],
          [
           52
          ],
          [
           52
          ],
          [
           64
          ],
          [
           34
          ],
          [
           38
          ],
          [
           34
          ],
          [
           54
          ],
          [
           52
          ],
          [
           52
          ],
          [
           64
          ],
          [
           64
          ],
          [
           52
          ],
          [
           52
          ],
          [
           52
          ],
          [
           52
          ],
          [
           41
          ],
          [
           40
          ],
          [
           66
          ],
          [
           64
          ],
          [
           52
          ],
          [
           41
          ],
          [
           41
          ],
          [
           66
          ],
          [
           41
          ],
          [
           14
          ],
          [
           41
          ],
          [
           41
          ],
          [
           52
          ],
          [
           46
          ],
          [
           52
          ],
          [
           66
          ],
          [
           52
          ],
          [
           41
          ],
          [
           41
          ],
          [
           47
          ],
          [
           52
          ],
          [
           41
          ],
          [
           47
          ],
          [
           40
          ],
          [
           57
          ],
          [
           52
          ],
          [
           41
          ],
          [
           50
          ],
          [
           37
          ],
          [
           31
          ],
          [
           39
          ],
          [
           47
          ],
          [
           14
          ],
          [
           35
          ],
          [
           46
          ],
          [
           46
          ],
          [
           64
          ],
          [
           40
          ],
          [
           66
          ],
          [
           43
          ],
          [
           42
          ],
          [
           52
          ],
          [
           62
          ],
          [
           52
          ],
          [
           22
          ],
          [
           41
          ],
          [
           53
          ],
          [
           41
          ],
          [
           69
          ],
          [
           70
          ],
          [
           52
          ],
          [
           52
          ],
          [
           68
          ],
          [
           52
          ],
          [
           46
          ],
          [
           47
          ],
          [
           46
          ],
          [
           52
          ],
          [
           46
          ],
          [
           64
          ],
          [
           52
          ],
          [
           41
          ],
          [
           64
          ],
          [
           17
          ],
          [
           70
          ],
          [
           64
          ],
          [
           46
          ],
          [
           64
          ],
          [
           14
          ],
          [
           47
          ],
          [
           41
          ],
          [
           14
          ],
          [
           52
          ],
          [
           14
          ],
          [
           14
          ],
          [
           47
          ],
          [
           29
          ],
          [
           41
          ],
          [
           41
          ],
          [
           47
          ],
          [
           52
          ]
         ],
         "hovertemplate": "<b>%{hovertext}</b><br><br>class=%{marker.color}<br>Principal Component 3=%{x}<br>Principal Component 2=%{y}<br>Principal Component 1=%{z}<br>Algorithm=%{customdata[0]}<extra></extra>",
         "hovertext": [
          "Bitshares",
          "PayCoin",
          "CasinoCoin",
          "Exclusive Coin",
          "FlutterCoin",
          "HyperStake",
          "MintCoin",
          "Nautilus Coin",
          "SuperCoin",
          "TeslaCoin",
          "TittieCoin",
          "Crypti",
          "BurstCoin",
          "RubyCoin",
          "Dnotes",
          "Ucoin",
          "Squall Coin",
          "Diggits",
          "GPU Coin",
          "ZeitCoin",
          "SafeExchangeCoin",
          "Nebuchadnezzar",
          "Let it Ride",
          "MudraCoin",
          "Lutetium Coin",
          "BitCurrency",
          "Opair",
          "CoffeeCoin",
          "RoyalCoin",
          "TeamUP",
          "ARK",
          "FreeCoin",
          "Creatio",
          "PandaCoin",
          "Allsafe",
          "Zilbercoin",
          "FindCoin",
          "RenosCoin",
          "Atmos",
          "MacronCoin",
          "ProCurrency",
          "GrowthCoin",
          "Phreak",
          "Ultimate Secure Cash",
          "QTUM",
          "Signatum",
          "Draftcoin",
          "Stakecoin",
          "Obsidian",
          "Cardano",
          "Rupee",
          "KekCoin",
          "Infinity Economics",
          "Lamden Tau",
          "Bulwark",
          "Kalkulus",
          "Digiwage",
          "Monkey Project",
          "TokenPay",
          "Tokyo Coin",
          "BiblePay",
          "Poa Network",
          "Velox",
          "Ontology",
          "MedicCoin",
          "Bitcoin Green",
          "Deviant Coin",
          "Semux",
          "Zealium",
          "Proton",
          "Bitcoin Incognito",
          "HollyWoodCoin",
          "Xt3ch",
          "Dekado",
          "Lynx",
          "Poseidon Quark",
          "BitcoinWSpectrum",
          "Dystem",
          "Peony Coin",
          "Vitae",
          "ARENON",
          "MMOCoin",
          "Ketan",
          "PAXEX",
          "Acute Angle Cloud",
          "Bettex coin",
          "Junson Ming Chan Coin",
          "Crypto Sports",
          "Dash Platinum",
          "ALAX",
          "NeosCoin",
          "Radium",
          "Lisk",
          "HiCoin",
          "EOS",
          "Oxycoin",
          "TigerCash",
          "Waves",
          "Particl",
          "Nxt",
          "ZEPHYR",
          "BitcoinPlus"
         ],
         "legendgroup": "3",
         "marker": {
          "color": [
           3,
           3,
           3,
           3,
           3,
           3,
           3,
           3,
           3,
           3,
           3,
           3,
           3,
           3,
           3,
           3,
           3,
           3,
           3,
           3,
           3,
           3,
           3,
           3,
           3,
           3,
           3,
           3,
           3,
           3,
           3,
           3,
           3,
           3,
           3,
           3,
           3,
           3,
           3,
           3,
           3,
           3,
           3,
           3,
           3,
           3,
           3,
           3,
           3,
           3,
           3,
           3,
           3,
           3,
           3,
           3,
           3,
           3,
           3,
           3,
           3,
           3,
           3,
           3,
           3,
           3,
           3,
           3,
           3,
           3,
           3,
           3,
           3,
           3,
           3,
           3,
           3,
           3,
           3,
           3,
           3,
           3,
           3,
           3,
           3,
           3,
           3,
           3,
           3,
           3,
           3,
           3,
           3,
           3,
           3,
           3,
           3,
           3,
           3,
           3,
           3,
           3
          ],
          "coloraxis": "coloraxis",
          "symbol": "square"
         },
         "mode": "markers",
         "name": "3",
         "scene": "scene",
         "showlegend": true,
         "type": "scatter3d",
         "x": [
          -1.2625895581452073,
          -1.149777800362759,
          -1.4798195236456997,
          -0.908585766785247,
          -0.7047385068912846,
          -1.8333580540977352,
          -1.35206807257977,
          -1.3507860394257416,
          -1.8332627199462375,
          -0.6269457319251635,
          -0.7829697029699196,
          -0.6271686727976118,
          -1.6419155408537411,
          -1.3508225686949678,
          -1.3497222808515121,
          -1.8332155507799213,
          -1.4025200913815767,
          -1.3506050483836405,
          -1.3503330860229263,
          -1.13341926451917,
          -1.5615537922467408,
          -0.908542248502798,
          -0.8683101651474124,
          -1.9132229356852613,
          -1.8318411017421452,
          -1.3508309092934199,
          -0.908425649238704,
          -0.9085054301713472,
          -1.9136608140038074,
          -0.9079189054345338,
          -1.1150463338111727,
          -0.9084774700339001,
          -0.908542248502798,
          -1.2806881238897485,
          -1.1095689380747304,
          -1.350699166132753,
          -1.913634849222632,
          -1.3507467353550584,
          -0.9083473363748239,
          -0.9077218044755886,
          -0.9834721015844491,
          -1.3464025652497698,
          -0.9085195657833646,
          -1.149361670336472,
          -0.8681662747859271,
          -1.5515385016768912,
          -1.3507834660215903,
          -0.9084490490462968,
          -1.2702132916914939,
          -0.6494877847286982,
          -0.506501300042184,
          -0.8281331192358757,
          -1.130371280277575,
          -1.1142251760861748,
          -0.6673053530351699,
          -1.1095582258804215,
          -1.1093370468696337,
          -1.8332134335150787,
          -0.8683279542413699,
          -1.9119054216357794,
          -1.6236723874057264,
          -1.378980399164509,
          -1.35054746097673,
          -1.7506735573154513,
          -1.3497277070652003,
          -0.14467804196991796,
          -0.908391544735457,
          -2.683021529366932,
          -0.9084086549315107,
          -2.034176360624093,
          -1.6436935227483374,
          -1.350765579458163,
          -1.3507238381537847,
          -1.9938748420325525,
          -2.228188786353741,
          -1.108160147626179,
          -1.149585840354215,
          -1.109555429790261,
          -1.3133837616202224,
          -1.1093836735026712,
          -1.8331388970996512,
          -1.3502506473839784,
          -0.9081202322975994,
          -1.8330382292182996,
          -1.4491374780392625,
          -2.0743686421144742,
          -1.8342676633137331,
          -1.1095720504926434,
          -1.833216100516512,
          -1.1131579455851819,
          -1.14975850337353,
          -0.9085656973101288,
          -1.1149695817693706,
          -1.3292085718806743,
          -1.1153769968972052,
          -1.1153829611080055,
          -1.147645538650984,
          -1.2874100885399629,
          -0.9085668286121485,
          -0.6910563127974759,
          -2.4377052906820165,
          -1.3508187662807698
         ],
         "y": [
          -0.793008096637611,
          -0.9418971181348271,
          -0.6877246722973025,
          -1.2050631776883103,
          -0.14621626572764057,
          -0.19061072761460027,
          -0.6483898251197214,
          -0.7226104855285839,
          -0.1962915270550366,
          -1.5115550147777905,
          -1.325976756301558,
          -1.5117036488741622,
          -0.8155981778857657,
          -0.7226072766907561,
          -0.7210050504500941,
          -0.19641559713533602,
          0.1867821066594192,
          -0.7221356406050631,
          -0.7220800500758462,
          -0.3783319377839618,
          -0.9021612559631443,
          -1.2049696978276612,
          -1.2487282617831712,
          -0.10831038601930723,
          -0.19274654727020019,
          -0.7221102746586786,
          -1.204663666868823,
          -1.2044769930196328,
          -0.10874871556824894,
          -1.2043660738633823,
          -3.5382075575890486,
          -1.2047997461728575,
          -1.2049696978276612,
          -0.5339727484954061,
          -0.9857496413398878,
          -0.7225723096566142,
          -0.10868059482377407,
          -0.7225014512435386,
          -1.20445524809944,
          -1.2028120164095426,
          -0.7784738920908398,
          -0.7173217344983354,
          -1.204977992347118,
          -0.941494847491353,
          -1.2483692982157417,
          -0.5027622222548844,
          -0.7225991526452853,
          -1.204935046198981,
          -0.810121718878271,
          -1.1921281437938571,
          -1.6434750856159197,
          -1.2926998964439833,
          -0.8909806737193873,
          -3.5367640692211055,
          -1.4680933086261083,
          -0.9857162977063647,
          -0.9854626772794841,
          -0.19640742833178462,
          -1.2488100705519822,
          -0.1062189984598126,
          -1.6747561124408943,
          -1.5432168845948224,
          -0.7223431838548042,
          -0.2797275242097072,
          -0.7206817116339457,
          -2.038206397277407,
          -1.204815233986028,
          -1.8283758619118258,
          -1.2048703306209858,
          0.022908788870488216,
          0.449981522739271,
          -0.7225105099977936,
          -0.7225798090521834,
          -0.020755812741285306,
          -1.2089448904281401,
          -0.9843956035604582,
          -0.9415463269703983,
          -0.9857485789453784,
          -0.6859808208677524,
          -0.985370935831687,
          -0.1962816040495838,
          -0.721760511009489,
          -1.204593652873899,
          -0.19623524620313074,
          -3.593258321096495,
          0.06678078815669956,
          -0.13640866629576204,
          -0.985783140461884,
          -0.19642313917080276,
          -3.533192012341395,
          -0.941905162272663,
          -1.2050500864407276,
          -3.5380903872722773,
          -0.6660315211977406,
          -3.535295533843057,
          -3.534940136696923,
          -0.9363011149654089,
          -2.49724904365661,
          -1.2050318211560607,
          -1.0077932206129785,
          -2.0803843987682953,
          -0.7226995230622913
         ],
         "z": [
          0.19911554310682303,
          0.13794113368146207,
          1.1848347385742672,
          0.17034690532623722,
          -0.08070213687288284,
          0.07053354474787718,
          0.4319675558451597,
          0.11085193738978524,
          0.04595470676036826,
          0.2105493881665385,
          0.23432267266396048,
          0.209836494855523,
          0.21480806015544504,
          0.1108545263962368,
          0.11813582762208052,
          0.045431859875121564,
          -0.0868856446453017,
          0.11296493666739471,
          0.11328995878908651,
          1.669521209424511,
          0.23061932110558028,
          0.1707653211644585,
          0.1766204090996038,
          0.036410612141434005,
          0.061751219529894145,
          0.11300488085848835,
          0.17212710531712164,
          0.17291104404820892,
          0.034376247448460025,
          0.17357314475178762,
          0.7162213773451706,
          0.17152158432752557,
          0.1707653211644585,
          0.9497075150512858,
          0.14338201411692447,
          0.11104420953500493,
          0.03467937606316292,
          0.11133642770606857,
          0.17305419305087233,
          0.18036611673196593,
          0.8973617722508318,
          0.13511933236806692,
          0.17073641421274868,
          0.13981256238756906,
          0.1782199398658414,
          0.08627484021350819,
          0.11090182656185685,
          0.17094428570408735,
          0.12262126942483217,
          1.0384195596626447,
          0.22524532558490626,
          0.1815354649945379,
          0.36451259289233023,
          0.7227286183903286,
          0.20336886571483026,
          0.1435297706611387,
          0.14469690321005255,
          0.04546790149332535,
          0.1762605176278844,
          0.04587814921026644,
          0.4368313955297492,
          0.3025426358648841,
          0.11208372270592344,
          0.07600171877354191,
          0.11953480191443366,
          0.2739418951771599,
          0.1714811000180891,
          0.5022746933862344,
          0.17123713166070056,
          0.018520891890791587,
          -0.11914116077358174,
          0.11129135153633478,
          0.11100408367043392,
          0.0248045108226445,
          2.5465281793439294,
          0.14968372773413618,
          0.1395201474799627,
          0.14339079905220262,
          0.2811075808126735,
          0.14507987537714215,
          0.04603603312115788,
          0.11469968026014685,
          0.17252496681660145,
          0.04626801979097731,
          0.7882587748068827,
          0.013169513072079126,
          0.3050469609867766,
          0.14323593727071654,
          0.045399018701721285,
          0.7385326898085889,
          0.13791226296251874,
          0.17040982907605073,
          0.7167527073755784,
          0.36262479849547313,
          0.728733431753804,
          0.7302711112595898,
          0.16284241622542747,
          0.5021963693227062,
          0.17048860120266632,
          0.12943008202674522,
          0.5842902030442155,
          0.11045610657185313
         ]
        },
        {
         "customdata": [
          [
           59
          ]
         ],
         "hovertemplate": "<b>%{hovertext}</b><br><br>class=%{marker.color}<br>Principal Component 3=%{x}<br>Principal Component 2=%{y}<br>Principal Component 1=%{z}<br>Algorithm=%{customdata[0]}<extra></extra>",
         "hovertext": [
          "BitTorrent"
         ],
         "legendgroup": "2",
         "marker": {
          "color": [
           2
          ],
          "coloraxis": "coloraxis",
          "symbol": "x"
         },
         "mode": "markers",
         "name": "2",
         "scene": "scene",
         "showlegend": true,
         "type": "scatter3d",
         "x": [
          -0.7867724942297941
         ],
         "y": [
          4.042884368800664
         ],
         "z": [
          25.425131617698284
         ]
        }
       ],
       "layout": {
        "coloraxis": {
         "colorbar": {
          "title": {
           "text": "class"
          }
         },
         "colorscale": [
          [
           0,
           "#0d0887"
          ],
          [
           0.1111111111111111,
           "#46039f"
          ],
          [
           0.2222222222222222,
           "#7201a8"
          ],
          [
           0.3333333333333333,
           "#9c179e"
          ],
          [
           0.4444444444444444,
           "#bd3786"
          ],
          [
           0.5555555555555556,
           "#d8576b"
          ],
          [
           0.6666666666666666,
           "#ed7953"
          ],
          [
           0.7777777777777778,
           "#fb9f3a"
          ],
          [
           0.8888888888888888,
           "#fdca26"
          ],
          [
           1,
           "#f0f921"
          ]
         ]
        },
        "legend": {
         "title": {
          "text": "class"
         },
         "tracegroupgap": 0,
         "x": 0,
         "y": 1
        },
        "margin": {
         "t": 60
        },
        "scene": {
         "domain": {
          "x": [
           0,
           1
          ],
          "y": [
           0,
           1
          ]
         },
         "xaxis": {
          "title": {
           "text": "Principal Component 3"
          }
         },
         "yaxis": {
          "title": {
           "text": "Principal Component 2"
          }
         },
         "zaxis": {
          "title": {
           "text": "Principal Component 1"
          }
         }
        },
        "template": {
         "data": {
          "bar": [
           {
            "error_x": {
             "color": "#2a3f5f"
            },
            "error_y": {
             "color": "#2a3f5f"
            },
            "marker": {
             "line": {
              "color": "#E5ECF6",
              "width": 0.5
             },
             "pattern": {
              "fillmode": "overlay",
              "size": 10,
              "solidity": 0.2
             }
            },
            "type": "bar"
           }
          ],
          "barpolar": [
           {
            "marker": {
             "line": {
              "color": "#E5ECF6",
              "width": 0.5
             },
             "pattern": {
              "fillmode": "overlay",
              "size": 10,
              "solidity": 0.2
             }
            },
            "type": "barpolar"
           }
          ],
          "carpet": [
           {
            "aaxis": {
             "endlinecolor": "#2a3f5f",
             "gridcolor": "white",
             "linecolor": "white",
             "minorgridcolor": "white",
             "startlinecolor": "#2a3f5f"
            },
            "baxis": {
             "endlinecolor": "#2a3f5f",
             "gridcolor": "white",
             "linecolor": "white",
             "minorgridcolor": "white",
             "startlinecolor": "#2a3f5f"
            },
            "type": "carpet"
           }
          ],
          "choropleth": [
           {
            "colorbar": {
             "outlinewidth": 0,
             "ticks": ""
            },
            "type": "choropleth"
           }
          ],
          "contour": [
           {
            "colorbar": {
             "outlinewidth": 0,
             "ticks": ""
            },
            "colorscale": [
             [
              0,
              "#0d0887"
             ],
             [
              0.1111111111111111,
              "#46039f"
             ],
             [
              0.2222222222222222,
              "#7201a8"
             ],
             [
              0.3333333333333333,
              "#9c179e"
             ],
             [
              0.4444444444444444,
              "#bd3786"
             ],
             [
              0.5555555555555556,
              "#d8576b"
             ],
             [
              0.6666666666666666,
              "#ed7953"
             ],
             [
              0.7777777777777778,
              "#fb9f3a"
             ],
             [
              0.8888888888888888,
              "#fdca26"
             ],
             [
              1,
              "#f0f921"
             ]
            ],
            "type": "contour"
           }
          ],
          "contourcarpet": [
           {
            "colorbar": {
             "outlinewidth": 0,
             "ticks": ""
            },
            "type": "contourcarpet"
           }
          ],
          "heatmap": [
           {
            "colorbar": {
             "outlinewidth": 0,
             "ticks": ""
            },
            "colorscale": [
             [
              0,
              "#0d0887"
             ],
             [
              0.1111111111111111,
              "#46039f"
             ],
             [
              0.2222222222222222,
              "#7201a8"
             ],
             [
              0.3333333333333333,
              "#9c179e"
             ],
             [
              0.4444444444444444,
              "#bd3786"
             ],
             [
              0.5555555555555556,
              "#d8576b"
             ],
             [
              0.6666666666666666,
              "#ed7953"
             ],
             [
              0.7777777777777778,
              "#fb9f3a"
             ],
             [
              0.8888888888888888,
              "#fdca26"
             ],
             [
              1,
              "#f0f921"
             ]
            ],
            "type": "heatmap"
           }
          ],
          "heatmapgl": [
           {
            "colorbar": {
             "outlinewidth": 0,
             "ticks": ""
            },
            "colorscale": [
             [
              0,
              "#0d0887"
             ],
             [
              0.1111111111111111,
              "#46039f"
             ],
             [
              0.2222222222222222,
              "#7201a8"
             ],
             [
              0.3333333333333333,
              "#9c179e"
             ],
             [
              0.4444444444444444,
              "#bd3786"
             ],
             [
              0.5555555555555556,
              "#d8576b"
             ],
             [
              0.6666666666666666,
              "#ed7953"
             ],
             [
              0.7777777777777778,
              "#fb9f3a"
             ],
             [
              0.8888888888888888,
              "#fdca26"
             ],
             [
              1,
              "#f0f921"
             ]
            ],
            "type": "heatmapgl"
           }
          ],
          "histogram": [
           {
            "marker": {
             "pattern": {
              "fillmode": "overlay",
              "size": 10,
              "solidity": 0.2
             }
            },
            "type": "histogram"
           }
          ],
          "histogram2d": [
           {
            "colorbar": {
             "outlinewidth": 0,
             "ticks": ""
            },
            "colorscale": [
             [
              0,
              "#0d0887"
             ],
             [
              0.1111111111111111,
              "#46039f"
             ],
             [
              0.2222222222222222,
              "#7201a8"
             ],
             [
              0.3333333333333333,
              "#9c179e"
             ],
             [
              0.4444444444444444,
              "#bd3786"
             ],
             [
              0.5555555555555556,
              "#d8576b"
             ],
             [
              0.6666666666666666,
              "#ed7953"
             ],
             [
              0.7777777777777778,
              "#fb9f3a"
             ],
             [
              0.8888888888888888,
              "#fdca26"
             ],
             [
              1,
              "#f0f921"
             ]
            ],
            "type": "histogram2d"
           }
          ],
          "histogram2dcontour": [
           {
            "colorbar": {
             "outlinewidth": 0,
             "ticks": ""
            },
            "colorscale": [
             [
              0,
              "#0d0887"
             ],
             [
              0.1111111111111111,
              "#46039f"
             ],
             [
              0.2222222222222222,
              "#7201a8"
             ],
             [
              0.3333333333333333,
              "#9c179e"
             ],
             [
              0.4444444444444444,
              "#bd3786"
             ],
             [
              0.5555555555555556,
              "#d8576b"
             ],
             [
              0.6666666666666666,
              "#ed7953"
             ],
             [
              0.7777777777777778,
              "#fb9f3a"
             ],
             [
              0.8888888888888888,
              "#fdca26"
             ],
             [
              1,
              "#f0f921"
             ]
            ],
            "type": "histogram2dcontour"
           }
          ],
          "mesh3d": [
           {
            "colorbar": {
             "outlinewidth": 0,
             "ticks": ""
            },
            "type": "mesh3d"
           }
          ],
          "parcoords": [
           {
            "line": {
             "colorbar": {
              "outlinewidth": 0,
              "ticks": ""
             }
            },
            "type": "parcoords"
           }
          ],
          "pie": [
           {
            "automargin": true,
            "type": "pie"
           }
          ],
          "scatter": [
           {
            "fillpattern": {
             "fillmode": "overlay",
             "size": 10,
             "solidity": 0.2
            },
            "type": "scatter"
           }
          ],
          "scatter3d": [
           {
            "line": {
             "colorbar": {
              "outlinewidth": 0,
              "ticks": ""
             }
            },
            "marker": {
             "colorbar": {
              "outlinewidth": 0,
              "ticks": ""
             }
            },
            "type": "scatter3d"
           }
          ],
          "scattercarpet": [
           {
            "marker": {
             "colorbar": {
              "outlinewidth": 0,
              "ticks": ""
             }
            },
            "type": "scattercarpet"
           }
          ],
          "scattergeo": [
           {
            "marker": {
             "colorbar": {
              "outlinewidth": 0,
              "ticks": ""
             }
            },
            "type": "scattergeo"
           }
          ],
          "scattergl": [
           {
            "marker": {
             "colorbar": {
              "outlinewidth": 0,
              "ticks": ""
             }
            },
            "type": "scattergl"
           }
          ],
          "scattermapbox": [
           {
            "marker": {
             "colorbar": {
              "outlinewidth": 0,
              "ticks": ""
             }
            },
            "type": "scattermapbox"
           }
          ],
          "scatterpolar": [
           {
            "marker": {
             "colorbar": {
              "outlinewidth": 0,
              "ticks": ""
             }
            },
            "type": "scatterpolar"
           }
          ],
          "scatterpolargl": [
           {
            "marker": {
             "colorbar": {
              "outlinewidth": 0,
              "ticks": ""
             }
            },
            "type": "scatterpolargl"
           }
          ],
          "scatterternary": [
           {
            "marker": {
             "colorbar": {
              "outlinewidth": 0,
              "ticks": ""
             }
            },
            "type": "scatterternary"
           }
          ],
          "surface": [
           {
            "colorbar": {
             "outlinewidth": 0,
             "ticks": ""
            },
            "colorscale": [
             [
              0,
              "#0d0887"
             ],
             [
              0.1111111111111111,
              "#46039f"
             ],
             [
              0.2222222222222222,
              "#7201a8"
             ],
             [
              0.3333333333333333,
              "#9c179e"
             ],
             [
              0.4444444444444444,
              "#bd3786"
             ],
             [
              0.5555555555555556,
              "#d8576b"
             ],
             [
              0.6666666666666666,
              "#ed7953"
             ],
             [
              0.7777777777777778,
              "#fb9f3a"
             ],
             [
              0.8888888888888888,
              "#fdca26"
             ],
             [
              1,
              "#f0f921"
             ]
            ],
            "type": "surface"
           }
          ],
          "table": [
           {
            "cells": {
             "fill": {
              "color": "#EBF0F8"
             },
             "line": {
              "color": "white"
             }
            },
            "header": {
             "fill": {
              "color": "#C8D4E3"
             },
             "line": {
              "color": "white"
             }
            },
            "type": "table"
           }
          ]
         },
         "layout": {
          "annotationdefaults": {
           "arrowcolor": "#2a3f5f",
           "arrowhead": 0,
           "arrowwidth": 1
          },
          "autotypenumbers": "strict",
          "coloraxis": {
           "colorbar": {
            "outlinewidth": 0,
            "ticks": ""
           }
          },
          "colorscale": {
           "diverging": [
            [
             0,
             "#8e0152"
            ],
            [
             0.1,
             "#c51b7d"
            ],
            [
             0.2,
             "#de77ae"
            ],
            [
             0.3,
             "#f1b6da"
            ],
            [
             0.4,
             "#fde0ef"
            ],
            [
             0.5,
             "#f7f7f7"
            ],
            [
             0.6,
             "#e6f5d0"
            ],
            [
             0.7,
             "#b8e186"
            ],
            [
             0.8,
             "#7fbc41"
            ],
            [
             0.9,
             "#4d9221"
            ],
            [
             1,
             "#276419"
            ]
           ],
           "sequential": [
            [
             0,
             "#0d0887"
            ],
            [
             0.1111111111111111,
             "#46039f"
            ],
            [
             0.2222222222222222,
             "#7201a8"
            ],
            [
             0.3333333333333333,
             "#9c179e"
            ],
            [
             0.4444444444444444,
             "#bd3786"
            ],
            [
             0.5555555555555556,
             "#d8576b"
            ],
            [
             0.6666666666666666,
             "#ed7953"
            ],
            [
             0.7777777777777778,
             "#fb9f3a"
            ],
            [
             0.8888888888888888,
             "#fdca26"
            ],
            [
             1,
             "#f0f921"
            ]
           ],
           "sequentialminus": [
            [
             0,
             "#0d0887"
            ],
            [
             0.1111111111111111,
             "#46039f"
            ],
            [
             0.2222222222222222,
             "#7201a8"
            ],
            [
             0.3333333333333333,
             "#9c179e"
            ],
            [
             0.4444444444444444,
             "#bd3786"
            ],
            [
             0.5555555555555556,
             "#d8576b"
            ],
            [
             0.6666666666666666,
             "#ed7953"
            ],
            [
             0.7777777777777778,
             "#fb9f3a"
            ],
            [
             0.8888888888888888,
             "#fdca26"
            ],
            [
             1,
             "#f0f921"
            ]
           ]
          },
          "colorway": [
           "#636efa",
           "#EF553B",
           "#00cc96",
           "#ab63fa",
           "#FFA15A",
           "#19d3f3",
           "#FF6692",
           "#B6E880",
           "#FF97FF",
           "#FECB52"
          ],
          "font": {
           "color": "#2a3f5f"
          },
          "geo": {
           "bgcolor": "white",
           "lakecolor": "white",
           "landcolor": "#E5ECF6",
           "showlakes": true,
           "showland": true,
           "subunitcolor": "white"
          },
          "hoverlabel": {
           "align": "left"
          },
          "hovermode": "closest",
          "mapbox": {
           "style": "light"
          },
          "paper_bgcolor": "white",
          "plot_bgcolor": "#E5ECF6",
          "polar": {
           "angularaxis": {
            "gridcolor": "white",
            "linecolor": "white",
            "ticks": ""
           },
           "bgcolor": "#E5ECF6",
           "radialaxis": {
            "gridcolor": "white",
            "linecolor": "white",
            "ticks": ""
           }
          },
          "scene": {
           "xaxis": {
            "backgroundcolor": "#E5ECF6",
            "gridcolor": "white",
            "gridwidth": 2,
            "linecolor": "white",
            "showbackground": true,
            "ticks": "",
            "zerolinecolor": "white"
           },
           "yaxis": {
            "backgroundcolor": "#E5ECF6",
            "gridcolor": "white",
            "gridwidth": 2,
            "linecolor": "white",
            "showbackground": true,
            "ticks": "",
            "zerolinecolor": "white"
           },
           "zaxis": {
            "backgroundcolor": "#E5ECF6",
            "gridcolor": "white",
            "gridwidth": 2,
            "linecolor": "white",
            "showbackground": true,
            "ticks": "",
            "zerolinecolor": "white"
           }
          },
          "shapedefaults": {
           "line": {
            "color": "#2a3f5f"
           }
          },
          "ternary": {
           "aaxis": {
            "gridcolor": "white",
            "linecolor": "white",
            "ticks": ""
           },
           "baxis": {
            "gridcolor": "white",
            "linecolor": "white",
            "ticks": ""
           },
           "bgcolor": "#E5ECF6",
           "caxis": {
            "gridcolor": "white",
            "linecolor": "white",
            "ticks": ""
           }
          },
          "title": {
           "x": 0.05
          },
          "xaxis": {
           "automargin": true,
           "gridcolor": "white",
           "linecolor": "white",
           "ticks": "",
           "title": {
            "standoff": 15
           },
           "zerolinecolor": "white",
           "zerolinewidth": 2
          },
          "yaxis": {
           "automargin": true,
           "gridcolor": "white",
           "linecolor": "white",
           "ticks": "",
           "title": {
            "standoff": 15
           },
           "zerolinecolor": "white",
           "zerolinewidth": 2
          }
         }
        },
        "width": 800
       }
      }
     },
     "metadata": {},
     "output_type": "display_data"
    }
   ],
   "source": [
    "# Creating a 3D-Scatter with the PCA data and the clusters\n",
    "fig = px.scatter_3d(\n",
    "     clustered_df,\n",
    "     x=\"Principal Component 3\",\n",
    "     y=\"Principal Component 2\",\n",
    "     z=\"Principal Component 1\",\n",
    "     color=\"class\",\n",
    "     symbol=\"class\",\n",
    "     width=800,\n",
    "     hover_name= \"CoinName\", \n",
    "     hover_data= [\"Algorithm\"]\n",
    " )\n",
    "fig.update_layout(legend=dict(x=0, y=1))\n",
    "fig.show()\n"
   ]
  },
  {
   "cell_type": "code",
   "execution_count": 57,
   "metadata": {},
   "outputs": [
    {
     "data": {},
     "metadata": {},
     "output_type": "display_data"
    },
    {
     "data": {
      "application/vnd.holoviews_exec.v0+json": "",
      "text/html": [
       "<div id='1002'>\n",
       "  <div class=\"bk-root\" id=\"c5f75289-f46a-4e7e-adce-cd05581d859c\" data-root-id=\"1002\"></div>\n",
       "</div>\n",
       "<script type=\"application/javascript\">(function(root) {\n",
       "  function embed_document(root) {\n",
       "    var docs_json = {\"6cfa6bbe-d032-4cb6-b3c4-f346377b63a9\":{\"defs\":[{\"extends\":null,\"module\":null,\"name\":\"ReactiveHTML1\",\"overrides\":[],\"properties\":[]},{\"extends\":null,\"module\":null,\"name\":\"FlexBox1\",\"overrides\":[],\"properties\":[{\"default\":\"flex-start\",\"kind\":null,\"name\":\"align_content\"},{\"default\":\"flex-start\",\"kind\":null,\"name\":\"align_items\"},{\"default\":\"row\",\"kind\":null,\"name\":\"flex_direction\"},{\"default\":\"wrap\",\"kind\":null,\"name\":\"flex_wrap\"},{\"default\":\"flex-start\",\"kind\":null,\"name\":\"justify_content\"}]},{\"extends\":null,\"module\":null,\"name\":\"GridStack1\",\"overrides\":[],\"properties\":[{\"default\":\"warn\",\"kind\":null,\"name\":\"mode\"},{\"default\":null,\"kind\":null,\"name\":\"ncols\"},{\"default\":null,\"kind\":null,\"name\":\"nrows\"},{\"default\":true,\"kind\":null,\"name\":\"allow_resize\"},{\"default\":true,\"kind\":null,\"name\":\"allow_drag\"},{\"default\":[],\"kind\":null,\"name\":\"state\"}]},{\"extends\":null,\"module\":null,\"name\":\"click1\",\"overrides\":[],\"properties\":[{\"default\":\"\",\"kind\":null,\"name\":\"terminal_output\"},{\"default\":\"\",\"kind\":null,\"name\":\"debug_name\"},{\"default\":0,\"kind\":null,\"name\":\"clears\"}]},{\"extends\":null,\"module\":null,\"name\":\"NotificationAreaBase1\",\"overrides\":[],\"properties\":[{\"default\":\"bottom-right\",\"kind\":null,\"name\":\"position\"},{\"default\":0,\"kind\":null,\"name\":\"_clear\"}]},{\"extends\":null,\"module\":null,\"name\":\"NotificationArea1\",\"overrides\":[],\"properties\":[{\"default\":[],\"kind\":null,\"name\":\"notifications\"},{\"default\":\"bottom-right\",\"kind\":null,\"name\":\"position\"},{\"default\":0,\"kind\":null,\"name\":\"_clear\"},{\"default\":[{\"background\":\"#ffc107\",\"icon\":{\"className\":\"fas fa-exclamation-triangle\",\"color\":\"white\",\"tagName\":\"i\"},\"type\":\"warning\"},{\"background\":\"#007bff\",\"icon\":{\"className\":\"fas fa-info-circle\",\"color\":\"white\",\"tagName\":\"i\"},\"type\":\"info\"}],\"kind\":null,\"name\":\"types\"}]},{\"extends\":null,\"module\":null,\"name\":\"Notification\",\"overrides\":[],\"properties\":[{\"default\":null,\"kind\":null,\"name\":\"background\"},{\"default\":3000,\"kind\":null,\"name\":\"duration\"},{\"default\":null,\"kind\":null,\"name\":\"icon\"},{\"default\":\"\",\"kind\":null,\"name\":\"message\"},{\"default\":null,\"kind\":null,\"name\":\"notification_type\"},{\"default\":false,\"kind\":null,\"name\":\"_destroyed\"}]},{\"extends\":null,\"module\":null,\"name\":\"TemplateActions1\",\"overrides\":[],\"properties\":[{\"default\":0,\"kind\":null,\"name\":\"open_modal\"},{\"default\":0,\"kind\":null,\"name\":\"close_modal\"}]},{\"extends\":null,\"module\":null,\"name\":\"MaterialTemplateActions1\",\"overrides\":[],\"properties\":[{\"default\":0,\"kind\":null,\"name\":\"open_modal\"},{\"default\":0,\"kind\":null,\"name\":\"close_modal\"}]}],\"roots\":{\"references\":[{\"attributes\":{\"columns\":[{\"id\":\"1008\"},{\"id\":\"1013\"},{\"id\":\"1018\"},{\"id\":\"1023\"},{\"id\":\"1028\"},{\"id\":\"1033\"}],\"height\":300,\"reorderable\":false,\"source\":{\"id\":\"1004\"},\"view\":{\"id\":\"1038\"},\"width\":700},\"id\":\"1036\",\"type\":\"DataTable\"},{\"attributes\":{\"editor\":{\"id\":\"1022\"},\"field\":\"TotalCoinSupply\",\"formatter\":{\"id\":\"1021\"},\"title\":\"TotalCoinSupply\"},\"id\":\"1023\",\"type\":\"TableColumn\"},{\"attributes\":{},\"id\":\"1021\",\"type\":\"StringFormatter\"},{\"attributes\":{},\"id\":\"1027\",\"type\":\"NumberEditor\"},{\"attributes\":{},\"id\":\"1022\",\"type\":\"StringEditor\"},{\"attributes\":{\"margin\":[5,5,5,5],\"name\":\"HSpacer00966\",\"sizing_mode\":\"stretch_width\"},\"id\":\"1041\",\"type\":\"Spacer\"},{\"attributes\":{},\"id\":\"1039\",\"type\":\"UnionRenderers\"},{\"attributes\":{\"editor\":{\"id\":\"1032\"},\"field\":\"class\",\"formatter\":{\"id\":\"1031\"},\"title\":\"class\"},\"id\":\"1033\",\"type\":\"TableColumn\"},{\"attributes\":{},\"id\":\"1011\",\"type\":\"NumberFormatter\"},{\"attributes\":{},\"id\":\"1005\",\"type\":\"Selection\"},{\"attributes\":{\"editor\":{\"id\":\"1012\"},\"field\":\"Algorithm\",\"formatter\":{\"id\":\"1011\"},\"title\":\"Algorithm\"},\"id\":\"1013\",\"type\":\"TableColumn\"},{\"attributes\":{},\"id\":\"1006\",\"type\":\"StringFormatter\"},{\"attributes\":{},\"id\":\"1012\",\"type\":\"IntEditor\"},{\"attributes\":{\"editor\":{\"id\":\"1027\"},\"field\":\"TotalCoinsMined\",\"formatter\":{\"id\":\"1026\"},\"title\":\"TotalCoinsMined\"},\"id\":\"1028\",\"type\":\"TableColumn\"},{\"attributes\":{\"editor\":{\"id\":\"1017\"},\"field\":\"ProofType\",\"formatter\":{\"id\":\"1016\"},\"title\":\"ProofType\"},\"id\":\"1018\",\"type\":\"TableColumn\"},{\"attributes\":{\"editor\":{\"id\":\"1007\"},\"field\":\"CoinName\",\"formatter\":{\"id\":\"1006\"},\"title\":\"CoinName\"},\"id\":\"1008\",\"type\":\"TableColumn\"},{\"attributes\":{\"data\":{\"Algorithm\":[52,52,66,47,20,52,64,12,20,18,50,34,47,47,52,68,64,52,52,52,34,52,47,52,52,52,46,23,52,52,52,52,52,64,52,23,34,47,52,52,52,52,41,52,52,36,52,52,52,52,64,52,64,47,52,52,52,51,52,25,52,52,47,52,66,52,47,52,66,36,52,52,52,52,52,52,64,64,47,34,47,38,64,47,47,47,64,52,52,52,52,31,52,64,34,47,66,52,10,10,54,9,52,47,23,52,52,52,66,52,52,52,52,66,52,58,64,34,45,52,52,52,33,52,47,52,64,51,64,30,47,44,64,64,52,52,52,20,66,6,47,68,64,47,3,52,0,47,64,52,47,47,35,52,52,64,15,52,65,64,52,47,52,41,52,64,64,47,47,35,64,52,40,52,52,52,66,64,64,18,64,52,10,47,47,64,52,34,52,52,52,47,52,52,49,41,52,64,32,41,66,67,41,49,20,18,14,64,52,64,66,64,41,52,52,64,41,64,47,52,64,52,52,64,10,52,52,52,52,46,45,52,10,30,52,47,64,52,64,52,12,52,52,52,66,64,18,52,52,30,52,16,64,5,64,52,41,64,35,41,64,52,52,52,47,64,52,52,47,41,52,68,47,52,40,12,1,2,6,8,10,35,64,35,55,52,66,52,64,64,52,10,66,60,52,28,57,64,55,47,64,52,63,52,41,52,52,52,52,52,52,52,10,50,37,64,18,36,64,52,36,31,18,52,47,35,38,15,52,46,52,39,52,47,64,36,20,36,64,14,35,66,34,52,10,10,20,35,46,64,12,52,52,52,64,3,64,36,46,36,52,52,52,64,64,47,7,40,20,52,10,56,52,10,52,15,31,66,43,48,52,52,64,7,42,64,70,52,62,20,10,52,26,35,52,52,18,52,32,22,41,52,53,64,46,41,10,69,52,35,30,70,61,52,32,10,11,10,52,52,27,49,10,52,68,52,46,47,14,69,24,64,69,46,46,52,31,46,52,52,12,13,70,11,64,64,52,41,47,28,64,64,52,50,69,17,18,70,32,47,70,64,10,46,4,4,18,21,52,52,18,46,18,46,52,45,64,52,70,49,64,47,66,47,64,14,52,52,64,36,52,4,52,47,52,64,52,52,47,64,47,52,52,52,23,64,52,41,52,52,64,47,14,52,52,36,34,66,19,14,20,14,47,29,41,59,41,47,52,10,18,52],\"CoinName\":[\"42 Coin\",\"404Coin\",\"EliteCoin\",\"Bitcoin\",\"Ethereum\",\"Litecoin\",\"Dash\",\"Monero\",\"Ethereum Classic\",\"ZCash\",\"Bitshares\",\"DigiByte\",\"BitcoinDark\",\"PayCoin\",\"ProsperCoin\",\"KoboCoin\",\"Spreadcoin\",\"Argentum\",\"Aurora Coin\",\"BlueCoin\",\"MyriadCoin\",\"MoonCoin\",\"ZetaCoin\",\"SexCoin\",\"Quatloo\",\"EnergyCoin\",\"QuarkCoin\",\"Riecoin\",\"Digitalcoin \",\"BitBar\",\"Catcoin\",\"CryptoBullion\",\"CannaCoin\",\"CryptCoin\",\"CasinoCoin\",\"Diamond\",\"Verge\",\"DevCoin\",\"EarthCoin\",\"E-Gulden\",\"Einsteinium\",\"Emerald\",\"Exclusive Coin\",\"FlutterCoin\",\"Franko\",\"FeatherCoin\",\"GrandCoin\",\"GlobalCoin\",\"GoldCoin\",\"HoboNickels\",\"HyperStake\",\"Infinite Coin\",\"IOCoin\",\"IXcoin\",\"KrugerCoin\",\"LuckyCoin\",\"Litebar \",\"MaxCoin\",\"MegaCoin\",\"MediterraneanCoin\",\"MintCoin\",\"MinCoin\",\"MazaCoin\",\"Nautilus Coin\",\"NavCoin\",\"NobleCoin\",\"Namecoin\",\"NyanCoin\",\"OpalCoin\",\"Orbitcoin\",\"PotCoin\",\"PhoenixCoin\",\"Reddcoin\",\"RonPaulCoin\",\"StableCoin\",\"SmartCoin\",\"SuperCoin\",\"SyncCoin\",\"SysCoin\",\"TeslaCoin\",\"TigerCoin\",\"TittieCoin\",\"TorCoin\",\"TerraCoin\",\"UnbreakableCoin\",\"Unobtanium\",\"UroCoin\",\"UnitaryStatus Dollar\",\"UltraCoin\",\"ViaCoin\",\"VeriCoin\",\"Vertcoin\",\"WorldCoin\",\"X11 Coin\",\"Crypti\",\"JouleCoin\",\"StealthCoin\",\"ZCC Coin\",\"ByteCoin\",\"DigitalNote \",\"BurstCoin\",\"StorjCoin\",\"MonaCoin\",\"Neutron\",\"FairCoin\",\"Gulden\",\"RubyCoin\",\"PesetaCoin\",\"Kore\",\"Wild Beast Coin\",\"Dnotes\",\"Flo\",\"8BIT Coin\",\"Sativa Coin\",\"ArtByte\",\"Folding Coin\",\"Ucoin\",\"Unitus\",\"CypherPunkCoin\",\"OmniCron\",\"Vtorrent\",\"GreenCoin\",\"Cryptonite\",\"MasterCoin\",\"SoonCoin\",\"1Credit\",\"IslaCoin\",\"Nexus\",\"MarsCoin \",\"Crypto\",\"Anarchists Prime\",\"Droidz\",\"BowsCoin\",\"Squall Coin\",\"Song Coin\",\"BitZeny\",\"Diggits\",\"Expanse\",\"Paycon\",\"Siacoin\",\"Emercoin\",\"EverGreenCoin\",\"MindCoin\",\"I0coin\",\"Decred\",\"Revolution VR\",\"HOdlcoin\",\"EDRCoin\",\"Hitcoin\",\"Gamecredits\",\"DubaiCoin\",\"CarpeDiemCoin\",\"PWR Coin\",\"BillaryCoin\",\"GPU Coin\",\"Adzcoin\",\"SoilCoin\",\"YoCoin\",\"SibCoin\",\"EuropeCoin\",\"ZeitCoin\",\"SwingCoin\",\"SafeExchangeCoin\",\"Nebuchadnezzar\",\"Francs\",\"BolivarCoin\",\"Ratecoin\",\"Revenu\",\"Clockcoin\",\"VIP Tokens\",\"BitSend\",\"Omni\",\"Let it Ride\",\"PutinCoin\",\"iBankCoin\",\"Frankywillcoin\",\"MudraCoin\",\"PizzaCoin\",\"Lutetium Coin\",\"Komodo\",\"GoldBlocks\",\"CarterCoin\",\"Karbo\",\"BitTokens\",\"ZayedCoin\",\"MustangCoin\",\"ZoneCoin\",\"Circuits of Value\",\"RootCoin\",\"DopeCoin\",\"BitCurrency\",\"DollarCoin\",\"Swiscoin\",\"Shilling\",\"BuzzCoin\",\"Opair\",\"PesoBit\",\"Halloween Coin\",\"ZCoin\",\"CoffeeCoin\",\"RoyalCoin\",\"GanjaCoin V2\",\"TeamUP\",\"LanaCoin\",\"Elementrem\",\"ZClassic\",\"ARK\",\"InsaneCoin\",\"KiloCoin\",\"ArtexCoin\",\"EmberCoin\",\"XenixCoin\",\"FreeCoin\",\"PLNCoin\",\"AquariusCoin\",\"Kurrent\",\"Creatio\",\"Eternity\",\"Eurocoin\",\"BitcoinFast\",\"Stakenet\",\"BitConnect Coin\",\"MoneyCoin\",\"Enigma\",\"Cannabis Industry Coin\",\"Russiacoin\",\"PandaCoin\",\"GameUnits\",\"GAKHcoin\",\"Allsafe\",\"LiteCreed\",\"OsmiumCoin\",\"Bikercoins\",\"HexxCoin\",\"Klingon Empire Darsek\",\"Internet of People\",\"KushCoin\",\"Printerium\",\"PacCoin\",\"Impeach\",\"Citadel\",\"Zilbercoin\",\"FirstCoin\",\"BeaverCoin\",\"FindCoin\",\"VaultCoin\",\"Zero\",\"OpenChat\",\"Canada eCoin\",\"Zoin\",\"RenosCoin\",\"DubaiCoin\",\"VirtacoinPlus\",\"TajCoin\",\"Impact\",\"EB3coin\",\"Atmos\",\"HappyCoin\",\"Coinonat\",\"MacronCoin\",\"Condensate\",\"Independent Money System\",\"ArgusCoin\",\"LomoCoin\",\"ProCurrency\",\"GoldReserve\",\"BenjiRolls\",\"GrowthCoin\",\"ILCoin\",\"Phreak\",\"Degas Coin\",\"HTML5 Coin\",\"Ultimate Secure Cash\",\"EquiTrader\",\"QTUM\",\"Quantum Resistant Ledger\",\"Espers\",\"Dynamic\",\"Nano\",\"ChanCoin\",\"Dinastycoin\",\"Denarius\",\"DigitalPrice\",\"Virta Unique Coin\",\"Bitcoin Planet\",\"Unify\",\"BritCoin\",\"SocialCoin\",\"ArcticCoin\",\"DAS\",\"Linda\",\"LeviarCoin\",\"DeepOnion\",\"Bitcore\",\"gCn Coin\",\"SmartCash\",\"Signatum\",\"Onix\",\"Cream\",\"Bitcoin Cash\",\"Monoeci\",\"Draftcoin\",\"Vechain\",\"Sojourn Coin\",\"Stakecoin\",\"NewYorkCoin\",\"FrazCoin\",\"Kronecoin\",\"AdCoin\",\"Linx\",\"CoinonatX\",\"Ethereum Dark\",\"Sumokoin\",\"Obsidian\",\"Cardano\",\"Regalcoin\",\"BitcoinZ\",\"TrezarCoin\",\"Elements\",\"TerraNovaCoin\",\"VIVO Coin\",\"Rupee\",\"Bitcoin Gold\",\"WomenCoin\",\"Theresa May Coin\",\"NamoCoin\",\"LUXCoin\",\"Pirl\",\"Xios\",\"Bitcloud 2.0\",\"eBoost\",\"KekCoin\",\"BlackholeCoin\",\"Infinity Economics\",\"Pura\",\"Innova\",\"Ellaism\",\"GoByte\",\"Magnet\",\"Lamden Tau\",\"Electra\",\"Bitcoin Diamond\",\"SHIELD\",\"Cash & Back Coin\",\"UltraNote\",\"BitCoal\",\"DaxxCoin\",\"Bulwark\",\"Kalkulus\",\"AC3\",\"Lethean\",\"GermanCoin\",\"LiteCoin Ultra\",\"PopularCoin\",\"PhantomX\",\"Photon\",\"Sucre\",\"SparksPay\",\"Digiwage\",\"GunCoin\",\"IrishCoin\",\"Trollcoin\",\"Litecoin Plus\",\"Monkey Project\",\"Pioneer Coin\",\"UnitedBitcoin\",\"Interzone\",\"TokenPay\",\"1717 Masonic Commemorative Token\",\"My Big Coin\",\"TurtleCoin\",\"MUNcoin\",\"Unified Society USDEX\",\"Niobio Cash\",\"ShareChain\",\"Travelflex\",\"KREDS\",\"Tokyo Coin\",\"BiblePay\",\"LitecoinCash\",\"BitFlip\",\"LottoCoin\",\"Crypto Improvement Fund\",\"Stipend\",\"Poa Network\",\"Pushi\",\"Ellerium\",\"Velox\",\"Ontology\",\"Callisto Network\",\"BitTube\",\"Poseidon\",\"Aidos Kuneen\",\"Bitspace\",\"Briacoin\",\"Ignition\",\"Bitrolium\",\"MedicCoin\",\"Alpenschillling\",\"Bitcoin Green\",\"Deviant Coin\",\"Abjcoin\",\"Semux\",\"FuturoCoin\",\"Carebit\",\"Zealium\",\"Monero Classic\",\"Proton\",\"iDealCash\",\"Jumpcoin\",\"Infinex\",\"Bitcoin Incognito\",\"KEYCO\",\"HollyWoodCoin\",\"GINcoin\",\"PlatinCoin\",\"Loki\",\"Newton Coin\",\"Swisscoin\",\"Xt3ch\",\"MassGrid\",\"TheVig\",\"PluraCoin\",\"EmaratCoin\",\"Dekado\",\"Lynx\",\"Poseidon Quark\",\"BitcoinWSpectrum\",\"Muse\",\"Motion\",\"PlusOneCoin\",\"Axe\",\"Trivechain\",\"Dystem\",\"Giant\",\"Peony Coin\",\"Absolute Coin\",\"Vitae\",\"HexCoin\",\"TPCash\",\"Webchain\",\"Ryo\",\"Urals Coin\",\"Qwertycoin\",\"ARENON\",\"EUNO\",\"MMOCoin\",\"Ketan\",\"Project Pai\",\"XDNA\",\"PAXEX\",\"Azart\",\"ThunderStake\",\"Kcash\",\"Xchange\",\"Acute Angle Cloud\",\"CrypticCoin\",\"Bettex coin\",\"Actinium\",\"Bitcoin SV\",\"BitMoney\",\"Junson Ming Chan Coin\",\"FREDEnergy\",\"HerbCoin\",\"Universal Molecule\",\"Lithium\",\"PirateCash\",\"Exosis\",\"Block-Logic\",\"Oduwa\",\"Beam\",\"Galilel\",\"Bithereum\",\"Crypto Sports\",\"Credit\",\"SLICE\",\"Dash Platinum\",\"Nasdacoin\",\"Beetle Coin\",\"Titan Coin\",\"Award\",\"BLAST\",\"Bitcoin Rhodium\",\"GlobalToken\",\"Insane Coin\",\"ALAX\",\"LiteDoge\",\"SolarCoin\",\"TruckCoin\",\"UFO Coin\",\"OrangeCoin\",\"BlakeCoin\",\"BitstarCoin\",\"NeosCoin\",\"HyperCoin\",\"PinkCoin\",\"Crypto Escudo\",\"AudioCoin\",\"IncaKoin\",\"Piggy Coin\",\"Crown Coin\",\"Genstake\",\"SmileyCoin\",\"XiaoMiCoin\",\"Groestlcoin\",\"CapriCoin\",\" ClubCoin\",\"Radium\",\"Bata\",\"Pakcoin\",\"Creditbit \",\"OKCash\",\"Lisk\",\"HiCoin\",\"WhiteCoin\",\"FriendshipCoin\",\"JoinCoin\",\"Triangles Coin\",\"Vollar\",\"EOS\",\"Reality Clash\",\"Oxycoin\",\"TigerCash\",\"Waves\",\"Particl\",\"BitTorrent\",\"Nxt\",\"ZEPHYR\",\"Gapcoin\",\"Beldex\",\"Horizen\",\"BitcoinPlus\"],\"ProofType\":[15,15,15,12,12,12,15,12,12,12,7,12,15,7,12,15,12,12,15,15,12,12,12,12,12,15,12,12,12,15,12,15,12,12,6,15,12,12,12,12,12,12,7,10,12,12,12,12,12,15,7,12,15,12,12,12,12,15,12,12,7,12,15,7,15,12,12,12,15,15,15,15,15,12,12,12,7,15,12,7,12,7,15,12,12,12,12,15,15,12,11,12,12,15,7,12,15,15,12,12,6,7,12,15,15,12,7,12,15,12,7,12,15,15,12,12,7,12,12,12,15,12,12,12,12,12,15,18,12,12,12,15,12,9,12,12,7,12,15,12,15,15,12,12,15,12,12,15,15,12,15,12,15,15,7,12,12,12,12,15,7,15,6,7,12,12,15,15,15,15,15,12,7,15,15,15,7,12,7,24,15,15,12,15,12,15,15,12,15,12,7,12,17,12,15,7,15,15,12,7,7,15,7,15,12,12,1,15,12,12,15,15,7,15,15,12,7,15,15,15,22,15,15,15,12,15,7,15,15,7,15,12,12,12,15,15,15,15,12,15,12,7,16,12,7,12,12,15,12,12,7,12,15,15,15,12,7,15,12,7,15,15,15,15,7,15,12,7,12,7,15,15,7,12,7,12,15,12,12,12,12,15,12,15,15,12,15,12,12,12,15,12,15,12,12,12,7,12,15,12,15,7,20,12,7,12,12,12,12,12,15,15,12,7,7,15,12,15,12,15,12,7,12,15,15,15,15,12,15,15,12,7,15,7,12,12,12,12,15,1,15,15,12,15,12,12,12,7,7,12,12,15,15,12,15,12,12,12,7,12,12,15,15,7,12,12,12,7,7,14,12,12,15,12,12,12,12,7,4,13,12,12,12,15,5,15,15,7,7,12,12,12,12,15,15,15,12,7,12,7,7,15,1,12,15,7,12,7,15,12,12,9,12,7,12,12,12,12,15,7,12,15,12,15,7,2,7,7,7,12,12,12,15,7,15,7,15,7,12,15,12,12,12,12,7,15,7,7,12,15,7,12,15,23,12,0,12,7,12,12,19,7,12,15,12,12,7,12,12,15,12,15,12,7,15,12,7,15,15,15,15,12,12,12,15,1,15,12,15,12,15,12,15,7,15,15,12,15,15,15,12,15,12,15,12,15,15,7,12,12,21,15,1,7,15,15,12,15,12,1,12,1,7,3,7,1,8,1,15,12,12,7],\"TotalCoinSupply\":[\"42\",\"532000000\",\"314159265359\",\"21000000\",\"0\",\"84000000\",\"22000000\",\"0\",\"210000000\",\"21000000\",\"3600570502\",\"21000000000\",\"22000000\",\"12500000\",\"21000000\",\"350000000\",\"20000000\",\"64000000\",\"16768584\",\"0\",\"2000000000\",\"384000000000\",\"169795588\",\"250000000\",\"100000000\",\"0\",\"247000000\",\"84000000\",\"48166000\",\"500000\",\"21000000 \",\"1000000\",\"13140000\",\"18000000\",\"40000000000\",\"4380000\",\"16555000000\",\"21000000000\",\"13500000000\",\"21000000 \",\"299792458\",\"32000000\",\"0\",\"0\",\"11235813\",\"336000000\",\"1420609614\",\"70000000\",\"72245700\",\"120000000\",\"0\",\"90600000000\",\"22000000\",\"21000000\",\"265420800\",\"20000000\",\"1350000\",\"100000000\",\"42000000\",\"200000000\",\"0\",\"10000000\",\"2419200000\",\"16180000\",\"0\",\"15000000000\",\"21000000\",\"337000000\",\"0\",\"3770000\",\"420000000\",\"98000000\",\"0\",\"21000000\",\"250000000\",\"51200000\",\"0\",\"1000\",\"888000000\",\"100000000\",\"47011968\",\"2300000000\",\"10000000\",\"42000000\",\"80000000\",\"250000\",\"0\",\"1600000000\",\"100000000\",\"23000000\",\"0\",\"84000000\",\"265420800\",\"5500000\",\"0\",\"45000000\",\"0\",\"1000000000\",\"184467440735\",\"10000000000\",\"2158812800\",\"500000000\",\"105120000\",\"68000000\",\"0\",\"1680000000\",\"0\",\"166386000\",\"12000000\",\"2628000\",\"500000000\",\"160000000\",\"0\",\"10000000\",\"1000000000\",\"1000000000\",\"20000000\",\"0\",\"0\",\"3371337\",\"20000000\",\"10000000000\",\"1840000000\",\"619478\",\"21000000\",\"92000000000\",\"0\",\"78000000\",\"33000000\",\"65789100\",\"53760000\",\"5060000\",\"21000000\",\"0\",\"210240000\",\"250000000\",\"100000000\",\"16906397\",\"50000000\",\"0\",\"1000000000\",\"26298000\",\"16000000\",\"21000000\",\"21000000\",\"210000000\",\"81962100\",\"22000000\",\"26550000000\",\"84000000\",\"10500000\",\"21626280000 \",\"0\",\"42000000\",\"221052632\",\"84000000\",\"30000000\",\"168351300\",\"24000000\",\"384000000\",\" 99000000000\",\"40000000\",\"2147483647\",\"20000000\",\"20000000\",\"25000000\",\"75000000\",\"222725000\",\"525000000\",\"90000000\",\"139000000\",\"616448\",\"33500000\",\"2000000000\",\"44333333\",\"100000000\",\"200000000\",\"25000000\",\"657000000\",\"200000000\",\"50000000\",\"90000000\",\"10000000\",\"21000000\",\"9736000\",\"3000000\",\"21000000\",\"1200000000\",\"0\",\"200000000\",\"0\",\"10638298\",\"3100000000\",\"30000000\",\"20000000000\",\"74000000\",\"0\",\"1500000000\",\"21400000\",\"39999898\",\"2500124\",\"100000000\",\"301000000\",\"7506000000\",\"26205539\",\"21000000\",\"125000000\",\"30000000\",\"10000000000\",\"500000000\",\"850000000\",\"3853326.77707314\",\"50000000\",\"38540000 \",\"42000000\",\"228000000\",\"20000000\",\"60000000\",\"20000000\",\"33000000\",\"76500000\",\"28000000\",\"650659833\",\"5000000\",\"21000000\",\"144000000\",\"32514916898\",\"13000000\",\"3315789\",\"15000000\",\"78835200\",\"2714286\",\"25000000\",\"9999999\",\"500000000\",\"21000000\",\"9354000\",\"20000000\",\"100000000000\",\"21933333\",\"185000000\",\"55000000\",\"110000000\",\"3360000\",\"14524851.4827\",\"1000000000\",\"17000000\",\"1000000000\",\"100000000 \",\"21000000\",\"34426423\",\"2232901\",\"100000000\",\"36900000\",\"110000000\",\"4000000000\",\"110290030\",\"100000000\",\"48252000\",\"400000000\",\"500000000\",\"21212121\",\"28600000\",\"1000000000\",\"75000000000\",\"40000000\",\"35520400\",\"2000000000\",\"2500000000\",\"30000000\",\"105000000\",\"90000000000\",\"200084200\",\"72000000\",\"100000000\",\"105000000\",\"50000000000\",\"0\",\"340282367\",\"30000000\",\"2000000000\",\"10000000\",\"100000000\",\"120000000\",\"100000000\",\"19276800\",\"30000000\",\" 75000000\",\"60000000\",\"18900000\",\"50000000000\",\"54000000\",\"18898187.6216583\",\"21000000\",\"200000000000\",\"5000000000\",\"137500000\",\"1100000000\",\"100000000\",\"21000000\",\"9507271\",\"17405891.19707116\",\"86712634466\",\"10500000000\",\"61599965\",\"0\",\"20000000\",\"84000000\",\"100000000\",\"100000000\",\"48252000\",\"4200000\",\"88888888\",\"91388946\",\"45000000000\",\"27000000\",\"21000000000\",\"400000000\",\"1800000000\",\"15733333\",\"27000000\",\"24000000\",\"21000000\",\"25000000000\",\"100000000\",\"1200000000\",\"60000000\",\"156306732.71\",\"21000000\",\"200000000\",\"100000000\",\"21000000\",\"14788275.991\",\"9000000000\",\"350000000\",\"45000000\",\"280000000\",\"31800000\",\"144000000\",\"500000000\",\"30000000000\",\"210000000\",\"660000000\",\"210000000\",\"85000000000\",\"12500000\",\"10000000000\",\"27716121\",\"20000000\",\"550000000\",\"999481516\",\"50000000000\",\"150000000\",\"4999999999\",\"50000000\",\" 90000000000\",\"19800000\",\"21000000\",\"120000000\",\"500000000\",\"64000000\",\"900000000\",\"4000000\",\"21000000\",\"23000000\",\"20166000\",\"23000000\",\"25000000\",\"1618033\",\"30000000\",\"1000000000000\",\"16600000\",\"232000000\",\"336000000\",\"10000000000\",\"100000000\",\"1100000000\",\"800000000\",\"5200000000\",\"840000000\",\"40000000\",\"18406979840\",\"500000000\",\"19340594\",\"252460800\",\"25000000\",\"60000000\",\"124000000\",\"1000000000\",\"6500000000\",\"1000000000\",\"21000000\",\"25000000\",\"50000000\",\"3000000\",\"5000000\",\"70000000\",\"500000000\",\"300000000\",\"21000000\",\"88000000\",\"30000000\",\"100000000\",\"100000000\",\"200000000\",\"80000000\",\"18400000\",\"45000000\",\"5121951220\",\"21000000\",\"26280000\",\"21000000\",\"18000000\",\"26000000\",\"10500000\",\"600000518\",\"150000000\",\"184000000000\",\"10200000000\",\"44000000\",\"168000000\",\"100000000\",\"1000000000\",\"84000000\",\"90000000\",\"92000000000\",\"650000000 \",\"100262205\",\"18081806 \",\"22075700\",\"21000000\",\"21000000\",\"82546564\",\"21000000\",\"5151000\",\"16880000000\",\"52500000\",\"100000000\",\"22105263\",\"1000000000\",\"1750000000\",\"88188888\",\"210000000\",\"184470000000\",\"55000000\",\"50000000\",\"260000000\",\"210000000\",\"2100000000\",\"366000000\",\"100000000\",\"25000000\",\"18000000000\",\"1000000000\",\"100000000\",\"1000000000\",\"7600000000\",\"50000000\",\"84000000\",\"21000000\",\"70000000000\",\"0\",\"8080000000\",\"54000000\",\"105120001.44\",\"25228800\",\"105000000\",\"21000000\",\"120000000\",\"21000000\",\"262800000\",\"19035999\",\"30886000\",\"13370000\",\"74800000000\",\"100000000\",\"19700000\",\"84000000\",\"500000000\",\"5000000000\",\"420000000\",\"64000000\",\"2100000\",\"168000000\",\"30000000\",\"1000000000\",\"35000000000\",\"98100000000\",\"0\",\"4000000000\",\"200000000\",\"7000000000\",\"54256119\",\"21000000\",\"0\",\"500000000\",\"1000000000\",\"10500000000\",\"190000000\",\"1000000000\",\"42000000\",\"15000000\",\"50000000000\",\"400000000\",\"105000000\",\"208000000\",\"160000000\",\"9000000\",\"5000000\",\"182000000\",\"16504333\",\"105000000\",\"159918400\",\"10008835635\",\"300000000\",\"60168145\",\"2800000\",\"120000\",\"2100000000\",\"0\",\"24487944\",\"0\",\"1000000000\",\"100000000\",\"8634140\",\"990000000000\",\"1000000000\",\"2000000000\",\"250000000\",\"1400222610\",\"21000000\",\"1000000\"],\"TotalCoinsMined\":{\"__ndarray__\":\"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\",\"dtype\":\"float64\",\"order\":\"little\",\"shape\":[532]},\"class\":{\"__ndarray__\":\"AAAAAAAAAAAAAAAAAAAAAAEAAAAAAAAAAAAAAAEAAAABAAAAAQAAAAMAAAABAAAAAAAAAAMAAAAAAAAAAAAAAAAAAAAAAAAAAAAAAAAAAAABAAAAAAAAAAAAAAAAAAAAAAAAAAAAAAAAAAAAAQAAAAAAAAAAAAAAAAAAAAAAAAAAAAAAAAAAAAMAAAABAAAAAQAAAAAAAAAAAAAAAAAAAAAAAAAAAAAAAwAAAAMAAAAAAAAAAQAAAAAAAAAAAAAAAAAAAAAAAAADAAAAAAAAAAAAAAAAAAAAAAAAAAAAAAAAAAAAAAAAAAAAAAABAAAAAwAAAAAAAAAAAAAAAwAAAAAAAAAAAAAAAAAAAAAAAAAAAAAAAAAAAAAAAAAAAAAAAAAAAAAAAAAAAAAAAAAAAAMAAAAAAAAAAAAAAAMAAAAAAAAAAwAAAAAAAAAAAAAAAAAAAAAAAAAAAAAAAAAAAAAAAAAAAAAAAAAAAAEAAAAAAAAAAAAAAAMAAAAAAAAAAAAAAAAAAAABAAAAAQAAAAMAAAABAAAAAAAAAAAAAAABAAAAAAAAAAMAAAAAAAAAAAAAAAAAAAADAAAAAAAAAAAAAAAAAAAAAAAAAAAAAAADAAAAAQAAAAAAAAAAAAAAAAAAAAAAAAABAAAAAAAAAAAAAAAAAAAAAAAAAAAAAAAAAAAAAQAAAAAAAAAAAAAAAAAAAAMAAAAAAAAAAAAAAAMAAAABAAAAAAAAAAEAAAAAAAAAAAAAAAAAAAAAAAAAAQAAAAAAAAABAAAAAAAAAAAAAAAAAAAAAAAAAAAAAAAAAAAAAAAAAAMAAAAAAAAAAQAAAAAAAAAAAAAAAAAAAAMAAAAAAAAAAwAAAAMAAAAAAAAAAAAAAAAAAAAAAAAAAAAAAAAAAAAAAAAAAAAAAAMAAAAAAAAAAAAAAAAAAAADAAAAAAAAAAMAAAABAAAAAAAAAAAAAAABAAAAAAAAAAAAAAAAAAAAAAAAAAEAAAAAAAAAAAAAAAMAAAAAAAAAAAAAAAAAAAAAAAAAAwAAAAAAAAAAAAAAAQAAAAMAAAADAAAAAAAAAAMAAAAAAAAAAQAAAAEAAAADAAAAAAAAAAAAAAAAAAAAAAAAAAAAAAADAAAAAAAAAAAAAAAAAAAAAwAAAAAAAAAAAAAAAAAAAAAAAAAAAAAAAAAAAAAAAAABAAAAAAAAAAMAAAAAAAAAAAAAAAMAAAAAAAAAAAAAAAEAAAABAAAAAAAAAAAAAAAAAAAAAAAAAAAAAAAAAAAAAQAAAAMAAAAAAAAAAAAAAAMAAAAAAAAAAQAAAAAAAAAAAAAAAQAAAAMAAAABAAAAAAAAAAEAAAAAAAAAAAAAAAMAAAAAAAAAAQAAAAMAAAAAAAAAAAAAAAAAAAAAAAAAAwAAAAAAAAAAAAAAAwAAAAAAAAADAAAAAAAAAAAAAAADAAAAAAAAAAMAAAABAAAAAQAAAAEAAAABAAAAAQAAAAEAAAAAAAAAAAAAAAAAAAAAAAAAAAAAAAAAAAAAAAAAAAAAAAAAAAAAAAAAAQAAAAAAAAAAAAAAAAAAAAEAAAADAAAAAAAAAAAAAAAAAAAAAAAAAAMAAAAAAAAAAAAAAAMAAAAAAAAAAAAAAAAAAAAAAAAAAAAAAAAAAAAAAAAAAQAAAAMAAAADAAAAAAAAAAEAAAAAAAAAAAAAAAAAAAABAAAAAwAAAAEAAAAAAAAAAAAAAAAAAAAAAAAAAQAAAAAAAAAAAAAAAAAAAAMAAAAAAAAAAwAAAAAAAAABAAAAAQAAAAEAAAAAAAAAAwAAAAAAAAAAAAAAAQAAAAAAAAABAAAAAQAAAAEAAAADAAAAAwAAAAAAAAABAAAAAAAAAAAAAAAAAAAAAAAAAAEAAAAAAAAAAQAAAAMAAAABAAAAAAAAAAAAAAAAAAAAAwAAAAAAAAAAAAAAAQAAAAMAAAABAAAAAAAAAAEAAAAAAAAAAAAAAAEAAAAAAAAAAQAAAAEAAAADAAAAAwAAAAAAAAAAAAAAAAAAAAAAAAABAAAAAwAAAAAAAAAAAAAAAwAAAAMAAAABAAAAAQAAAAAAAAABAAAAAAAAAAAAAAAAAAAAAQAAAAMAAAABAAAAAwAAAAMAAAAAAAAAAwAAAAAAAAAAAAAAAwAAAAEAAAADAAAAAAAAAAEAAAABAAAAAwAAAAAAAAADAAAAAQAAAAEAAAABAAAAAQAAAAAAAAADAAAAAQAAAAAAAAABAAAAAAAAAAMAAAADAAAAAwAAAAMAAAABAAAAAAAAAAEAAAAAAAAAAAAAAAMAAAAAAAAAAwAAAAEAAAADAAAAAAAAAAAAAAABAAAAAQAAAAAAAAABAAAAAwAAAAAAAAADAAAAAwAAAAAAAAABAAAAAwAAAAAAAAAAAAAAAAAAAAAAAAADAAAAAQAAAAMAAAABAAAAAAAAAAAAAAADAAAAAQAAAAAAAAABAAAAAQAAAAEAAAABAAAAAAAAAAAAAAABAAAAAAAAAAEAAAADAAAAAAAAAAAAAAADAAAAAAAAAAAAAAAAAAAAAAAAAAAAAAAAAAAAAAAAAAAAAAADAAAAAAAAAAAAAAAAAAAAAQAAAAAAAAABAAAAAAAAAAMAAAAAAAAAAAAAAAAAAAAAAAAAAAAAAAAAAAAAAAAAAAAAAAAAAAAAAAAAAQAAAAAAAAAAAAAAAwAAAAAAAAAAAAAAAAAAAAAAAAADAAAAAwAAAAAAAAAAAAAAAQAAAAAAAAABAAAAAwAAAAEAAAADAAAAAwAAAAMAAAADAAAAAgAAAAMAAAADAAAAAAAAAAEAAAABAAAAAwAAAA==\",\"dtype\":\"int32\",\"order\":\"little\",\"shape\":[532]}},\"selected\":{\"id\":\"1005\"},\"selection_policy\":{\"id\":\"1039\"}},\"id\":\"1004\",\"type\":\"ColumnDataSource\"},{\"attributes\":{},\"id\":\"1031\",\"type\":\"NumberFormatter\"},{\"attributes\":{},\"id\":\"1016\",\"type\":\"NumberFormatter\"},{\"attributes\":{},\"id\":\"1007\",\"type\":\"StringEditor\"},{\"attributes\":{},\"id\":\"1032\",\"type\":\"IntEditor\"},{\"attributes\":{\"children\":[{\"id\":\"1003\"},{\"id\":\"1036\"},{\"id\":\"1041\"}],\"margin\":[0,0,0,0],\"name\":\"Row00961\",\"tags\":[\"embedded\"]},\"id\":\"1002\",\"type\":\"Row\"},{\"attributes\":{\"source\":{\"id\":\"1004\"}},\"id\":\"1038\",\"type\":\"CDSView\"},{\"attributes\":{\"format\":\"0,0.0[00000]\"},\"id\":\"1026\",\"type\":\"NumberFormatter\"},{\"attributes\":{},\"id\":\"1017\",\"type\":\"IntEditor\"},{\"attributes\":{\"margin\":[5,5,5,5],\"name\":\"HSpacer00965\",\"sizing_mode\":\"stretch_width\"},\"id\":\"1003\",\"type\":\"Spacer\"}],\"root_ids\":[\"1002\"]},\"title\":\"Bokeh Application\",\"version\":\"2.4.3\"}};\n",
       "    var render_items = [{\"docid\":\"6cfa6bbe-d032-4cb6-b3c4-f346377b63a9\",\"root_ids\":[\"1002\"],\"roots\":{\"1002\":\"c5f75289-f46a-4e7e-adce-cd05581d859c\"}}];\n",
       "    root.Bokeh.embed.embed_items_notebook(docs_json, render_items);\n",
       "  }\n",
       "  if (root.Bokeh !== undefined && root.Bokeh.Panel !== undefined) {\n",
       "    embed_document(root);\n",
       "  } else {\n",
       "    var attempts = 0;\n",
       "    var timer = setInterval(function(root) {\n",
       "      if (root.Bokeh !== undefined && root.Bokeh.Panel !== undefined) {\n",
       "        clearInterval(timer);\n",
       "        embed_document(root);\n",
       "      } else if (document.readyState == \"complete\") {\n",
       "        attempts++;\n",
       "        if (attempts > 200) {\n",
       "          clearInterval(timer);\n",
       "          console.log(\"Bokeh: ERROR: Unable to run BokehJS code because BokehJS library is missing\");\n",
       "        }\n",
       "      }\n",
       "    }, 25, root)\n",
       "  }\n",
       "})(window);</script>"
      ],
      "text/plain": [
       ":Table   [CoinName,Algorithm,ProofType,TotalCoinSupply,TotalCoinsMined,class]"
      ]
     },
     "execution_count": 57,
     "metadata": {
      "application/vnd.holoviews_exec.v0+json": {
       "id": "1002"
      }
     },
     "output_type": "execute_result"
    }
   ],
   "source": [
    "# Create a table with tradable cryptocurrencies.\n",
    "crypto_hvplot = clustered_df.hvplot.table(columns=[\"CoinName\", \"Algorithm\", \"ProofType\", \"TotalCoinSupply\", \"TotalCoinsMined\", \"class\"])\n",
    "crypto_hvplot"
   ]
  },
  {
   "cell_type": "code",
   "execution_count": 62,
   "metadata": {},
   "outputs": [
    {
     "data": {
      "text/plain": [
       "531"
      ]
     },
     "execution_count": 62,
     "metadata": {},
     "output_type": "execute_result"
    }
   ],
   "source": [
    "# Print the total number of tradable cryptocurrencies.\n",
    "count_CoinNames = clustered_df.CoinName.nunique()\n",
    "count_CoinNames"
   ]
  },
  {
   "cell_type": "code",
   "execution_count": 64,
   "metadata": {},
   "outputs": [
    {
     "data": {
      "text/plain": [
       "4"
      ]
     },
     "execution_count": 64,
     "metadata": {},
     "output_type": "execute_result"
    }
   ],
   "source": [
    "count_classes = clustered_df[\"class\"].nunique()\n",
    "count_classes"
   ]
  },
  {
   "cell_type": "code",
   "execution_count": 66,
   "metadata": {},
   "outputs": [
    {
     "data": {
      "text/html": [
       "<div>\n",
       "<style scoped>\n",
       "    .dataframe tbody tr th:only-of-type {\n",
       "        vertical-align: middle;\n",
       "    }\n",
       "\n",
       "    .dataframe tbody tr th {\n",
       "        vertical-align: top;\n",
       "    }\n",
       "\n",
       "    .dataframe thead th {\n",
       "        text-align: right;\n",
       "    }\n",
       "</style>\n",
       "<table border=\"1\" class=\"dataframe\">\n",
       "  <thead>\n",
       "    <tr style=\"text-align: right;\">\n",
       "      <th></th>\n",
       "      <th>Algorithm</th>\n",
       "      <th>ProofType</th>\n",
       "      <th>TotalCoinsMined</th>\n",
       "      <th>TotalCoinSupply</th>\n",
       "      <th>Principal Component 1</th>\n",
       "      <th>Principal Component 2</th>\n",
       "      <th>Principal Component 3</th>\n",
       "      <th>class</th>\n",
       "      <th>CoinName</th>\n",
       "    </tr>\n",
       "    <tr>\n",
       "      <th>Unnamed: 0</th>\n",
       "      <th></th>\n",
       "      <th></th>\n",
       "      <th></th>\n",
       "      <th></th>\n",
       "      <th></th>\n",
       "      <th></th>\n",
       "      <th></th>\n",
       "      <th></th>\n",
       "      <th></th>\n",
       "    </tr>\n",
       "  </thead>\n",
       "  <tbody>\n",
       "    <tr>\n",
       "      <th>42</th>\n",
       "      <td>52</td>\n",
       "      <td>15</td>\n",
       "      <td>4.199995e+01</td>\n",
       "      <td>42</td>\n",
       "      <td>-0.417875</td>\n",
       "      <td>0.810296</td>\n",
       "      <td>0.372138</td>\n",
       "      <td>0</td>\n",
       "      <td>42 Coin</td>\n",
       "    </tr>\n",
       "    <tr>\n",
       "      <th>404</th>\n",
       "      <td>52</td>\n",
       "      <td>15</td>\n",
       "      <td>1.055185e+09</td>\n",
       "      <td>532000000</td>\n",
       "      <td>-0.396564</td>\n",
       "      <td>0.815135</td>\n",
       "      <td>0.373256</td>\n",
       "      <td>0</td>\n",
       "      <td>404Coin</td>\n",
       "    </tr>\n",
       "    <tr>\n",
       "      <th>1337</th>\n",
       "      <td>66</td>\n",
       "      <td>15</td>\n",
       "      <td>2.927942e+10</td>\n",
       "      <td>314159265359</td>\n",
       "      <td>3.124076</td>\n",
       "      <td>2.209780</td>\n",
       "      <td>0.504335</td>\n",
       "      <td>0</td>\n",
       "      <td>EliteCoin</td>\n",
       "    </tr>\n",
       "    <tr>\n",
       "      <th>BTC</th>\n",
       "      <td>47</td>\n",
       "      <td>12</td>\n",
       "      <td>1.792718e+07</td>\n",
       "      <td>21000000</td>\n",
       "      <td>-0.192083</td>\n",
       "      <td>0.016266</td>\n",
       "      <td>-0.072910</td>\n",
       "      <td>0</td>\n",
       "      <td>Bitcoin</td>\n",
       "    </tr>\n",
       "    <tr>\n",
       "      <th>ETH</th>\n",
       "      <td>20</td>\n",
       "      <td>12</td>\n",
       "      <td>1.076842e+08</td>\n",
       "      <td>0</td>\n",
       "      <td>-0.044116</td>\n",
       "      <td>-1.167492</td>\n",
       "      <td>1.012525</td>\n",
       "      <td>1</td>\n",
       "      <td>Ethereum</td>\n",
       "    </tr>\n",
       "  </tbody>\n",
       "</table>\n",
       "</div>"
      ],
      "text/plain": [
       "            Algorithm  ProofType  TotalCoinsMined TotalCoinSupply  \\\n",
       "Unnamed: 0                                                          \n",
       "42                 52         15     4.199995e+01              42   \n",
       "404                52         15     1.055185e+09       532000000   \n",
       "1337               66         15     2.927942e+10    314159265359   \n",
       "BTC                47         12     1.792718e+07        21000000   \n",
       "ETH                20         12     1.076842e+08               0   \n",
       "\n",
       "            Principal Component 1  Principal Component 2  \\\n",
       "Unnamed: 0                                                 \n",
       "42                      -0.417875               0.810296   \n",
       "404                     -0.396564               0.815135   \n",
       "1337                     3.124076               2.209780   \n",
       "BTC                     -0.192083               0.016266   \n",
       "ETH                     -0.044116              -1.167492   \n",
       "\n",
       "            Principal Component 3  class   CoinName  \n",
       "Unnamed: 0                                           \n",
       "42                       0.372138      0    42 Coin  \n",
       "404                      0.373256      0    404Coin  \n",
       "1337                     0.504335      0  EliteCoin  \n",
       "BTC                     -0.072910      0    Bitcoin  \n",
       "ETH                      1.012525      1   Ethereum  "
      ]
     },
     "execution_count": 66,
     "metadata": {},
     "output_type": "execute_result"
    }
   ],
   "source": [
    "clustered_df.head()"
   ]
  },
  {
   "cell_type": "code",
   "execution_count": 67,
   "metadata": {},
   "outputs": [],
   "source": [
    "# Scaling data to create the scatter plot with tradable cryptocurrencies.\n",
    "clustered_df[[\"TotalCoinsMined\", \"TotalCoinSupply\"]] = MinMaxScaler().fit_transform(clustered_df[[\"TotalCoinsMined\", \"TotalCoinSupply\"]])"
   ]
  },
  {
   "cell_type": "code",
   "execution_count": 68,
   "metadata": {},
   "outputs": [
    {
     "data": {
      "text/html": [
       "<div>\n",
       "<style scoped>\n",
       "    .dataframe tbody tr th:only-of-type {\n",
       "        vertical-align: middle;\n",
       "    }\n",
       "\n",
       "    .dataframe tbody tr th {\n",
       "        vertical-align: top;\n",
       "    }\n",
       "\n",
       "    .dataframe thead th {\n",
       "        text-align: right;\n",
       "    }\n",
       "</style>\n",
       "<table border=\"1\" class=\"dataframe\">\n",
       "  <thead>\n",
       "    <tr style=\"text-align: right;\">\n",
       "      <th></th>\n",
       "      <th>Algorithm</th>\n",
       "      <th>ProofType</th>\n",
       "      <th>TotalCoinsMined</th>\n",
       "      <th>TotalCoinSupply</th>\n",
       "      <th>Principal Component 1</th>\n",
       "      <th>Principal Component 2</th>\n",
       "      <th>Principal Component 3</th>\n",
       "      <th>class</th>\n",
       "      <th>CoinName</th>\n",
       "    </tr>\n",
       "    <tr>\n",
       "      <th>Unnamed: 0</th>\n",
       "      <th></th>\n",
       "      <th></th>\n",
       "      <th></th>\n",
       "      <th></th>\n",
       "      <th></th>\n",
       "      <th></th>\n",
       "      <th></th>\n",
       "      <th></th>\n",
       "      <th></th>\n",
       "    </tr>\n",
       "  </thead>\n",
       "  <tbody>\n",
       "    <tr>\n",
       "      <th>42</th>\n",
       "      <td>52</td>\n",
       "      <td>15</td>\n",
       "      <td>0.000000</td>\n",
       "      <td>4.200000e-11</td>\n",
       "      <td>-0.417875</td>\n",
       "      <td>0.810296</td>\n",
       "      <td>0.372138</td>\n",
       "      <td>0</td>\n",
       "      <td>42 Coin</td>\n",
       "    </tr>\n",
       "    <tr>\n",
       "      <th>404</th>\n",
       "      <td>52</td>\n",
       "      <td>15</td>\n",
       "      <td>0.001066</td>\n",
       "      <td>5.320000e-04</td>\n",
       "      <td>-0.396564</td>\n",
       "      <td>0.815135</td>\n",
       "      <td>0.373256</td>\n",
       "      <td>0</td>\n",
       "      <td>404Coin</td>\n",
       "    </tr>\n",
       "    <tr>\n",
       "      <th>1337</th>\n",
       "      <td>66</td>\n",
       "      <td>15</td>\n",
       "      <td>0.029576</td>\n",
       "      <td>3.141593e-01</td>\n",
       "      <td>3.124076</td>\n",
       "      <td>2.209780</td>\n",
       "      <td>0.504335</td>\n",
       "      <td>0</td>\n",
       "      <td>EliteCoin</td>\n",
       "    </tr>\n",
       "    <tr>\n",
       "      <th>BTC</th>\n",
       "      <td>47</td>\n",
       "      <td>12</td>\n",
       "      <td>0.000018</td>\n",
       "      <td>2.100000e-05</td>\n",
       "      <td>-0.192083</td>\n",
       "      <td>0.016266</td>\n",
       "      <td>-0.072910</td>\n",
       "      <td>0</td>\n",
       "      <td>Bitcoin</td>\n",
       "    </tr>\n",
       "    <tr>\n",
       "      <th>ETH</th>\n",
       "      <td>20</td>\n",
       "      <td>12</td>\n",
       "      <td>0.000109</td>\n",
       "      <td>0.000000e+00</td>\n",
       "      <td>-0.044116</td>\n",
       "      <td>-1.167492</td>\n",
       "      <td>1.012525</td>\n",
       "      <td>1</td>\n",
       "      <td>Ethereum</td>\n",
       "    </tr>\n",
       "  </tbody>\n",
       "</table>\n",
       "</div>"
      ],
      "text/plain": [
       "            Algorithm  ProofType  TotalCoinsMined  TotalCoinSupply  \\\n",
       "Unnamed: 0                                                           \n",
       "42                 52         15         0.000000     4.200000e-11   \n",
       "404                52         15         0.001066     5.320000e-04   \n",
       "1337               66         15         0.029576     3.141593e-01   \n",
       "BTC                47         12         0.000018     2.100000e-05   \n",
       "ETH                20         12         0.000109     0.000000e+00   \n",
       "\n",
       "            Principal Component 1  Principal Component 2  \\\n",
       "Unnamed: 0                                                 \n",
       "42                      -0.417875               0.810296   \n",
       "404                     -0.396564               0.815135   \n",
       "1337                     3.124076               2.209780   \n",
       "BTC                     -0.192083               0.016266   \n",
       "ETH                     -0.044116              -1.167492   \n",
       "\n",
       "            Principal Component 3  class   CoinName  \n",
       "Unnamed: 0                                           \n",
       "42                       0.372138      0    42 Coin  \n",
       "404                      0.373256      0    404Coin  \n",
       "1337                     0.504335      0  EliteCoin  \n",
       "BTC                     -0.072910      0    Bitcoin  \n",
       "ETH                      1.012525      1   Ethereum  "
      ]
     },
     "execution_count": 68,
     "metadata": {},
     "output_type": "execute_result"
    }
   ],
   "source": [
    "clustered_df.head()"
   ]
  },
  {
   "cell_type": "code",
   "execution_count": 71,
   "metadata": {},
   "outputs": [],
   "source": [
    "# Create a new DataFrame that has the scaled data with the clustered_df DataFrame index.\n",
    "clustered_scaled = clustered_df[[\"TotalCoinSupply\", \"TotalCoinsMined\", \"CoinName\", \"class\"]]\n",
    "\n",
    "# Add the \"CoinName\" column from the clustered_df DataFrame to the new DataFrame.\n",
    "\n",
    "# Add the \"Class\" column from the clustered_df DataFrame to the new DataFrame. \n",
    "\n",
    "#plot_df.head(10)"
   ]
  },
  {
   "cell_type": "code",
   "execution_count": 72,
   "metadata": {},
   "outputs": [
    {
     "data": {
      "text/html": [
       "<div>\n",
       "<style scoped>\n",
       "    .dataframe tbody tr th:only-of-type {\n",
       "        vertical-align: middle;\n",
       "    }\n",
       "\n",
       "    .dataframe tbody tr th {\n",
       "        vertical-align: top;\n",
       "    }\n",
       "\n",
       "    .dataframe thead th {\n",
       "        text-align: right;\n",
       "    }\n",
       "</style>\n",
       "<table border=\"1\" class=\"dataframe\">\n",
       "  <thead>\n",
       "    <tr style=\"text-align: right;\">\n",
       "      <th></th>\n",
       "      <th>TotalCoinSupply</th>\n",
       "      <th>TotalCoinsMined</th>\n",
       "      <th>CoinName</th>\n",
       "      <th>class</th>\n",
       "    </tr>\n",
       "    <tr>\n",
       "      <th>Unnamed: 0</th>\n",
       "      <th></th>\n",
       "      <th></th>\n",
       "      <th></th>\n",
       "      <th></th>\n",
       "    </tr>\n",
       "  </thead>\n",
       "  <tbody>\n",
       "    <tr>\n",
       "      <th>42</th>\n",
       "      <td>4.200000e-11</td>\n",
       "      <td>0.000000</td>\n",
       "      <td>42 Coin</td>\n",
       "      <td>0</td>\n",
       "    </tr>\n",
       "    <tr>\n",
       "      <th>404</th>\n",
       "      <td>5.320000e-04</td>\n",
       "      <td>0.001066</td>\n",
       "      <td>404Coin</td>\n",
       "      <td>0</td>\n",
       "    </tr>\n",
       "    <tr>\n",
       "      <th>1337</th>\n",
       "      <td>3.141593e-01</td>\n",
       "      <td>0.029576</td>\n",
       "      <td>EliteCoin</td>\n",
       "      <td>0</td>\n",
       "    </tr>\n",
       "    <tr>\n",
       "      <th>BTC</th>\n",
       "      <td>2.100000e-05</td>\n",
       "      <td>0.000018</td>\n",
       "      <td>Bitcoin</td>\n",
       "      <td>0</td>\n",
       "    </tr>\n",
       "    <tr>\n",
       "      <th>ETH</th>\n",
       "      <td>0.000000e+00</td>\n",
       "      <td>0.000109</td>\n",
       "      <td>Ethereum</td>\n",
       "      <td>1</td>\n",
       "    </tr>\n",
       "  </tbody>\n",
       "</table>\n",
       "</div>"
      ],
      "text/plain": [
       "            TotalCoinSupply  TotalCoinsMined   CoinName  class\n",
       "Unnamed: 0                                                    \n",
       "42             4.200000e-11         0.000000    42 Coin      0\n",
       "404            5.320000e-04         0.001066    404Coin      0\n",
       "1337           3.141593e-01         0.029576  EliteCoin      0\n",
       "BTC            2.100000e-05         0.000018    Bitcoin      0\n",
       "ETH            0.000000e+00         0.000109   Ethereum      1"
      ]
     },
     "execution_count": 72,
     "metadata": {},
     "output_type": "execute_result"
    }
   ],
   "source": [
    "clustered_scaled.head()"
   ]
  },
  {
   "cell_type": "code",
   "execution_count": 75,
   "metadata": {},
   "outputs": [
    {
     "data": {},
     "metadata": {},
     "output_type": "display_data"
    },
    {
     "data": {
      "application/vnd.holoviews_exec.v0+json": "",
      "text/html": [
       "<div id='1288'>\n",
       "  <div class=\"bk-root\" id=\"d26eb480-d0e0-4b60-93eb-52f076457cb7\" data-root-id=\"1288\"></div>\n",
       "</div>\n",
       "<script type=\"application/javascript\">(function(root) {\n",
       "  function embed_document(root) {\n",
       "    var docs_json = {\"465d5ffe-0ed5-4c0d-8f5f-317e97b28f26\":{\"defs\":[{\"extends\":null,\"module\":null,\"name\":\"ReactiveHTML1\",\"overrides\":[],\"properties\":[]},{\"extends\":null,\"module\":null,\"name\":\"FlexBox1\",\"overrides\":[],\"properties\":[{\"default\":\"flex-start\",\"kind\":null,\"name\":\"align_content\"},{\"default\":\"flex-start\",\"kind\":null,\"name\":\"align_items\"},{\"default\":\"row\",\"kind\":null,\"name\":\"flex_direction\"},{\"default\":\"wrap\",\"kind\":null,\"name\":\"flex_wrap\"},{\"default\":\"flex-start\",\"kind\":null,\"name\":\"justify_content\"}]},{\"extends\":null,\"module\":null,\"name\":\"GridStack1\",\"overrides\":[],\"properties\":[{\"default\":\"warn\",\"kind\":null,\"name\":\"mode\"},{\"default\":null,\"kind\":null,\"name\":\"ncols\"},{\"default\":null,\"kind\":null,\"name\":\"nrows\"},{\"default\":true,\"kind\":null,\"name\":\"allow_resize\"},{\"default\":true,\"kind\":null,\"name\":\"allow_drag\"},{\"default\":[],\"kind\":null,\"name\":\"state\"}]},{\"extends\":null,\"module\":null,\"name\":\"click1\",\"overrides\":[],\"properties\":[{\"default\":\"\",\"kind\":null,\"name\":\"terminal_output\"},{\"default\":\"\",\"kind\":null,\"name\":\"debug_name\"},{\"default\":0,\"kind\":null,\"name\":\"clears\"}]},{\"extends\":null,\"module\":null,\"name\":\"NotificationAreaBase1\",\"overrides\":[],\"properties\":[{\"default\":\"bottom-right\",\"kind\":null,\"name\":\"position\"},{\"default\":0,\"kind\":null,\"name\":\"_clear\"}]},{\"extends\":null,\"module\":null,\"name\":\"NotificationArea1\",\"overrides\":[],\"properties\":[{\"default\":[],\"kind\":null,\"name\":\"notifications\"},{\"default\":\"bottom-right\",\"kind\":null,\"name\":\"position\"},{\"default\":0,\"kind\":null,\"name\":\"_clear\"},{\"default\":[{\"background\":\"#ffc107\",\"icon\":{\"className\":\"fas fa-exclamation-triangle\",\"color\":\"white\",\"tagName\":\"i\"},\"type\":\"warning\"},{\"background\":\"#007bff\",\"icon\":{\"className\":\"fas fa-info-circle\",\"color\":\"white\",\"tagName\":\"i\"},\"type\":\"info\"}],\"kind\":null,\"name\":\"types\"}]},{\"extends\":null,\"module\":null,\"name\":\"Notification\",\"overrides\":[],\"properties\":[{\"default\":null,\"kind\":null,\"name\":\"background\"},{\"default\":3000,\"kind\":null,\"name\":\"duration\"},{\"default\":null,\"kind\":null,\"name\":\"icon\"},{\"default\":\"\",\"kind\":null,\"name\":\"message\"},{\"default\":null,\"kind\":null,\"name\":\"notification_type\"},{\"default\":false,\"kind\":null,\"name\":\"_destroyed\"}]},{\"extends\":null,\"module\":null,\"name\":\"TemplateActions1\",\"overrides\":[],\"properties\":[{\"default\":0,\"kind\":null,\"name\":\"open_modal\"},{\"default\":0,\"kind\":null,\"name\":\"close_modal\"}]},{\"extends\":null,\"module\":null,\"name\":\"MaterialTemplateActions1\",\"overrides\":[],\"properties\":[{\"default\":0,\"kind\":null,\"name\":\"open_modal\"},{\"default\":0,\"kind\":null,\"name\":\"close_modal\"}]}],\"roots\":{\"references\":[{\"attributes\":{\"source\":{\"id\":\"1332\"}},\"id\":\"1339\",\"type\":\"CDSView\"},{\"attributes\":{\"angle\":{\"value\":0.0},\"fill_alpha\":{\"value\":1.0},\"fill_color\":{\"value\":\"#e5ae38\"},\"hatch_alpha\":{\"value\":1.0},\"hatch_color\":{\"value\":\"#e5ae38\"},\"hatch_scale\":{\"value\":12.0},\"hatch_weight\":{\"value\":1.0},\"line_alpha\":{\"value\":1.0},\"line_cap\":{\"value\":\"butt\"},\"line_color\":{\"value\":\"#e5ae38\"},\"line_dash\":{\"value\":[]},\"line_dash_offset\":{\"value\":0},\"line_join\":{\"value\":\"bevel\"},\"line_width\":{\"value\":1},\"marker\":{\"value\":\"circle\"},\"size\":{\"value\":5.477225575051661},\"x\":{\"field\":\"TotalCoinsMined\"},\"y\":{\"field\":\"TotalCoinSupply\"}},\"id\":\"1398\",\"type\":\"Scatter\"},{\"attributes\":{\"coordinates\":null,\"data_source\":{\"id\":\"1399\"},\"glyph\":{\"id\":\"1402\"},\"group\":null,\"hover_glyph\":null,\"muted_glyph\":{\"id\":\"1404\"},\"nonselection_glyph\":{\"id\":\"1403\"},\"selection_glyph\":{\"id\":\"1424\"},\"view\":{\"id\":\"1406\"}},\"id\":\"1405\",\"type\":\"GlyphRenderer\"},{\"attributes\":{\"fill_alpha\":{\"value\":0.2},\"fill_color\":{\"value\":\"#30a2da\"},\"hatch_alpha\":{\"value\":0.2},\"hatch_color\":{\"value\":\"#30a2da\"},\"line_alpha\":{\"value\":0.2},\"line_color\":{\"value\":\"#30a2da\"},\"size\":{\"value\":5.477225575051661},\"x\":{\"field\":\"TotalCoinsMined\"},\"y\":{\"field\":\"TotalCoinSupply\"}},\"id\":\"1337\",\"type\":\"Scatter\"},{\"attributes\":{\"data\":{\"CoinName\":[\"Ethereum\",\"Monero\",\"Ethereum Classic\",\"ZCash\",\"DigiByte\",\"MyriadCoin\",\"Riecoin\",\"Diamond\",\"Verge\",\"FeatherCoin\",\"MediterraneanCoin\",\"Vertcoin\",\"ByteCoin\",\"DigitalNote \",\"StorjCoin\",\"FairCoin\",\"Unitus\",\"Cryptonite\",\"Crypto\",\"Expanse\",\"Siacoin\",\"Decred\",\"HOdlcoin\",\"SoilCoin\",\"Komodo\",\"Karbo\",\"Circuits of Value\",\"ZCoin\",\"Elementrem\",\"ZClassic\",\"Cannabis Industry Coin\",\"Bikercoins\",\"HexxCoin\",\"Citadel\",\"Zero\",\"Zoin\",\"DubaiCoin\",\"TajCoin\",\"Coinonat\",\"Quantum Resistant Ledger\",\"Espers\",\"Dynamic\",\"Nano\",\"ChanCoin\",\"Dinastycoin\",\"LeviarCoin\",\"SmartCash\",\"Sumokoin\",\"BitcoinZ\",\"VIVO Coin\",\"Bitcoin Gold\",\"Pirl\",\"Innova\",\"Ellaism\",\"GoByte\",\"SHIELD\",\"UltraNote\",\"BitCoal\",\"DaxxCoin\",\"Lethean\",\"Photon\",\"SparksPay\",\"GunCoin\",\"Interzone\",\"1717 Masonic Commemorative Token\",\"TurtleCoin\",\"Niobio Cash\",\"Travelflex\",\"KREDS\",\"Stipend\",\"Callisto Network\",\"BitTube\",\"Aidos Kuneen\",\"Bitrolium\",\"Alpenschillling\",\"Monero Classic\",\"Jumpcoin\",\"Infinex\",\"GINcoin\",\"PlatinCoin\",\"Loki\",\"Newton Coin\",\"MassGrid\",\"PluraCoin\",\"Muse\",\"PlusOneCoin\",\"Absolute Coin\",\"Webchain\",\"Ryo\",\"Qwertycoin\",\"XDNA\",\"CrypticCoin\",\"Actinium\",\"FREDEnergy\",\"Universal Molecule\",\"Lithium\",\"PirateCash\",\"Exosis\",\"Beam\",\"Bithereum\",\"UFO Coin\",\"BlakeCoin\",\"Groestlcoin\",\"JoinCoin\",\"Vollar\",\"Reality Clash\",\"Beldex\",\"Horizen\"],\"TotalCoinSupply\":{\"__ndarray__\":\"AAAAAAAAAAAAAAAAAAAAALx5qkNuhis/ycfuAiUF9j4bL90kBoGVP/yp8dJNYmA/ycfuAiUFFj/1h387/V7SPqRTVz7L85A/ycfuAiUFNj8sQxzr4jYqP8nH7gIlBRY/OBuRDKGcxz97FK5H4XqEP/yp8dJNYkA/AAAAAAAAAAAAAAAAAAAAANrmxvSEJV4/lEK5IQg/ET+vYF3BRrrxPgAAAAAAAAAAycfuAiUF9j42oPInYnwVP2kdVU0Qdf8+LEMc6+I2Kj/waOOItfjkPmEyVTAqqVM/hrpZzYRw9j5ocXvtfnr7PsnH7gIlBfY+ycfuAiUF9j4sQxzr4jb6Pu41tGW1+OQ+VvFG5pE/KD9mTMEaZ9PxPsnH7gIlBfY+EXF8Th67wj5U/IRYolgDP8rwgRhGTAk/vHmqQ26GGz+ZmZmZmZmpPwAAAAAAAAAANV8+o/1MNj9pHVVNEHX/Pvyp8dJNYmA/3gAz38FPDD97FK5H4Xp0P2CLvnc7TRc/Gy/dJAaBlT/eADPfwU/8PsnH7gIlBfY+L4g6nMh8JD8O1v85zJcHP9L7xteeWTI/3jAbrh+sAD84hCo1e6BFP8L1KFyPwrU/LEMc6+I26j57FK5H4XqEPzK1JRshYFA/CtejcD0Ktz/Jx+4CJQX2Pvyp8dJNYkA/e4UF9wMe+D59+P0YZiW7PgAAAAAAAPA/ycfuAiUFNj8sQxzr4jYaPy9uowG8BVI/KIbbf7NH9D45tMh2vp96P/yp8dJNYlA/LEMc6+I2+j7S+8bXnlkSP2EyVTAqqTM//J03XzZL8z7Jx+4CJQX2PvBLP9l7jvs+ycfuAiUF5j48NxtNK6lDP2EyVTAqqSM/WmQ730+Nxz/Jx+4CJQUmP/yp8dJNYlA/HckrP8z18j7Jx+4CJQX2Prx5qkNuhgs/eekmMQisXD8twS+PQR4XP1vri4S2nMc/oBnEB3b8Nz/FjzF3LSF/P8nH7gIlBRY/znADPj+MgD+ul5Tfe44bPzgBR+9NdPo+vHmqQ26GGz/Jx+4CJQX2PnaPx2cNOTE/insV4XIxAD/8qfHSTWJwP3npJjEIrHw/vHmqQ26GGz9fGWVH9HzHPhWMSuoENGE/Nnixsm6t+T753kqU9fBWP8nH7gIlBfY+\",\"dtype\":\"float64\",\"order\":\"little\",\"shape\":[108]},\"TotalCoinsMined\":{\"__ndarray__\":\"b4rWT6SDHD8IECcwFDjyPvAMQlVeBB4/AW9zJJ5H3z5Lp6Q/npiHPwjjJ6Co8Fs/EG8kTYs9Cj9vGB4QAQDMPsxlih8PepA/4fJtu5OgKz/EN/Ari2kFPzXfW1HfGQs/WFBP3X7Mxz8SQ1RVUZN8P5OnqTHLGQs/ibYLlr8rDD9F7aCJ3T0RP2iQg1h8c0c/0L1ZHKoc7T6pIsEbkTvmPi7peHQhHqE/fuesSPH05T63afQdvkDoPsgfzWVlKNg+8FkqM3GwHj+LagAvFZLgPnpDQwW4jFA/2DMeo0EI4D5jADv2nsH7PoUw/kBpyNc+tcMN/maTsD4McAKMU9LjPsb/dMFKy78+0p/hlqM85z7ziPBDLlPdPtaj38qrpPM+y6MlnoTrwj6/xleSd8/pPoGHiPbJceU+/1QSxMZHEj88BPu50pWXP2Eqf0B79PQ+tYeKh0ikIT8vjfwBHn/zPoSsKiM08l0/CdfFZ+z/7T6BzRtQQ4tiP7gWTFi/8+I+KbqbvfiPdT+41qr3XKbRPtsdILtoOPI+XtPFhsf/AT/aXBqSjwLbPi7JbWbBBes+PdU3xKy12D54mM3V0+M/P+WDv4u68ZM/LVBTnacQ0z6ZH0xtvj1BP7+wa/LPNT0/wKP4upcfnz9U9mHEoZ/gPjPTG1aj2DM/mKoz5Vc+6T5uceIZfmu7Pq1f7GWUe6s/DdRa8Xi7IT/Z8QcfT2scP1Ay2BUqT0U/5zpHmZTV5z7YL9a/QWQwPxWp9R5TMhU/B3K8ML16+j73YJbAAeUSP1ld1rdd9fw+ypskKPb28D7608Uz8VD2PvZNHrfomNU+yzphbmeZ3T6Pmy8IuNh2PhjZ6gl/SfQ+g1nCOEpbpT+RgAu44vwhP4LOT27aiUI/wKsguotF8z4f5SubYVDiPjmttaFBPuw+6vBgVo+A8D7RgN8kn7jUPriw3DhKvrk/7om/ZcPL0z5Pq/yKvoVxP1or9CUo4uw+rhUfyy/mXj+0RLaqCL+6PnZqj8zTyPA+mEbyFfiL7D5qzDKsbYabPpubDoNU5gI/cW/NA6Cj+j6w2CDJDqZvP5cn8MEuvfg+7ARGD7NoEz8gMXRQrz3MPvtFfmC/eho/gseFIuXv+T6pGh9y7ThQP37YbI3H6d4+\",\"dtype\":\"float64\",\"order\":\"little\",\"shape\":[108]},\"class\":[1,1,1,1,1,1,1,1,1,1,1,1,1,1,1,1,1,1,1,1,1,1,1,1,1,1,1,1,1,1,1,1,1,1,1,1,1,1,1,1,1,1,1,1,1,1,1,1,1,1,1,1,1,1,1,1,1,1,1,1,1,1,1,1,1,1,1,1,1,1,1,1,1,1,1,1,1,1,1,1,1,1,1,1,1,1,1,1,1,1,1,1,1,1,1,1,1,1,1,1,1,1,1,1,1,1,1,1]},\"selected\":{\"id\":\"1354\"},\"selection_policy\":{\"id\":\"1370\"}},\"id\":\"1353\",\"type\":\"ColumnDataSource\"},{\"attributes\":{\"bottom_units\":\"screen\",\"coordinates\":null,\"fill_alpha\":0.5,\"fill_color\":\"lightgrey\",\"group\":null,\"left_units\":\"screen\",\"level\":\"overlay\",\"line_alpha\":1.0,\"line_color\":\"black\",\"line_dash\":[4,4],\"line_width\":2,\"right_units\":\"screen\",\"syncable\":false,\"top_units\":\"screen\"},\"id\":\"1318\",\"type\":\"BoxAnnotation\"},{\"attributes\":{\"coordinates\":null,\"data_source\":{\"id\":\"1353\"},\"glyph\":{\"id\":\"1356\"},\"group\":null,\"hover_glyph\":null,\"muted_glyph\":{\"id\":\"1358\"},\"nonselection_glyph\":{\"id\":\"1357\"},\"selection_glyph\":{\"id\":\"1374\"},\"view\":{\"id\":\"1360\"}},\"id\":\"1359\",\"type\":\"GlyphRenderer\"},{\"attributes\":{\"label\":{\"value\":\"3\"},\"renderers\":[{\"id\":\"1405\"}]},\"id\":\"1423\",\"type\":\"LegendItem\"},{\"attributes\":{},\"id\":\"1333\",\"type\":\"Selection\"},{\"attributes\":{},\"id\":\"1420\",\"type\":\"UnionRenderers\"},{\"attributes\":{\"margin\":[5,5,5,5],\"name\":\"HSpacer01353\",\"sizing_mode\":\"stretch_width\"},\"id\":\"1289\",\"type\":\"Spacer\"},{\"attributes\":{\"fill_alpha\":{\"value\":0.1},\"fill_color\":{\"value\":\"#30a2da\"},\"hatch_alpha\":{\"value\":0.1},\"hatch_color\":{\"value\":\"#30a2da\"},\"line_alpha\":{\"value\":0.1},\"line_color\":{\"value\":\"#30a2da\"},\"size\":{\"value\":5.477225575051661},\"x\":{\"field\":\"TotalCoinsMined\"},\"y\":{\"field\":\"TotalCoinSupply\"}},\"id\":\"1336\",\"type\":\"Scatter\"},{\"attributes\":{\"fill_alpha\":{\"value\":0.2},\"fill_color\":{\"value\":\"#6d904f\"},\"hatch_alpha\":{\"value\":0.2},\"hatch_color\":{\"value\":\"#6d904f\"},\"line_alpha\":{\"value\":0.2},\"line_color\":{\"value\":\"#6d904f\"},\"size\":{\"value\":5.477225575051661},\"x\":{\"field\":\"TotalCoinsMined\"},\"y\":{\"field\":\"TotalCoinSupply\"}},\"id\":\"1404\",\"type\":\"Scatter\"},{\"attributes\":{},\"id\":\"1354\",\"type\":\"Selection\"},{\"attributes\":{\"coordinates\":null,\"data_source\":{\"id\":\"1332\"},\"glyph\":{\"id\":\"1335\"},\"group\":null,\"hover_glyph\":null,\"muted_glyph\":{\"id\":\"1337\"},\"nonselection_glyph\":{\"id\":\"1336\"},\"selection_glyph\":{\"id\":\"1352\"},\"view\":{\"id\":\"1339\"}},\"id\":\"1338\",\"type\":\"GlyphRenderer\"},{\"attributes\":{\"end\":1.042857142857143,\"reset_end\":1.042857142857143,\"reset_start\":-0.04285714285714286,\"start\":-0.04285714285714286,\"tags\":[[[\"TotalCoinsMined\",\"TotalCoinsMined\",null]]]},\"id\":\"1290\",\"type\":\"Range1d\"},{\"attributes\":{},\"id\":\"1400\",\"type\":\"Selection\"},{\"attributes\":{\"fill_color\":{\"value\":\"#6d904f\"},\"hatch_color\":{\"value\":\"#6d904f\"},\"line_color\":{\"value\":\"#6d904f\"},\"size\":{\"value\":5.477225575051661},\"x\":{\"field\":\"TotalCoinsMined\"},\"y\":{\"field\":\"TotalCoinSupply\"}},\"id\":\"1402\",\"type\":\"Scatter\"},{\"attributes\":{\"end\":1.1,\"reset_end\":1.1,\"reset_start\":-0.1,\"start\":-0.1,\"tags\":[[[\"TotalCoinSupply\",\"TotalCoinSupply\",null]]]},\"id\":\"1291\",\"type\":\"Range1d\"},{\"attributes\":{\"fill_alpha\":{\"value\":0.1},\"fill_color\":{\"value\":\"#6d904f\"},\"hatch_alpha\":{\"value\":0.1},\"hatch_color\":{\"value\":\"#6d904f\"},\"line_alpha\":{\"value\":0.1},\"line_color\":{\"value\":\"#6d904f\"},\"size\":{\"value\":5.477225575051661},\"x\":{\"field\":\"TotalCoinsMined\"},\"y\":{\"field\":\"TotalCoinSupply\"}},\"id\":\"1403\",\"type\":\"Scatter\"},{\"attributes\":{\"tools\":[{\"id\":\"1292\"},{\"id\":\"1313\"},{\"id\":\"1314\"},{\"id\":\"1315\"},{\"id\":\"1316\"},{\"id\":\"1317\"}]},\"id\":\"1319\",\"type\":\"Toolbar\"},{\"attributes\":{\"click_policy\":\"mute\",\"coordinates\":null,\"group\":null,\"items\":[{\"id\":\"1351\"},{\"id\":\"1373\"},{\"id\":\"1397\"},{\"id\":\"1423\"}],\"location\":[0,0],\"title\":\"class\"},\"id\":\"1350\",\"type\":\"Legend\"},{\"attributes\":{},\"id\":\"1347\",\"type\":\"UnionRenderers\"},{\"attributes\":{\"source\":{\"id\":\"1399\"}},\"id\":\"1406\",\"type\":\"CDSView\"},{\"attributes\":{\"label\":{\"value\":\"0\"},\"renderers\":[{\"id\":\"1338\"}]},\"id\":\"1351\",\"type\":\"LegendItem\"},{\"attributes\":{},\"id\":\"1328\",\"type\":\"AllLabels\"},{\"attributes\":{\"coordinates\":null,\"data_source\":{\"id\":\"1375\"},\"glyph\":{\"id\":\"1378\"},\"group\":null,\"hover_glyph\":null,\"muted_glyph\":{\"id\":\"1380\"},\"nonselection_glyph\":{\"id\":\"1379\"},\"selection_glyph\":{\"id\":\"1398\"},\"view\":{\"id\":\"1382\"}},\"id\":\"1381\",\"type\":\"GlyphRenderer\"},{\"attributes\":{\"angle\":{\"value\":0.0},\"fill_alpha\":{\"value\":1.0},\"fill_color\":{\"value\":\"#6d904f\"},\"hatch_alpha\":{\"value\":1.0},\"hatch_color\":{\"value\":\"#6d904f\"},\"hatch_scale\":{\"value\":12.0},\"hatch_weight\":{\"value\":1.0},\"line_alpha\":{\"value\":1.0},\"line_cap\":{\"value\":\"butt\"},\"line_color\":{\"value\":\"#6d904f\"},\"line_dash\":{\"value\":[]},\"line_dash_offset\":{\"value\":0},\"line_join\":{\"value\":\"bevel\"},\"line_width\":{\"value\":1},\"marker\":{\"value\":\"circle\"},\"size\":{\"value\":5.477225575051661},\"x\":{\"field\":\"TotalCoinsMined\"},\"y\":{\"field\":\"TotalCoinSupply\"}},\"id\":\"1424\",\"type\":\"Scatter\"},{\"attributes\":{},\"id\":\"1301\",\"type\":\"LinearScale\"},{\"attributes\":{\"angle\":{\"value\":0.0},\"fill_alpha\":{\"value\":1.0},\"fill_color\":{\"value\":\"#30a2da\"},\"hatch_alpha\":{\"value\":1.0},\"hatch_color\":{\"value\":\"#30a2da\"},\"hatch_scale\":{\"value\":12.0},\"hatch_weight\":{\"value\":1.0},\"line_alpha\":{\"value\":1.0},\"line_cap\":{\"value\":\"butt\"},\"line_color\":{\"value\":\"#30a2da\"},\"line_dash\":{\"value\":[]},\"line_dash_offset\":{\"value\":0},\"line_join\":{\"value\":\"bevel\"},\"line_width\":{\"value\":1},\"marker\":{\"value\":\"circle\"},\"size\":{\"value\":5.477225575051661},\"x\":{\"field\":\"TotalCoinsMined\"},\"y\":{\"field\":\"TotalCoinSupply\"}},\"id\":\"1352\",\"type\":\"Scatter\"},{\"attributes\":{\"fill_alpha\":{\"value\":0.1},\"fill_color\":{\"value\":\"#e5ae38\"},\"hatch_alpha\":{\"value\":0.1},\"hatch_color\":{\"value\":\"#e5ae38\"},\"line_alpha\":{\"value\":0.1},\"line_color\":{\"value\":\"#e5ae38\"},\"size\":{\"value\":5.477225575051661},\"x\":{\"field\":\"TotalCoinsMined\"},\"y\":{\"field\":\"TotalCoinSupply\"}},\"id\":\"1379\",\"type\":\"Scatter\"},{\"attributes\":{\"fill_alpha\":{\"value\":0.2},\"fill_color\":{\"value\":\"#fc4f30\"},\"hatch_alpha\":{\"value\":0.2},\"hatch_color\":{\"value\":\"#fc4f30\"},\"line_alpha\":{\"value\":0.2},\"line_color\":{\"value\":\"#fc4f30\"},\"size\":{\"value\":5.477225575051661},\"x\":{\"field\":\"TotalCoinsMined\"},\"y\":{\"field\":\"TotalCoinSupply\"}},\"id\":\"1358\",\"type\":\"Scatter\"},{\"attributes\":{\"below\":[{\"id\":\"1305\"}],\"center\":[{\"id\":\"1308\"},{\"id\":\"1312\"}],\"height\":300,\"left\":[{\"id\":\"1309\"}],\"margin\":[5,5,5,5],\"min_border_bottom\":10,\"min_border_left\":10,\"min_border_right\":10,\"min_border_top\":10,\"renderers\":[{\"id\":\"1338\"},{\"id\":\"1359\"},{\"id\":\"1381\"},{\"id\":\"1405\"}],\"right\":[{\"id\":\"1350\"}],\"sizing_mode\":\"fixed\",\"title\":{\"id\":\"1297\"},\"toolbar\":{\"id\":\"1319\"},\"width\":700,\"x_range\":{\"id\":\"1290\"},\"x_scale\":{\"id\":\"1301\"},\"y_range\":{\"id\":\"1291\"},\"y_scale\":{\"id\":\"1303\"}},\"id\":\"1296\",\"subtype\":\"Figure\",\"type\":\"Plot\"},{\"attributes\":{},\"id\":\"1370\",\"type\":\"UnionRenderers\"},{\"attributes\":{\"coordinates\":null,\"group\":null,\"text_color\":\"black\",\"text_font_size\":\"12pt\"},\"id\":\"1297\",\"type\":\"Title\"},{\"attributes\":{\"children\":[{\"id\":\"1289\"},{\"id\":\"1296\"},{\"id\":\"1441\"}],\"margin\":[0,0,0,0],\"name\":\"Row01349\",\"tags\":[\"embedded\"]},\"id\":\"1288\",\"type\":\"Row\"},{\"attributes\":{\"fill_color\":{\"value\":\"#fc4f30\"},\"hatch_color\":{\"value\":\"#fc4f30\"},\"line_color\":{\"value\":\"#fc4f30\"},\"size\":{\"value\":5.477225575051661},\"x\":{\"field\":\"TotalCoinsMined\"},\"y\":{\"field\":\"TotalCoinSupply\"}},\"id\":\"1356\",\"type\":\"Scatter\"},{\"attributes\":{\"axis_label\":\"TotalCoinsMined\",\"coordinates\":null,\"formatter\":{\"id\":\"1327\"},\"group\":null,\"major_label_policy\":{\"id\":\"1328\"},\"ticker\":{\"id\":\"1306\"}},\"id\":\"1305\",\"type\":\"LinearAxis\"},{\"attributes\":{\"label\":{\"value\":\"1\"},\"renderers\":[{\"id\":\"1359\"}]},\"id\":\"1373\",\"type\":\"LegendItem\"},{\"attributes\":{},\"id\":\"1303\",\"type\":\"LinearScale\"},{\"attributes\":{\"fill_alpha\":{\"value\":0.1},\"fill_color\":{\"value\":\"#fc4f30\"},\"hatch_alpha\":{\"value\":0.1},\"hatch_color\":{\"value\":\"#fc4f30\"},\"line_alpha\":{\"value\":0.1},\"line_color\":{\"value\":\"#fc4f30\"},\"size\":{\"value\":5.477225575051661},\"x\":{\"field\":\"TotalCoinsMined\"},\"y\":{\"field\":\"TotalCoinSupply\"}},\"id\":\"1357\",\"type\":\"Scatter\"},{\"attributes\":{\"axis\":{\"id\":\"1309\"},\"coordinates\":null,\"dimension\":1,\"grid_line_color\":null,\"group\":null,\"ticker\":null},\"id\":\"1312\",\"type\":\"Grid\"},{\"attributes\":{\"source\":{\"id\":\"1353\"}},\"id\":\"1360\",\"type\":\"CDSView\"},{\"attributes\":{},\"id\":\"1306\",\"type\":\"BasicTicker\"},{\"attributes\":{\"axis\":{\"id\":\"1305\"},\"coordinates\":null,\"grid_line_color\":null,\"group\":null,\"ticker\":null},\"id\":\"1308\",\"type\":\"Grid\"},{\"attributes\":{\"angle\":{\"value\":0.0},\"fill_alpha\":{\"value\":1.0},\"fill_color\":{\"value\":\"#fc4f30\"},\"hatch_alpha\":{\"value\":1.0},\"hatch_color\":{\"value\":\"#fc4f30\"},\"hatch_scale\":{\"value\":12.0},\"hatch_weight\":{\"value\":1.0},\"line_alpha\":{\"value\":1.0},\"line_cap\":{\"value\":\"butt\"},\"line_color\":{\"value\":\"#fc4f30\"},\"line_dash\":{\"value\":[]},\"line_dash_offset\":{\"value\":0},\"line_join\":{\"value\":\"bevel\"},\"line_width\":{\"value\":1},\"marker\":{\"value\":\"circle\"},\"size\":{\"value\":5.477225575051661},\"x\":{\"field\":\"TotalCoinsMined\"},\"y\":{\"field\":\"TotalCoinSupply\"}},\"id\":\"1374\",\"type\":\"Scatter\"},{\"attributes\":{\"fill_alpha\":{\"value\":0.2},\"fill_color\":{\"value\":\"#e5ae38\"},\"hatch_alpha\":{\"value\":0.2},\"hatch_color\":{\"value\":\"#e5ae38\"},\"line_alpha\":{\"value\":0.2},\"line_color\":{\"value\":\"#e5ae38\"},\"size\":{\"value\":5.477225575051661},\"x\":{\"field\":\"TotalCoinsMined\"},\"y\":{\"field\":\"TotalCoinSupply\"}},\"id\":\"1380\",\"type\":\"Scatter\"},{\"attributes\":{},\"id\":\"1310\",\"type\":\"BasicTicker\"},{\"attributes\":{\"axis_label\":\"TotalCoinSupply\",\"coordinates\":null,\"formatter\":{\"id\":\"1330\"},\"group\":null,\"major_label_policy\":{\"id\":\"1331\"},\"ticker\":{\"id\":\"1310\"}},\"id\":\"1309\",\"type\":\"LinearAxis\"},{\"attributes\":{},\"id\":\"1331\",\"type\":\"AllLabels\"},{\"attributes\":{},\"id\":\"1330\",\"type\":\"BasicTickFormatter\"},{\"attributes\":{},\"id\":\"1376\",\"type\":\"Selection\"},{\"attributes\":{\"label\":{\"value\":\"2\"},\"renderers\":[{\"id\":\"1381\"}]},\"id\":\"1397\",\"type\":\"LegendItem\"},{\"attributes\":{\"fill_color\":{\"value\":\"#30a2da\"},\"hatch_color\":{\"value\":\"#30a2da\"},\"line_color\":{\"value\":\"#30a2da\"},\"size\":{\"value\":5.477225575051661},\"x\":{\"field\":\"TotalCoinsMined\"},\"y\":{\"field\":\"TotalCoinSupply\"}},\"id\":\"1335\",\"type\":\"Scatter\"},{\"attributes\":{\"data\":{\"CoinName\":[\"BitTorrent\"],\"TotalCoinSupply\":{\"__ndarray__\":\"rkfhehSu7z8=\",\"dtype\":\"float64\",\"order\":\"little\",\"shape\":[1]},\"TotalCoinsMined\":{\"__ndarray__\":\"AAAAAAAA8D8=\",\"dtype\":\"float64\",\"order\":\"little\",\"shape\":[1]},\"class\":[2]},\"selected\":{\"id\":\"1376\"},\"selection_policy\":{\"id\":\"1394\"}},\"id\":\"1375\",\"type\":\"ColumnDataSource\"},{\"attributes\":{\"fill_color\":{\"value\":\"#e5ae38\"},\"hatch_color\":{\"value\":\"#e5ae38\"},\"line_color\":{\"value\":\"#e5ae38\"},\"size\":{\"value\":5.477225575051661},\"x\":{\"field\":\"TotalCoinsMined\"},\"y\":{\"field\":\"TotalCoinSupply\"}},\"id\":\"1378\",\"type\":\"Scatter\"},{\"attributes\":{},\"id\":\"1313\",\"type\":\"SaveTool\"},{\"attributes\":{\"data\":{\"CoinName\":[\"Bitshares\",\"PayCoin\",\"CasinoCoin\",\"Exclusive Coin\",\"FlutterCoin\",\"HyperStake\",\"MintCoin\",\"Nautilus Coin\",\"SuperCoin\",\"TeslaCoin\",\"TittieCoin\",\"Crypti\",\"BurstCoin\",\"RubyCoin\",\"Dnotes\",\"Ucoin\",\"Squall Coin\",\"Diggits\",\"GPU Coin\",\"ZeitCoin\",\"SafeExchangeCoin\",\"Nebuchadnezzar\",\"Let it Ride\",\"MudraCoin\",\"Lutetium Coin\",\"BitCurrency\",\"Opair\",\"CoffeeCoin\",\"RoyalCoin\",\"TeamUP\",\"ARK\",\"FreeCoin\",\"Creatio\",\"PandaCoin\",\"Allsafe\",\"Zilbercoin\",\"FindCoin\",\"RenosCoin\",\"Atmos\",\"MacronCoin\",\"ProCurrency\",\"GrowthCoin\",\"Phreak\",\"Ultimate Secure Cash\",\"QTUM\",\"Signatum\",\"Draftcoin\",\"Stakecoin\",\"Obsidian\",\"Cardano\",\"Rupee\",\"KekCoin\",\"Infinity Economics\",\"Lamden Tau\",\"Bulwark\",\"Kalkulus\",\"Digiwage\",\"Monkey Project\",\"TokenPay\",\"Tokyo Coin\",\"BiblePay\",\"Poa Network\",\"Velox\",\"Ontology\",\"MedicCoin\",\"Bitcoin Green\",\"Deviant Coin\",\"Semux\",\"Zealium\",\"Proton\",\"Bitcoin Incognito\",\"HollyWoodCoin\",\"Xt3ch\",\"Dekado\",\"Lynx\",\"Poseidon Quark\",\"BitcoinWSpectrum\",\"Dystem\",\"Peony Coin\",\"Vitae\",\"ARENON\",\"MMOCoin\",\"Ketan\",\"PAXEX\",\"Acute Angle Cloud\",\"Bettex coin\",\"Junson Ming Chan Coin\",\"Crypto Sports\",\"Dash Platinum\",\"ALAX\",\"NeosCoin\",\"Radium\",\"Lisk\",\"HiCoin\",\"EOS\",\"Oxycoin\",\"TigerCash\",\"Waves\",\"Particl\",\"Nxt\",\"ZEPHYR\",\"BitcoinPlus\"],\"TotalCoinSupply\":{\"__ndarray__\":\"zHCykfF+bT8sQxzr4jbqPnsUrkfheqQ/AAAAAAAAAAAAAAAAAAAAAAAAAAAAAAAAAAAAAAAAAADJ2jIiSffwPgAAAAAAAAAALEMc6+I2Gj9IUPwYc9diPwAAAAAAAAAAUFX5y1uvYT8AAAAAAAAAAPyp8dJNYkA/8GjjiLX49D4AAAAAAAAAACxDHOviNho/9Q54pkv5LD/y0k1iEFi5P966CoGZl2E/8GjjiLX49D6wdD48S5ABPyxDHOviNio/VHO5wVCHRT8AAAAAAAAAAKta0lEOZhM/NNSvB7L4BD+CPVa0+fjEPk/o9SfxuTM//Knx0k1iID8sQxzr4jYKP/Bo44i1+PQ+7gprkculoD9pHVVNEHXvPkuwOJz51Qw/8zIaY/h17j7iPyHjogwCP5Krpklw6Rw/LEMc6+I2Oj8zMzMzMzOzP/yp8dJNYmA/aR1VTRB1/z4pV94wtjkqPyxDHOviNho/L26jAbwFIj9bLjW8W0DyPkcCJ1fnJRA/edgbIwL1Fz8K16NwPQqnP1TkEHFzKvk+ycfuAiUF9j4730+Nl26CP/yp8dJNYkA/bcEPVf0P/T7waOOItfj0PmkdVU0QdR8/ycfuAiUF9j4sQxzr4jb6PixDHOviNko/lPYGX5hMdT+EWijhloswPyE+sOO/QCA//Knx0k1iUD/8qfHSTWJAP8nH7gIlBfY+oib6fJQRFz8sQxzr4jYaP/Bo44i1+BQ/Dtb/OcyXBz/Jx+4CJQX2PgWiJ2VSQ/s+oib6fJQRBz8O1v85zJcXP1pkO99Pjbc/lPYGX5hMRT8JVuWQe0gaP8nH7gIlBfY+fm/Tn/1IkT8sQxzr4jYaP0uwOJz51Qw/Q8U4fxMKMT+8eapDboYrPyxDHOviNho//Knx0k1iUD8sQxzr4jYKPwAAAAAAAAAAFuPTzvYJ7D7jMhOxLaj0Pvyp8dJNYlA/ycfuAiUF9j4/q8yU1t/iPvM1l5j49SQ/RXPJLYN/hD8AAAAAAAAAAAAAAAAAAAAA/Knx0k1iUD8sQxzr4jYaP1NUbSprG+I+/Knx0k1iUD/8qfHSTWJgP43ttaD3xrA+\",\"dtype\":\"float64\",\"order\":\"little\",\"shape\":[102]},\"TotalCoinsMined\":{\"__ndarray__\":\"q7iVeqGvZj9bs+U3DGnpPj3HXP3lr6Q/ye+KsSkQ2D76DhvNkpI+P2Kcs/Rqx1s/0/9nDoYGlj+8eCIlMiPxPvE4gZuv2go/Q5LoVqdAFT90v41fV9laP/tFfmC/eho/L/f3qVABXj876RpKEMv8PmPUGyFpHyc/SuSuQabKxj721dyvE1CWPvtFfmC/eho/4z+Ha6tvBT/svR7o5R6jP/n/Em4kxWE/kQBSK/0u9T45sM3Uzm8EP8KwSmz0LtU+VL1QZQy/RT9P/h//VHQmP0FcR2uQmhM//jSGyJGwIz9a3dieLS/FPtAmkkqG3/I+jJ8MEr+mHD+pVOilvnoKP5EAUiv9LvU+qgjVT8Z8oT+BYbgGxEfmPvnP2bukw8g+oIVe/s3E7j7A48DYhRcDP0cUbD+ebR0/9aCwh9aSOj8HdZcEvp8aPzKmZJqfiTM/V5NYq+Ug6D4A2wc5DOnlPvtFfmC/eho/TKbRkzOXHD860UXAisTzPpjvW85a8tA+B3K8ML16+j57/PtlW9GaP7zBQMmWa/k+xDTgUPke6j5IMTwRT56CP7qKEQM8EjM/a6WLOuwP7D7HiU9ni/XxPnL2hBtM6vw+4aYHbQ+s0j673Mph4qf1Pu7nRXixfS4/j1gNkdpTXT+cGSV4jxIrP9ASAlBMFfs+GJsR1eyKRT+4Z5wg3LExP9oOofWExOQ+51LeU9Mr9z6aEdS4Bt20PqJvk38Wduc+w3Op81Co0j6SE54zvRnnPqEkCZqrfwQ/9Mfa+rkp4D5yMj9ExgkAP3wmmCQII7Q/K8r/+wcExz42SXejuJ0OPzXp732EAd4+RoR7IXyosT6HoWrpn30RP1ZtDKPqaPQ+m/qEcQqJHD/EaDW8FMLjPoubEauvFdM+ekNDBbiMUD+PpPcVk8HcPqsg48UZzZE/B9lw/alkwD7i1s0RRUGoPnpDQwW4jFA/f2HIS8yb0j5L9hxTejDQPjLjHxJSxx8/8bDGPwewhD9Fb5ScwuNQPxHCato3k1I/ekNDBbiMUD/7RX5gv3oaP7NFSRg5quM+ekNDBbiMUD8HHHEKuIxgP0IO5c1pZIE+\",\"dtype\":\"float64\",\"order\":\"little\",\"shape\":[102]},\"class\":[3,3,3,3,3,3,3,3,3,3,3,3,3,3,3,3,3,3,3,3,3,3,3,3,3,3,3,3,3,3,3,3,3,3,3,3,3,3,3,3,3,3,3,3,3,3,3,3,3,3,3,3,3,3,3,3,3,3,3,3,3,3,3,3,3,3,3,3,3,3,3,3,3,3,3,3,3,3,3,3,3,3,3,3,3,3,3,3,3,3,3,3,3,3,3,3,3,3,3,3,3,3]},\"selected\":{\"id\":\"1400\"},\"selection_policy\":{\"id\":\"1420\"}},\"id\":\"1399\",\"type\":\"ColumnDataSource\"},{\"attributes\":{\"callback\":null,\"renderers\":[{\"id\":\"1338\"},{\"id\":\"1359\"},{\"id\":\"1381\"},{\"id\":\"1405\"}],\"tags\":[\"hv_created\"],\"tooltips\":[[\"class\",\"@{class}\"],[\"TotalCoinsMined\",\"@{TotalCoinsMined}\"],[\"TotalCoinSupply\",\"@{TotalCoinSupply}\"],[\"CoinName\",\"@{CoinName}\"]]},\"id\":\"1292\",\"type\":\"HoverTool\"},{\"attributes\":{},\"id\":\"1314\",\"type\":\"PanTool\"},{\"attributes\":{\"data\":{\"CoinName\":[\"42 Coin\",\"404Coin\",\"EliteCoin\",\"Bitcoin\",\"Litecoin\",\"Dash\",\"BitcoinDark\",\"ProsperCoin\",\"KoboCoin\",\"Spreadcoin\",\"Argentum\",\"Aurora Coin\",\"BlueCoin\",\"MoonCoin\",\"ZetaCoin\",\"SexCoin\",\"Quatloo\",\"EnergyCoin\",\"QuarkCoin\",\"Digitalcoin \",\"BitBar\",\"Catcoin\",\"CryptoBullion\",\"CannaCoin\",\"CryptCoin\",\"DevCoin\",\"EarthCoin\",\"E-Gulden\",\"Einsteinium\",\"Emerald\",\"Franko\",\"GrandCoin\",\"GlobalCoin\",\"GoldCoin\",\"HoboNickels\",\"Infinite Coin\",\"IOCoin\",\"IXcoin\",\"KrugerCoin\",\"LuckyCoin\",\"Litebar \",\"MaxCoin\",\"MegaCoin\",\"MinCoin\",\"MazaCoin\",\"NavCoin\",\"NobleCoin\",\"Namecoin\",\"NyanCoin\",\"OpalCoin\",\"Orbitcoin\",\"PotCoin\",\"PhoenixCoin\",\"Reddcoin\",\"RonPaulCoin\",\"StableCoin\",\"SmartCoin\",\"SyncCoin\",\"SysCoin\",\"TigerCoin\",\"TorCoin\",\"TerraCoin\",\"UnbreakableCoin\",\"Unobtanium\",\"UroCoin\",\"UnitaryStatus Dollar\",\"UltraCoin\",\"ViaCoin\",\"VeriCoin\",\"WorldCoin\",\"X11 Coin\",\"JouleCoin\",\"StealthCoin\",\"ZCC Coin\",\"MonaCoin\",\"Neutron\",\"Gulden\",\"PesetaCoin\",\"Kore\",\"Wild Beast Coin\",\"Flo\",\"8BIT Coin\",\"Sativa Coin\",\"ArtByte\",\"Folding Coin\",\"CypherPunkCoin\",\"OmniCron\",\"Vtorrent\",\"GreenCoin\",\"MasterCoin\",\"SoonCoin\",\"1Credit\",\"IslaCoin\",\"Nexus\",\"MarsCoin \",\"Anarchists Prime\",\"Droidz\",\"BowsCoin\",\"Song Coin\",\"BitZeny\",\"Paycon\",\"Emercoin\",\"EverGreenCoin\",\"MindCoin\",\"I0coin\",\"Revolution VR\",\"EDRCoin\",\"Hitcoin\",\"Gamecredits\",\"DubaiCoin\",\"CarpeDiemCoin\",\"PWR Coin\",\"BillaryCoin\",\"Adzcoin\",\"YoCoin\",\"SibCoin\",\"EuropeCoin\",\"SwingCoin\",\"Francs\",\"BolivarCoin\",\"Ratecoin\",\"Revenu\",\"Clockcoin\",\"VIP Tokens\",\"BitSend\",\"Omni\",\"PutinCoin\",\"iBankCoin\",\"Frankywillcoin\",\"PizzaCoin\",\"GoldBlocks\",\"CarterCoin\",\"BitTokens\",\"ZayedCoin\",\"MustangCoin\",\"ZoneCoin\",\"RootCoin\",\"DopeCoin\",\"DollarCoin\",\"Swiscoin\",\"Shilling\",\"BuzzCoin\",\"PesoBit\",\"Halloween Coin\",\"GanjaCoin V2\",\"LanaCoin\",\"InsaneCoin\",\"KiloCoin\",\"ArtexCoin\",\"EmberCoin\",\"XenixCoin\",\"PLNCoin\",\"AquariusCoin\",\"Kurrent\",\"Eternity\",\"Eurocoin\",\"BitcoinFast\",\"Stakenet\",\"BitConnect Coin\",\"MoneyCoin\",\"Enigma\",\"Russiacoin\",\"GameUnits\",\"GAKHcoin\",\"LiteCreed\",\"OsmiumCoin\",\"Klingon Empire Darsek\",\"Internet of People\",\"KushCoin\",\"Printerium\",\"PacCoin\",\"Impeach\",\"FirstCoin\",\"BeaverCoin\",\"VaultCoin\",\"OpenChat\",\"Canada eCoin\",\"VirtacoinPlus\",\"Impact\",\"EB3coin\",\"HappyCoin\",\"Condensate\",\"Independent Money System\",\"ArgusCoin\",\"LomoCoin\",\"GoldReserve\",\"BenjiRolls\",\"ILCoin\",\"Degas Coin\",\"HTML5 Coin\",\"EquiTrader\",\"Denarius\",\"DigitalPrice\",\"Virta Unique Coin\",\"Bitcoin Planet\",\"Unify\",\"BritCoin\",\"SocialCoin\",\"ArcticCoin\",\"DAS\",\"Linda\",\"DeepOnion\",\"Bitcore\",\"gCn Coin\",\"Onix\",\"Cream\",\"Bitcoin Cash\",\"Monoeci\",\"Vechain\",\"Sojourn Coin\",\"NewYorkCoin\",\"FrazCoin\",\"Kronecoin\",\"AdCoin\",\"Linx\",\"CoinonatX\",\"Ethereum Dark\",\"Regalcoin\",\"TrezarCoin\",\"Elements\",\"TerraNovaCoin\",\"WomenCoin\",\"Theresa May Coin\",\"NamoCoin\",\"LUXCoin\",\"Xios\",\"Bitcloud 2.0\",\"eBoost\",\"BlackholeCoin\",\"Pura\",\"Magnet\",\"Electra\",\"Bitcoin Diamond\",\"Cash & Back Coin\",\"AC3\",\"GermanCoin\",\"LiteCoin Ultra\",\"PopularCoin\",\"PhantomX\",\"Sucre\",\"IrishCoin\",\"Trollcoin\",\"Litecoin Plus\",\"Pioneer Coin\",\"UnitedBitcoin\",\"My Big Coin\",\"MUNcoin\",\"Unified Society USDEX\",\"ShareChain\",\"LitecoinCash\",\"BitFlip\",\"LottoCoin\",\"Crypto Improvement Fund\",\"Pushi\",\"Ellerium\",\"Poseidon\",\"Bitspace\",\"Briacoin\",\"Ignition\",\"Abjcoin\",\"FuturoCoin\",\"Carebit\",\"iDealCash\",\"KEYCO\",\"Swisscoin\",\"TheVig\",\"EmaratCoin\",\"Motion\",\"Axe\",\"Trivechain\",\"Giant\",\"HexCoin\",\"TPCash\",\"Urals Coin\",\"EUNO\",\"Project Pai\",\"Azart\",\"ThunderStake\",\"Kcash\",\"Xchange\",\"Bitcoin SV\",\"BitMoney\",\"HerbCoin\",\"Block-Logic\",\"Oduwa\",\"Galilel\",\"Credit\",\"SLICE\",\"Nasdacoin\",\"Beetle Coin\",\"Titan Coin\",\"Award\",\"BLAST\",\"Bitcoin Rhodium\",\"GlobalToken\",\"Insane Coin\",\"LiteDoge\",\"SolarCoin\",\"TruckCoin\",\"OrangeCoin\",\"BitstarCoin\",\"HyperCoin\",\"PinkCoin\",\"Crypto Escudo\",\"AudioCoin\",\"IncaKoin\",\"Piggy Coin\",\"Crown Coin\",\"Genstake\",\"SmileyCoin\",\"XiaoMiCoin\",\"CapriCoin\",\" ClubCoin\",\"Bata\",\"Pakcoin\",\"Creditbit \",\"OKCash\",\"WhiteCoin\",\"FriendshipCoin\",\"Triangles Coin\",\"Gapcoin\"],\"TotalCoinSupply\":{\"__ndarray__\":\"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\",\"dtype\":\"float64\",\"order\":\"little\",\"shape\":[321]},\"TotalCoinsMined\":{\"__ndarray__\":\"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\",\"dtype\":\"float64\",\"order\":\"little\",\"shape\":[321]},\"class\":[0,0,0,0,0,0,0,0,0,0,0,0,0,0,0,0,0,0,0,0,0,0,0,0,0,0,0,0,0,0,0,0,0,0,0,0,0,0,0,0,0,0,0,0,0,0,0,0,0,0,0,0,0,0,0,0,0,0,0,0,0,0,0,0,0,0,0,0,0,0,0,0,0,0,0,0,0,0,0,0,0,0,0,0,0,0,0,0,0,0,0,0,0,0,0,0,0,0,0,0,0,0,0,0,0,0,0,0,0,0,0,0,0,0,0,0,0,0,0,0,0,0,0,0,0,0,0,0,0,0,0,0,0,0,0,0,0,0,0,0,0,0,0,0,0,0,0,0,0,0,0,0,0,0,0,0,0,0,0,0,0,0,0,0,0,0,0,0,0,0,0,0,0,0,0,0,0,0,0,0,0,0,0,0,0,0,0,0,0,0,0,0,0,0,0,0,0,0,0,0,0,0,0,0,0,0,0,0,0,0,0,0,0,0,0,0,0,0,0,0,0,0,0,0,0,0,0,0,0,0,0,0,0,0,0,0,0,0,0,0,0,0,0,0,0,0,0,0,0,0,0,0,0,0,0,0,0,0,0,0,0,0,0,0,0,0,0,0,0,0,0,0,0,0,0,0,0,0,0,0,0,0,0,0,0,0,0,0,0,0,0,0,0,0,0,0,0,0,0,0,0,0,0,0,0,0,0,0,0,0,0,0,0,0,0,0,0,0,0,0,0]},\"selected\":{\"id\":\"1333\"},\"selection_policy\":{\"id\":\"1347\"}},\"id\":\"1332\",\"type\":\"ColumnDataSource\"},{\"attributes\":{},\"id\":\"1315\",\"type\":\"WheelZoomTool\"},{\"attributes\":{\"margin\":[5,5,5,5],\"name\":\"HSpacer01354\",\"sizing_mode\":\"stretch_width\"},\"id\":\"1441\",\"type\":\"Spacer\"},{\"attributes\":{},\"id\":\"1317\",\"type\":\"ResetTool\"},{\"attributes\":{\"overlay\":{\"id\":\"1318\"}},\"id\":\"1316\",\"type\":\"BoxZoomTool\"},{\"attributes\":{},\"id\":\"1327\",\"type\":\"BasicTickFormatter\"},{\"attributes\":{\"source\":{\"id\":\"1375\"}},\"id\":\"1382\",\"type\":\"CDSView\"},{\"attributes\":{},\"id\":\"1394\",\"type\":\"UnionRenderers\"}],\"root_ids\":[\"1288\"]},\"title\":\"Bokeh Application\",\"version\":\"2.4.3\"}};\n",
       "    var render_items = [{\"docid\":\"465d5ffe-0ed5-4c0d-8f5f-317e97b28f26\",\"root_ids\":[\"1288\"],\"roots\":{\"1288\":\"d26eb480-d0e0-4b60-93eb-52f076457cb7\"}}];\n",
       "    root.Bokeh.embed.embed_items_notebook(docs_json, render_items);\n",
       "  }\n",
       "  if (root.Bokeh !== undefined && root.Bokeh.Panel !== undefined) {\n",
       "    embed_document(root);\n",
       "  } else {\n",
       "    var attempts = 0;\n",
       "    var timer = setInterval(function(root) {\n",
       "      if (root.Bokeh !== undefined && root.Bokeh.Panel !== undefined) {\n",
       "        clearInterval(timer);\n",
       "        embed_document(root);\n",
       "      } else if (document.readyState == \"complete\") {\n",
       "        attempts++;\n",
       "        if (attempts > 200) {\n",
       "          clearInterval(timer);\n",
       "          console.log(\"Bokeh: ERROR: Unable to run BokehJS code because BokehJS library is missing\");\n",
       "        }\n",
       "      }\n",
       "    }, 25, root)\n",
       "  }\n",
       "})(window);</script>"
      ],
      "text/plain": [
       ":NdOverlay   [class]\n",
       "   :Scatter   [TotalCoinsMined]   (TotalCoinSupply,CoinName)"
      ]
     },
     "execution_count": 75,
     "metadata": {
      "application/vnd.holoviews_exec.v0+json": {
       "id": "1288"
      }
     },
     "output_type": "execute_result"
    }
   ],
   "source": [
    "# Create a hvplot.scatter plot using x=\"TotalCoinsMined\" and y=\"TotalCoinSupply\".\n",
    "clustered_scaled.hvplot.scatter(\n",
    "    x=\"TotalCoinsMined\", \n",
    "    y=\"TotalCoinSupply\", \n",
    "    by=\"class\", \n",
    "    hover_cols=[\"CoinName\"]\n",
    ")\n"
   ]
  },
  {
   "cell_type": "code",
   "execution_count": null,
   "metadata": {},
   "outputs": [],
   "source": []
  }
 ],
 "metadata": {
  "file_extension": ".py",
  "kernelspec": {
   "display_name": "Python 3",
   "language": "python",
   "name": "python3"
  },
  "language_info": {
   "codemirror_mode": {
    "name": "ipython",
    "version": 3
   },
   "file_extension": ".py",
   "mimetype": "text/x-python",
   "name": "python",
   "nbconvert_exporter": "python",
   "pygments_lexer": "ipython3",
   "version": "3.7.13"
  },
  "latex_envs": {
   "LaTeX_envs_menu_present": true,
   "autoclose": false,
   "autocomplete": true,
   "bibliofile": "biblio.bib",
   "cite_by": "apalike",
   "current_citInitial": 1,
   "eqLabelWithNumbers": true,
   "eqNumInitial": 1,
   "hotkeys": {
    "equation": "Ctrl-E",
    "itemize": "Ctrl-I"
   },
   "labels_anchors": false,
   "latex_user_defs": false,
   "report_style_numbering": false,
   "user_envs_cfg": false
  },
  "mimetype": "text/x-python",
  "name": "python",
  "npconvert_exporter": "python",
  "pygments_lexer": "ipython3",
  "version": 3
 },
 "nbformat": 4,
 "nbformat_minor": 2
}
